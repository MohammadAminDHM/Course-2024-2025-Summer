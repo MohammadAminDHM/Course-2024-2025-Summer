{
 "cells": [
  {
   "cell_type": "markdown",
   "metadata": {},
   "source": [
    "# Math in AI"
   ]
  },
  {
   "cell_type": "markdown",
   "metadata": {},
   "source": [
    "## 1. Import Libraries"
   ]
  },
  {
   "cell_type": "code",
   "execution_count": null,
   "metadata": {},
   "outputs": [],
   "source": [
    "# Essential libraries for math in AI\n",
    "import numpy as np  # Fundamental package for scientific computing\n",
    "import scipy as sp  # Library for scientific and technical computing\n",
    "import pandas as pd  # Data analysis and manipulation library\n",
    "\n",
    "# Visualization libraries\n",
    "import matplotlib.pyplot as plt  # Plotting library\n",
    "import seaborn as sns  # Statistical data visualization library\n",
    "import plotly.express as px  # Interactive visualization library"
   ]
  },
  {
   "cell_type": "markdown",
   "metadata": {},
   "source": [
    "### 2.1 Make Dataset"
   ]
  },
  {
   "cell_type": "code",
   "execution_count": null,
   "metadata": {},
   "outputs": [],
   "source": [
    "np.random.seed(42)  # For reproducibility\n",
    "data = {\n",
    "    'Math': np.random.randint(0, 100, 50),\n",
    "    'Science': np.random.randint(0, 100, 50),\n",
    "    'English': np.random.randint(0, 100, 50)\n",
    "}\n",
    "df = pd.DataFrame(data)\n",
    "df.head()"
   ]
  },
  {
   "cell_type": "code",
   "execution_count": null,
   "metadata": {},
   "outputs": [],
   "source": [
    "### 2.2 Statistical Parameters\n",
    "\n",
    "#### 2.2.1 Explaination\n",
    "\n",
    "- **Mean:** $$\\mu = \\frac{1}{n} \\sum_{i=1}^{n} x_i$$\n",
    "- **Median:** The middle value when the data is sorted.\n",
    "- **Mode:** The value that appears most frequently in the dataset.\n",
    "- **Standard Deviation:** $$\\sigma = \\sqrt{\\frac{1}{n} \\sum_{i=1}^{n} (x_i - \\mu)^2}$$\n",
    "\n",
    "\n",
    "#### 2.2.2 Code\n",
    "\n",
    "# Mean\n",
    "mean_math = df['Math'].mean()\n",
    "print(f\"Mean of Math scores: {mean_math}\")\n",
    "\n",
    "# Median\n",
    "median_math = df['Math'].median()\n",
    "print(f\"Median of Math scores: {median_math}\")\n",
    "\n",
    "# Mode\n",
    "mode_math = df['Math'].mode()[0]\n",
    "print(f\"Mode of Math scores: {mode_math}\")\n",
    "\n",
    "# Standard Deviation\n",
    "std_math = df['Math'].std()\n",
    "print(f\"Standard Deviation of Math scores: {std_math}\")\n",
    "\n",
    "# Convert DataFrame column to NumPy array\n",
    "math_scores = df['Math'].to_numpy()\n",
    "\n",
    "# Mean\n",
    "mean_math = np.mean(math_scores)\n",
    "print(f\"Mean of Math scores: {mean_math}\")\n",
    "\n",
    "# Median\n",
    "median_math = np.median(math_scores)\n",
    "print(f\"Median of Math scores: {median_math}\")\n",
    "\n",
    "# Mode using SciPy\n",
    "mode_math = sp.stats.mode(math_scores)[0]\n",
    "print(f\"Mode of Math scores: {mode_math}\")\n",
    "\n",
    "# Standard Deviation\n",
    "std_math = np.std(math_scores)\n",
    "print(f\"Standard Deviation of Math scores: {std_math}\")\n",
    "\n",
    "#### 2.2.3 Visualization\n",
    "\n",
    "# Histogram for Math scores\n",
    "sns.histplot(df['Math'], bins=10, kde=True)\n",
    "plt.title('Histogram of Math Scores')\n",
    "plt.xlabel('Scores')\n",
    "plt.ylabel('Frequency')\n",
    "plt.show()\n",
    "\n",
    "# Boxplot for Math scores\n",
    "sns.boxplot(data=df, x='Math')\n",
    "plt.title('Boxplot of Math Scores')\n",
    "plt.ylabel('Scores')\n",
    "plt.show()\n",
    "\n",
    "fig = px.histogram(df, x='Math', nbins=10, title='Interactive Histogram of Math Scores', marginal=\"box\", histnorm='probability')\n",
    "fig.show()\n",
    "\n",
    "FM 1 : Calculate Statistical Parameters For Other Features And Write Explain About That Feature 🧑\n",
    "\n",
    "**Answer**\n",
    "\n",
    "FM 2: why numpy std and pandas std is difference?\n",
    "\n",
    "**Answer**"
   ]
  }
 ],
 "metadata": {
  "kernelspec": {
   "display_name": ".venv",
   "language": "python",
   "name": "python3"
  },
  "language_info": {
   "codemirror_mode": {
    "name": "ipython",
    "version": 3
   },
   "file_extension": ".py",
   "mimetype": "text/x-python",
   "name": "python",
   "nbconvert_exporter": "python",
   "pygments_lexer": "ipython3",
   "version": "3.11.3"
  }
 },
 "nbformat": 4,
 "nbformat_minor": 2
}
