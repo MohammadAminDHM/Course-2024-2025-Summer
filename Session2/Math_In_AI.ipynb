{
 "cells": [
  {
   "cell_type": "markdown",
   "metadata": {},
   "source": [
    "# Math in AI"
   ]
  },
  {
   "cell_type": "markdown",
   "metadata": {},
   "source": [
    "## 1. Import Libraries"
   ]
  },
  {
   "cell_type": "code",
   "execution_count": null,
   "metadata": {},
   "outputs": [],
   "source": [
    "# Essential libraries for math in AI\n",
    "import numpy as np  # Fundamental package for scientific computing\n",
    "import scipy as sp  # Library for scientific and technical computing\n",
    "import pandas as pd  # Data analysis and manipulation library\n",
    "\n",
    "# Visualization libraries\n",
    "import matplotlib.pyplot as plt  # Plotting library\n",
    "import seaborn as sns  # Statistical data visualization library\n",
    "import plotly.express as px  # Interactive visualization library"
   ]
  }
 ],
 "metadata": {
  "kernelspec": {
   "display_name": ".venv",
   "language": "python",
   "name": "python3"
  },
  "language_info": {
   "codemirror_mode": {
    "name": "ipython",
    "version": 3
   },
   "file_extension": ".py",
   "mimetype": "text/x-python",
   "name": "python",
   "nbconvert_exporter": "python",
   "pygments_lexer": "ipython3",
   "version": "3.11.3"
  }
 },
 "nbformat": 4,
 "nbformat_minor": 2
}
