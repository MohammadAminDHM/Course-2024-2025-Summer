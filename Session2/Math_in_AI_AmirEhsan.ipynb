{
  "nbformat": 4,
  "nbformat_minor": 0,
  "metadata": {
    "colab": {
      "provenance": [],
      "collapsed_sections": [
        "xh7hyka9Eswd",
        "S51su6c7FuXU",
        "PRPmGkHaTMHN"
      ],
      "toc_visible": true
    },
    "kernelspec": {
      "name": "python3",
      "display_name": "Python 3"
    },
    "language_info": {
      "name": "python"
    }
  },
  "cells": [
    {
      "cell_type": "markdown",
      "source": [
        "# Math in AI"
      ],
      "metadata": {
        "id": "D2md3KqZ2vJs"
      }
    },
    {
      "cell_type": "markdown",
      "source": [
        "## 1.Import Libraries"
      ],
      "metadata": {
        "id": "ezbFFxKD3Ew4"
      }
    },
    {
      "cell_type": "code",
      "source": [
        "!pip install qiskit"
      ],
      "metadata": {
        "colab": {
          "base_uri": "https://localhost:8080/"
        },
        "collapsed": true,
        "id": "YEBFMvQhmb5h",
        "outputId": "36390aef-55e3-4b3d-d0a2-51676870952e"
      },
      "execution_count": 1,
      "outputs": [
        {
          "output_type": "stream",
          "name": "stdout",
          "text": [
            "Collecting rustworkx>=0.14.0 (from qiskit)\n",
            "  Downloading rustworkx-0.15.1-cp38-abi3-manylinux_2_17_x86_64.manylinux2014_x86_64.whl (2.0 MB)\n",
            "\u001b[?25l     \u001b[90m━━━━━━━━━━━━━━━━━━━━━━━━━━━━━━━━━━━━━━━━\u001b[0m \u001b[32m0.0/2.0 MB\u001b[0m \u001b[31m?\u001b[0m eta \u001b[36m-:--:--\u001b[0m\r\u001b[2K     \u001b[91m━━━━━━━━━━━━━━━━━━━━━━━━━━━━━━━━━━━━━━━\u001b[0m\u001b[91m╸\u001b[0m \u001b[32m1.9/2.0 MB\u001b[0m \u001b[31m122.9 MB/s\u001b[0m eta \u001b[36m0:00:01\u001b[0m\r\u001b[2K     \u001b[90m━━━━━━━━━━━━━━━━━━━━━━━━━━━━━━━━━━━━━━━━\u001b[0m \u001b[32m2.0/2.0 MB\u001b[0m \u001b[31m45.6 MB/s\u001b[0m eta \u001b[36m0:00:00\u001b[0m\n",
            "\u001b[?25hRequirement already satisfied: numpy<3,>=1.17 in /usr/local/lib/python3.10/dist-packages (from qiskit) (1.25.2)\n",
            "Requirement already satisfied: scipy>=1.5 in /usr/local/lib/python3.10/dist-packages (from qiskit) (1.11.4)\n",
            "Requirement already satisfied: sympy>=1.3 in /usr/local/lib/python3.10/dist-packages (from qiskit) (1.12.1)\n",
            "Collecting dill>=0.3 (from qiskit)\n",
            "  Downloading dill-0.3.8-py3-none-any.whl (116 kB)\n",
            "\u001b[?25l     \u001b[90m━━━━━━━━━━━━━━━━━━━━━━━━━━━━━━━━━━━━━━━━\u001b[0m \u001b[32m0.0/116.3 kB\u001b[0m \u001b[31m?\u001b[0m eta \u001b[36m-:--:--\u001b[0m\r\u001b[2K     \u001b[90m━━━━━━━━━━━━━━━━━━━━━━━━━━━━━━━━━━━━━━━━\u001b[0m \u001b[32m116.3/116.3 kB\u001b[0m \u001b[31m12.9 MB/s\u001b[0m eta \u001b[36m0:00:00\u001b[0m\n",
            "\u001b[?25hRequirement already satisfied: python-dateutil>=2.8.0 in /usr/local/lib/python3.10/dist-packages (from qiskit) (2.8.2)\n",
            "Collecting stevedore>=3.0.0 (from qiskit)\n",
            "  Downloading stevedore-5.2.0-py3-none-any.whl (49 kB)\n",
            "\u001b[2K     \u001b[90m━━━━━━━━━━━━━━━━━━━━━━━━━━━━━━━━━━━━━━━━\u001b[0m \u001b[32m49.7/49.7 kB\u001b[0m \u001b[31m4.5 MB/s\u001b[0m eta \u001b[36m0:00:00\u001b[0m\n",
            "\u001b[?25hRequirement already satisfied: typing-extensions in /usr/local/lib/python3.10/dist-packages (from qiskit) (4.12.2)\n",
            "Collecting symengine>=0.11 (from qiskit)\n",
            "  Downloading symengine-0.11.0-cp310-cp310-manylinux_2_12_x86_64.manylinux2010_x86_64.whl (39.4 MB)\n",
            "\u001b[2K     \u001b[90m━━━━━━━━━━━━━━━━━━━━━━━━━━━━━━━━━━━━━━━━\u001b[0m \u001b[32m39.4/39.4 MB\u001b[0m \u001b[31m9.5 MB/s\u001b[0m eta \u001b[36m0:00:00\u001b[0m\n",
            "\u001b[?25hRequirement already satisfied: six>=1.5 in /usr/local/lib/python3.10/dist-packages (from python-dateutil>=2.8.0->qiskit) (1.16.0)\n",
            "Collecting pbr!=2.1.0,>=2.0.0 (from stevedore>=3.0.0->qiskit)\n",
            "  Downloading pbr-6.0.0-py2.py3-none-any.whl (107 kB)\n",
            "\u001b[2K     \u001b[90m━━━━━━━━━━━━━━━━━━━━━━━━━━━━━━━━━━━━━━━━\u001b[0m \u001b[32m107.5/107.5 kB\u001b[0m \u001b[31m7.8 MB/s\u001b[0m eta \u001b[36m0:00:00\u001b[0m\n",
            "\u001b[?25hRequirement already satisfied: mpmath<1.4.0,>=1.1.0 in /usr/local/lib/python3.10/dist-packages (from sympy>=1.3->qiskit) (1.3.0)\n",
            "Installing collected packages: symengine, rustworkx, pbr, dill, stevedore, qiskit\n",
            "Successfully installed dill-0.3.8 pbr-6.0.0 qiskit-1.1.1 rustworkx-0.15.1 stevedore-5.2.0 symengine-0.11.0\n"
          ]
        }
      ]
    },
    {
      "cell_type": "code",
      "source": [
        "# Essential libraries for math in AI\n",
        "import numpy as np  # Fundamental package for scientific computing\n",
        "import scipy as sp  # Library for scientific and technical computing\n",
        "import pandas as pd  # Data analysis and manipulation library\n",
        "\n",
        "# Visualization libraries\n",
        "import matplotlib.pyplot as plt  # Plotting library\n",
        "import seaborn as sns  # Statistical data visualization library\n",
        "import plotly.express as px  # Interactive visualization library\n",
        "\n",
        "# Linear algebra libraries\n",
        "import torch # Popular deep learning framework\n",
        "import tensorflow as tf  # Another popular deep learning framework\n",
        "\n",
        "# Optimization libraries\n",
        "import cvxpy as cp  # Convex optimization library\n",
        "import qiskit as qk  # Quantum computing library\n"
      ],
      "metadata": {
        "id": "rAEbNdCD3ITK"
      },
      "execution_count": 2,
      "outputs": []
    },
    {
      "cell_type": "markdown",
      "source": [
        "## 2.Statistical"
      ],
      "metadata": {
        "id": "1pbi6UBh2z-7"
      }
    },
    {
      "cell_type": "markdown",
      "source": [
        "### 2.1 Make Dataset"
      ],
      "metadata": {
        "id": "qy4rJEd36jnC"
      }
    },
    {
      "cell_type": "code",
      "source": [
        "np.random.seed(42)  # For reproducibility\n",
        "data = {\n",
        "    'Math': np.random.randint(0, 100, 50),\n",
        "    'Science': np.random.randint(0, 100, 50),\n",
        "    'English': np.random.randint(0, 100, 50)\n",
        "}\n",
        "df = pd.DataFrame(data)\n",
        "df.head()"
      ],
      "metadata": {
        "colab": {
          "base_uri": "https://localhost:8080/",
          "height": 206
        },
        "id": "VGrQ5DBT5FCE",
        "outputId": "28ce7664-b0ef-42c0-ec51-6d472f5771cc"
      },
      "execution_count": 3,
      "outputs": [
        {
          "output_type": "execute_result",
          "data": {
            "text/plain": [
              "   Math  Science  English\n",
              "0    51       17       25\n",
              "1    92        3       88\n",
              "2    14       88       59\n",
              "3    71       59       40\n",
              "4    60       13       28"
            ],
            "text/html": [
              "\n",
              "  <div id=\"df-7cf958a4-afec-492f-a703-913b4f97529f\" class=\"colab-df-container\">\n",
              "    <div>\n",
              "<style scoped>\n",
              "    .dataframe tbody tr th:only-of-type {\n",
              "        vertical-align: middle;\n",
              "    }\n",
              "\n",
              "    .dataframe tbody tr th {\n",
              "        vertical-align: top;\n",
              "    }\n",
              "\n",
              "    .dataframe thead th {\n",
              "        text-align: right;\n",
              "    }\n",
              "</style>\n",
              "<table border=\"1\" class=\"dataframe\">\n",
              "  <thead>\n",
              "    <tr style=\"text-align: right;\">\n",
              "      <th></th>\n",
              "      <th>Math</th>\n",
              "      <th>Science</th>\n",
              "      <th>English</th>\n",
              "    </tr>\n",
              "  </thead>\n",
              "  <tbody>\n",
              "    <tr>\n",
              "      <th>0</th>\n",
              "      <td>51</td>\n",
              "      <td>17</td>\n",
              "      <td>25</td>\n",
              "    </tr>\n",
              "    <tr>\n",
              "      <th>1</th>\n",
              "      <td>92</td>\n",
              "      <td>3</td>\n",
              "      <td>88</td>\n",
              "    </tr>\n",
              "    <tr>\n",
              "      <th>2</th>\n",
              "      <td>14</td>\n",
              "      <td>88</td>\n",
              "      <td>59</td>\n",
              "    </tr>\n",
              "    <tr>\n",
              "      <th>3</th>\n",
              "      <td>71</td>\n",
              "      <td>59</td>\n",
              "      <td>40</td>\n",
              "    </tr>\n",
              "    <tr>\n",
              "      <th>4</th>\n",
              "      <td>60</td>\n",
              "      <td>13</td>\n",
              "      <td>28</td>\n",
              "    </tr>\n",
              "  </tbody>\n",
              "</table>\n",
              "</div>\n",
              "    <div class=\"colab-df-buttons\">\n",
              "\n",
              "  <div class=\"colab-df-container\">\n",
              "    <button class=\"colab-df-convert\" onclick=\"convertToInteractive('df-7cf958a4-afec-492f-a703-913b4f97529f')\"\n",
              "            title=\"Convert this dataframe to an interactive table.\"\n",
              "            style=\"display:none;\">\n",
              "\n",
              "  <svg xmlns=\"http://www.w3.org/2000/svg\" height=\"24px\" viewBox=\"0 -960 960 960\">\n",
              "    <path d=\"M120-120v-720h720v720H120Zm60-500h600v-160H180v160Zm220 220h160v-160H400v160Zm0 220h160v-160H400v160ZM180-400h160v-160H180v160Zm440 0h160v-160H620v160ZM180-180h160v-160H180v160Zm440 0h160v-160H620v160Z\"/>\n",
              "  </svg>\n",
              "    </button>\n",
              "\n",
              "  <style>\n",
              "    .colab-df-container {\n",
              "      display:flex;\n",
              "      gap: 12px;\n",
              "    }\n",
              "\n",
              "    .colab-df-convert {\n",
              "      background-color: #E8F0FE;\n",
              "      border: none;\n",
              "      border-radius: 50%;\n",
              "      cursor: pointer;\n",
              "      display: none;\n",
              "      fill: #1967D2;\n",
              "      height: 32px;\n",
              "      padding: 0 0 0 0;\n",
              "      width: 32px;\n",
              "    }\n",
              "\n",
              "    .colab-df-convert:hover {\n",
              "      background-color: #E2EBFA;\n",
              "      box-shadow: 0px 1px 2px rgba(60, 64, 67, 0.3), 0px 1px 3px 1px rgba(60, 64, 67, 0.15);\n",
              "      fill: #174EA6;\n",
              "    }\n",
              "\n",
              "    .colab-df-buttons div {\n",
              "      margin-bottom: 4px;\n",
              "    }\n",
              "\n",
              "    [theme=dark] .colab-df-convert {\n",
              "      background-color: #3B4455;\n",
              "      fill: #D2E3FC;\n",
              "    }\n",
              "\n",
              "    [theme=dark] .colab-df-convert:hover {\n",
              "      background-color: #434B5C;\n",
              "      box-shadow: 0px 1px 3px 1px rgba(0, 0, 0, 0.15);\n",
              "      filter: drop-shadow(0px 1px 2px rgba(0, 0, 0, 0.3));\n",
              "      fill: #FFFFFF;\n",
              "    }\n",
              "  </style>\n",
              "\n",
              "    <script>\n",
              "      const buttonEl =\n",
              "        document.querySelector('#df-7cf958a4-afec-492f-a703-913b4f97529f button.colab-df-convert');\n",
              "      buttonEl.style.display =\n",
              "        google.colab.kernel.accessAllowed ? 'block' : 'none';\n",
              "\n",
              "      async function convertToInteractive(key) {\n",
              "        const element = document.querySelector('#df-7cf958a4-afec-492f-a703-913b4f97529f');\n",
              "        const dataTable =\n",
              "          await google.colab.kernel.invokeFunction('convertToInteractive',\n",
              "                                                    [key], {});\n",
              "        if (!dataTable) return;\n",
              "\n",
              "        const docLinkHtml = 'Like what you see? Visit the ' +\n",
              "          '<a target=\"_blank\" href=https://colab.research.google.com/notebooks/data_table.ipynb>data table notebook</a>'\n",
              "          + ' to learn more about interactive tables.';\n",
              "        element.innerHTML = '';\n",
              "        dataTable['output_type'] = 'display_data';\n",
              "        await google.colab.output.renderOutput(dataTable, element);\n",
              "        const docLink = document.createElement('div');\n",
              "        docLink.innerHTML = docLinkHtml;\n",
              "        element.appendChild(docLink);\n",
              "      }\n",
              "    </script>\n",
              "  </div>\n",
              "\n",
              "\n",
              "<div id=\"df-53d600c2-6acc-4be2-8603-6b6cd58f2837\">\n",
              "  <button class=\"colab-df-quickchart\" onclick=\"quickchart('df-53d600c2-6acc-4be2-8603-6b6cd58f2837')\"\n",
              "            title=\"Suggest charts\"\n",
              "            style=\"display:none;\">\n",
              "\n",
              "<svg xmlns=\"http://www.w3.org/2000/svg\" height=\"24px\"viewBox=\"0 0 24 24\"\n",
              "     width=\"24px\">\n",
              "    <g>\n",
              "        <path d=\"M19 3H5c-1.1 0-2 .9-2 2v14c0 1.1.9 2 2 2h14c1.1 0 2-.9 2-2V5c0-1.1-.9-2-2-2zM9 17H7v-7h2v7zm4 0h-2V7h2v10zm4 0h-2v-4h2v4z\"/>\n",
              "    </g>\n",
              "</svg>\n",
              "  </button>\n",
              "\n",
              "<style>\n",
              "  .colab-df-quickchart {\n",
              "      --bg-color: #E8F0FE;\n",
              "      --fill-color: #1967D2;\n",
              "      --hover-bg-color: #E2EBFA;\n",
              "      --hover-fill-color: #174EA6;\n",
              "      --disabled-fill-color: #AAA;\n",
              "      --disabled-bg-color: #DDD;\n",
              "  }\n",
              "\n",
              "  [theme=dark] .colab-df-quickchart {\n",
              "      --bg-color: #3B4455;\n",
              "      --fill-color: #D2E3FC;\n",
              "      --hover-bg-color: #434B5C;\n",
              "      --hover-fill-color: #FFFFFF;\n",
              "      --disabled-bg-color: #3B4455;\n",
              "      --disabled-fill-color: #666;\n",
              "  }\n",
              "\n",
              "  .colab-df-quickchart {\n",
              "    background-color: var(--bg-color);\n",
              "    border: none;\n",
              "    border-radius: 50%;\n",
              "    cursor: pointer;\n",
              "    display: none;\n",
              "    fill: var(--fill-color);\n",
              "    height: 32px;\n",
              "    padding: 0;\n",
              "    width: 32px;\n",
              "  }\n",
              "\n",
              "  .colab-df-quickchart:hover {\n",
              "    background-color: var(--hover-bg-color);\n",
              "    box-shadow: 0 1px 2px rgba(60, 64, 67, 0.3), 0 1px 3px 1px rgba(60, 64, 67, 0.15);\n",
              "    fill: var(--button-hover-fill-color);\n",
              "  }\n",
              "\n",
              "  .colab-df-quickchart-complete:disabled,\n",
              "  .colab-df-quickchart-complete:disabled:hover {\n",
              "    background-color: var(--disabled-bg-color);\n",
              "    fill: var(--disabled-fill-color);\n",
              "    box-shadow: none;\n",
              "  }\n",
              "\n",
              "  .colab-df-spinner {\n",
              "    border: 2px solid var(--fill-color);\n",
              "    border-color: transparent;\n",
              "    border-bottom-color: var(--fill-color);\n",
              "    animation:\n",
              "      spin 1s steps(1) infinite;\n",
              "  }\n",
              "\n",
              "  @keyframes spin {\n",
              "    0% {\n",
              "      border-color: transparent;\n",
              "      border-bottom-color: var(--fill-color);\n",
              "      border-left-color: var(--fill-color);\n",
              "    }\n",
              "    20% {\n",
              "      border-color: transparent;\n",
              "      border-left-color: var(--fill-color);\n",
              "      border-top-color: var(--fill-color);\n",
              "    }\n",
              "    30% {\n",
              "      border-color: transparent;\n",
              "      border-left-color: var(--fill-color);\n",
              "      border-top-color: var(--fill-color);\n",
              "      border-right-color: var(--fill-color);\n",
              "    }\n",
              "    40% {\n",
              "      border-color: transparent;\n",
              "      border-right-color: var(--fill-color);\n",
              "      border-top-color: var(--fill-color);\n",
              "    }\n",
              "    60% {\n",
              "      border-color: transparent;\n",
              "      border-right-color: var(--fill-color);\n",
              "    }\n",
              "    80% {\n",
              "      border-color: transparent;\n",
              "      border-right-color: var(--fill-color);\n",
              "      border-bottom-color: var(--fill-color);\n",
              "    }\n",
              "    90% {\n",
              "      border-color: transparent;\n",
              "      border-bottom-color: var(--fill-color);\n",
              "    }\n",
              "  }\n",
              "</style>\n",
              "\n",
              "  <script>\n",
              "    async function quickchart(key) {\n",
              "      const quickchartButtonEl =\n",
              "        document.querySelector('#' + key + ' button');\n",
              "      quickchartButtonEl.disabled = true;  // To prevent multiple clicks.\n",
              "      quickchartButtonEl.classList.add('colab-df-spinner');\n",
              "      try {\n",
              "        const charts = await google.colab.kernel.invokeFunction(\n",
              "            'suggestCharts', [key], {});\n",
              "      } catch (error) {\n",
              "        console.error('Error during call to suggestCharts:', error);\n",
              "      }\n",
              "      quickchartButtonEl.classList.remove('colab-df-spinner');\n",
              "      quickchartButtonEl.classList.add('colab-df-quickchart-complete');\n",
              "    }\n",
              "    (() => {\n",
              "      let quickchartButtonEl =\n",
              "        document.querySelector('#df-53d600c2-6acc-4be2-8603-6b6cd58f2837 button');\n",
              "      quickchartButtonEl.style.display =\n",
              "        google.colab.kernel.accessAllowed ? 'block' : 'none';\n",
              "    })();\n",
              "  </script>\n",
              "</div>\n",
              "    </div>\n",
              "  </div>\n"
            ],
            "application/vnd.google.colaboratory.intrinsic+json": {
              "type": "dataframe",
              "variable_name": "df",
              "summary": "{\n  \"name\": \"df\",\n  \"rows\": 50,\n  \"fields\": [\n    {\n      \"column\": \"Math\",\n      \"properties\": {\n        \"dtype\": \"number\",\n        \"std\": 28,\n        \"min\": 1,\n        \"max\": 99,\n        \"num_unique_values\": 37,\n        \"samples\": [\n          37,\n          21,\n          60\n        ],\n        \"semantic_type\": \"\",\n        \"description\": \"\"\n      }\n    },\n    {\n      \"column\": \"Science\",\n      \"properties\": {\n        \"dtype\": \"number\",\n        \"std\": 30,\n        \"min\": 1,\n        \"max\": 99,\n        \"num_unique_values\": 38,\n        \"samples\": [\n          39,\n          81,\n          13\n        ],\n        \"semantic_type\": \"\",\n        \"description\": \"\"\n      }\n    },\n    {\n      \"column\": \"English\",\n      \"properties\": {\n        \"dtype\": \"number\",\n        \"std\": 31,\n        \"min\": 0,\n        \"max\": 98,\n        \"num_unique_values\": 38,\n        \"samples\": [\n          46,\n          89,\n          28\n        ],\n        \"semantic_type\": \"\",\n        \"description\": \"\"\n      }\n    }\n  ]\n}"
            }
          },
          "metadata": {},
          "execution_count": 3
        }
      ]
    },
    {
      "cell_type": "code",
      "source": [
        "data"
      ],
      "metadata": {
        "colab": {
          "base_uri": "https://localhost:8080/"
        },
        "id": "RHGJ20VeD4e4",
        "outputId": "690b1309-f83d-40f3-c16b-e981dafcf135"
      },
      "execution_count": 4,
      "outputs": [
        {
          "output_type": "execute_result",
          "data": {
            "text/plain": [
              "{'Math': array([51, 92, 14, 71, 60, 20, 82, 86, 74, 74, 87, 99, 23,  2, 21, 52,  1,\n",
              "        87, 29, 37,  1, 63, 59, 20, 32, 75, 57, 21, 88, 48, 90, 58, 41, 91,\n",
              "        59, 79, 14, 61, 61, 46, 61, 50, 54, 63,  2, 50,  6, 20, 72, 38]),\n",
              " 'Science': array([17,  3, 88, 59, 13,  8, 89, 52,  1, 83, 91, 59, 70, 43,  7, 46, 34,\n",
              "        77, 80, 35, 49,  3,  1,  5, 53,  3, 53, 92, 62, 17, 89, 43, 33, 73,\n",
              "        61, 99, 13, 94, 47, 14, 71, 77, 86, 61, 39, 84, 79, 81, 52, 23]),\n",
              " 'English': array([25, 88, 59, 40, 28, 14, 44, 64, 88, 70,  8, 87,  0,  7, 87, 62, 10,\n",
              "        80,  7, 34, 34, 32,  4, 40, 27,  6, 72, 71, 11, 33, 32, 47, 22, 61,\n",
              "        87, 36, 98, 43, 85, 90, 34, 64, 98, 46, 77,  2,  0,  4, 89, 13])}"
            ]
          },
          "metadata": {},
          "execution_count": 4
        }
      ]
    },
    {
      "cell_type": "code",
      "source": [
        "df"
      ],
      "metadata": {
        "colab": {
          "base_uri": "https://localhost:8080/",
          "height": 1000
        },
        "id": "cm_8YZCrD8e1",
        "outputId": "75ca9f20-c7e5-406d-fec7-35e4b89c47e6"
      },
      "execution_count": 5,
      "outputs": [
        {
          "output_type": "execute_result",
          "data": {
            "text/plain": [
              "    Math  Science  English\n",
              "0     51       17       25\n",
              "1     92        3       88\n",
              "2     14       88       59\n",
              "3     71       59       40\n",
              "4     60       13       28\n",
              "5     20        8       14\n",
              "6     82       89       44\n",
              "7     86       52       64\n",
              "8     74        1       88\n",
              "9     74       83       70\n",
              "10    87       91        8\n",
              "11    99       59       87\n",
              "12    23       70        0\n",
              "13     2       43        7\n",
              "14    21        7       87\n",
              "15    52       46       62\n",
              "16     1       34       10\n",
              "17    87       77       80\n",
              "18    29       80        7\n",
              "19    37       35       34\n",
              "20     1       49       34\n",
              "21    63        3       32\n",
              "22    59        1        4\n",
              "23    20        5       40\n",
              "24    32       53       27\n",
              "25    75        3        6\n",
              "26    57       53       72\n",
              "27    21       92       71\n",
              "28    88       62       11\n",
              "29    48       17       33\n",
              "30    90       89       32\n",
              "31    58       43       47\n",
              "32    41       33       22\n",
              "33    91       73       61\n",
              "34    59       61       87\n",
              "35    79       99       36\n",
              "36    14       13       98\n",
              "37    61       94       43\n",
              "38    61       47       85\n",
              "39    46       14       90\n",
              "40    61       71       34\n",
              "41    50       77       64\n",
              "42    54       86       98\n",
              "43    63       61       46\n",
              "44     2       39       77\n",
              "45    50       84        2\n",
              "46     6       79        0\n",
              "47    20       81        4\n",
              "48    72       52       89\n",
              "49    38       23       13"
            ],
            "text/html": [
              "\n",
              "  <div id=\"df-80e76056-0dce-4151-b838-0cd3c3aa7630\" class=\"colab-df-container\">\n",
              "    <div>\n",
              "<style scoped>\n",
              "    .dataframe tbody tr th:only-of-type {\n",
              "        vertical-align: middle;\n",
              "    }\n",
              "\n",
              "    .dataframe tbody tr th {\n",
              "        vertical-align: top;\n",
              "    }\n",
              "\n",
              "    .dataframe thead th {\n",
              "        text-align: right;\n",
              "    }\n",
              "</style>\n",
              "<table border=\"1\" class=\"dataframe\">\n",
              "  <thead>\n",
              "    <tr style=\"text-align: right;\">\n",
              "      <th></th>\n",
              "      <th>Math</th>\n",
              "      <th>Science</th>\n",
              "      <th>English</th>\n",
              "    </tr>\n",
              "  </thead>\n",
              "  <tbody>\n",
              "    <tr>\n",
              "      <th>0</th>\n",
              "      <td>51</td>\n",
              "      <td>17</td>\n",
              "      <td>25</td>\n",
              "    </tr>\n",
              "    <tr>\n",
              "      <th>1</th>\n",
              "      <td>92</td>\n",
              "      <td>3</td>\n",
              "      <td>88</td>\n",
              "    </tr>\n",
              "    <tr>\n",
              "      <th>2</th>\n",
              "      <td>14</td>\n",
              "      <td>88</td>\n",
              "      <td>59</td>\n",
              "    </tr>\n",
              "    <tr>\n",
              "      <th>3</th>\n",
              "      <td>71</td>\n",
              "      <td>59</td>\n",
              "      <td>40</td>\n",
              "    </tr>\n",
              "    <tr>\n",
              "      <th>4</th>\n",
              "      <td>60</td>\n",
              "      <td>13</td>\n",
              "      <td>28</td>\n",
              "    </tr>\n",
              "    <tr>\n",
              "      <th>5</th>\n",
              "      <td>20</td>\n",
              "      <td>8</td>\n",
              "      <td>14</td>\n",
              "    </tr>\n",
              "    <tr>\n",
              "      <th>6</th>\n",
              "      <td>82</td>\n",
              "      <td>89</td>\n",
              "      <td>44</td>\n",
              "    </tr>\n",
              "    <tr>\n",
              "      <th>7</th>\n",
              "      <td>86</td>\n",
              "      <td>52</td>\n",
              "      <td>64</td>\n",
              "    </tr>\n",
              "    <tr>\n",
              "      <th>8</th>\n",
              "      <td>74</td>\n",
              "      <td>1</td>\n",
              "      <td>88</td>\n",
              "    </tr>\n",
              "    <tr>\n",
              "      <th>9</th>\n",
              "      <td>74</td>\n",
              "      <td>83</td>\n",
              "      <td>70</td>\n",
              "    </tr>\n",
              "    <tr>\n",
              "      <th>10</th>\n",
              "      <td>87</td>\n",
              "      <td>91</td>\n",
              "      <td>8</td>\n",
              "    </tr>\n",
              "    <tr>\n",
              "      <th>11</th>\n",
              "      <td>99</td>\n",
              "      <td>59</td>\n",
              "      <td>87</td>\n",
              "    </tr>\n",
              "    <tr>\n",
              "      <th>12</th>\n",
              "      <td>23</td>\n",
              "      <td>70</td>\n",
              "      <td>0</td>\n",
              "    </tr>\n",
              "    <tr>\n",
              "      <th>13</th>\n",
              "      <td>2</td>\n",
              "      <td>43</td>\n",
              "      <td>7</td>\n",
              "    </tr>\n",
              "    <tr>\n",
              "      <th>14</th>\n",
              "      <td>21</td>\n",
              "      <td>7</td>\n",
              "      <td>87</td>\n",
              "    </tr>\n",
              "    <tr>\n",
              "      <th>15</th>\n",
              "      <td>52</td>\n",
              "      <td>46</td>\n",
              "      <td>62</td>\n",
              "    </tr>\n",
              "    <tr>\n",
              "      <th>16</th>\n",
              "      <td>1</td>\n",
              "      <td>34</td>\n",
              "      <td>10</td>\n",
              "    </tr>\n",
              "    <tr>\n",
              "      <th>17</th>\n",
              "      <td>87</td>\n",
              "      <td>77</td>\n",
              "      <td>80</td>\n",
              "    </tr>\n",
              "    <tr>\n",
              "      <th>18</th>\n",
              "      <td>29</td>\n",
              "      <td>80</td>\n",
              "      <td>7</td>\n",
              "    </tr>\n",
              "    <tr>\n",
              "      <th>19</th>\n",
              "      <td>37</td>\n",
              "      <td>35</td>\n",
              "      <td>34</td>\n",
              "    </tr>\n",
              "    <tr>\n",
              "      <th>20</th>\n",
              "      <td>1</td>\n",
              "      <td>49</td>\n",
              "      <td>34</td>\n",
              "    </tr>\n",
              "    <tr>\n",
              "      <th>21</th>\n",
              "      <td>63</td>\n",
              "      <td>3</td>\n",
              "      <td>32</td>\n",
              "    </tr>\n",
              "    <tr>\n",
              "      <th>22</th>\n",
              "      <td>59</td>\n",
              "      <td>1</td>\n",
              "      <td>4</td>\n",
              "    </tr>\n",
              "    <tr>\n",
              "      <th>23</th>\n",
              "      <td>20</td>\n",
              "      <td>5</td>\n",
              "      <td>40</td>\n",
              "    </tr>\n",
              "    <tr>\n",
              "      <th>24</th>\n",
              "      <td>32</td>\n",
              "      <td>53</td>\n",
              "      <td>27</td>\n",
              "    </tr>\n",
              "    <tr>\n",
              "      <th>25</th>\n",
              "      <td>75</td>\n",
              "      <td>3</td>\n",
              "      <td>6</td>\n",
              "    </tr>\n",
              "    <tr>\n",
              "      <th>26</th>\n",
              "      <td>57</td>\n",
              "      <td>53</td>\n",
              "      <td>72</td>\n",
              "    </tr>\n",
              "    <tr>\n",
              "      <th>27</th>\n",
              "      <td>21</td>\n",
              "      <td>92</td>\n",
              "      <td>71</td>\n",
              "    </tr>\n",
              "    <tr>\n",
              "      <th>28</th>\n",
              "      <td>88</td>\n",
              "      <td>62</td>\n",
              "      <td>11</td>\n",
              "    </tr>\n",
              "    <tr>\n",
              "      <th>29</th>\n",
              "      <td>48</td>\n",
              "      <td>17</td>\n",
              "      <td>33</td>\n",
              "    </tr>\n",
              "    <tr>\n",
              "      <th>30</th>\n",
              "      <td>90</td>\n",
              "      <td>89</td>\n",
              "      <td>32</td>\n",
              "    </tr>\n",
              "    <tr>\n",
              "      <th>31</th>\n",
              "      <td>58</td>\n",
              "      <td>43</td>\n",
              "      <td>47</td>\n",
              "    </tr>\n",
              "    <tr>\n",
              "      <th>32</th>\n",
              "      <td>41</td>\n",
              "      <td>33</td>\n",
              "      <td>22</td>\n",
              "    </tr>\n",
              "    <tr>\n",
              "      <th>33</th>\n",
              "      <td>91</td>\n",
              "      <td>73</td>\n",
              "      <td>61</td>\n",
              "    </tr>\n",
              "    <tr>\n",
              "      <th>34</th>\n",
              "      <td>59</td>\n",
              "      <td>61</td>\n",
              "      <td>87</td>\n",
              "    </tr>\n",
              "    <tr>\n",
              "      <th>35</th>\n",
              "      <td>79</td>\n",
              "      <td>99</td>\n",
              "      <td>36</td>\n",
              "    </tr>\n",
              "    <tr>\n",
              "      <th>36</th>\n",
              "      <td>14</td>\n",
              "      <td>13</td>\n",
              "      <td>98</td>\n",
              "    </tr>\n",
              "    <tr>\n",
              "      <th>37</th>\n",
              "      <td>61</td>\n",
              "      <td>94</td>\n",
              "      <td>43</td>\n",
              "    </tr>\n",
              "    <tr>\n",
              "      <th>38</th>\n",
              "      <td>61</td>\n",
              "      <td>47</td>\n",
              "      <td>85</td>\n",
              "    </tr>\n",
              "    <tr>\n",
              "      <th>39</th>\n",
              "      <td>46</td>\n",
              "      <td>14</td>\n",
              "      <td>90</td>\n",
              "    </tr>\n",
              "    <tr>\n",
              "      <th>40</th>\n",
              "      <td>61</td>\n",
              "      <td>71</td>\n",
              "      <td>34</td>\n",
              "    </tr>\n",
              "    <tr>\n",
              "      <th>41</th>\n",
              "      <td>50</td>\n",
              "      <td>77</td>\n",
              "      <td>64</td>\n",
              "    </tr>\n",
              "    <tr>\n",
              "      <th>42</th>\n",
              "      <td>54</td>\n",
              "      <td>86</td>\n",
              "      <td>98</td>\n",
              "    </tr>\n",
              "    <tr>\n",
              "      <th>43</th>\n",
              "      <td>63</td>\n",
              "      <td>61</td>\n",
              "      <td>46</td>\n",
              "    </tr>\n",
              "    <tr>\n",
              "      <th>44</th>\n",
              "      <td>2</td>\n",
              "      <td>39</td>\n",
              "      <td>77</td>\n",
              "    </tr>\n",
              "    <tr>\n",
              "      <th>45</th>\n",
              "      <td>50</td>\n",
              "      <td>84</td>\n",
              "      <td>2</td>\n",
              "    </tr>\n",
              "    <tr>\n",
              "      <th>46</th>\n",
              "      <td>6</td>\n",
              "      <td>79</td>\n",
              "      <td>0</td>\n",
              "    </tr>\n",
              "    <tr>\n",
              "      <th>47</th>\n",
              "      <td>20</td>\n",
              "      <td>81</td>\n",
              "      <td>4</td>\n",
              "    </tr>\n",
              "    <tr>\n",
              "      <th>48</th>\n",
              "      <td>72</td>\n",
              "      <td>52</td>\n",
              "      <td>89</td>\n",
              "    </tr>\n",
              "    <tr>\n",
              "      <th>49</th>\n",
              "      <td>38</td>\n",
              "      <td>23</td>\n",
              "      <td>13</td>\n",
              "    </tr>\n",
              "  </tbody>\n",
              "</table>\n",
              "</div>\n",
              "    <div class=\"colab-df-buttons\">\n",
              "\n",
              "  <div class=\"colab-df-container\">\n",
              "    <button class=\"colab-df-convert\" onclick=\"convertToInteractive('df-80e76056-0dce-4151-b838-0cd3c3aa7630')\"\n",
              "            title=\"Convert this dataframe to an interactive table.\"\n",
              "            style=\"display:none;\">\n",
              "\n",
              "  <svg xmlns=\"http://www.w3.org/2000/svg\" height=\"24px\" viewBox=\"0 -960 960 960\">\n",
              "    <path d=\"M120-120v-720h720v720H120Zm60-500h600v-160H180v160Zm220 220h160v-160H400v160Zm0 220h160v-160H400v160ZM180-400h160v-160H180v160Zm440 0h160v-160H620v160ZM180-180h160v-160H180v160Zm440 0h160v-160H620v160Z\"/>\n",
              "  </svg>\n",
              "    </button>\n",
              "\n",
              "  <style>\n",
              "    .colab-df-container {\n",
              "      display:flex;\n",
              "      gap: 12px;\n",
              "    }\n",
              "\n",
              "    .colab-df-convert {\n",
              "      background-color: #E8F0FE;\n",
              "      border: none;\n",
              "      border-radius: 50%;\n",
              "      cursor: pointer;\n",
              "      display: none;\n",
              "      fill: #1967D2;\n",
              "      height: 32px;\n",
              "      padding: 0 0 0 0;\n",
              "      width: 32px;\n",
              "    }\n",
              "\n",
              "    .colab-df-convert:hover {\n",
              "      background-color: #E2EBFA;\n",
              "      box-shadow: 0px 1px 2px rgba(60, 64, 67, 0.3), 0px 1px 3px 1px rgba(60, 64, 67, 0.15);\n",
              "      fill: #174EA6;\n",
              "    }\n",
              "\n",
              "    .colab-df-buttons div {\n",
              "      margin-bottom: 4px;\n",
              "    }\n",
              "\n",
              "    [theme=dark] .colab-df-convert {\n",
              "      background-color: #3B4455;\n",
              "      fill: #D2E3FC;\n",
              "    }\n",
              "\n",
              "    [theme=dark] .colab-df-convert:hover {\n",
              "      background-color: #434B5C;\n",
              "      box-shadow: 0px 1px 3px 1px rgba(0, 0, 0, 0.15);\n",
              "      filter: drop-shadow(0px 1px 2px rgba(0, 0, 0, 0.3));\n",
              "      fill: #FFFFFF;\n",
              "    }\n",
              "  </style>\n",
              "\n",
              "    <script>\n",
              "      const buttonEl =\n",
              "        document.querySelector('#df-80e76056-0dce-4151-b838-0cd3c3aa7630 button.colab-df-convert');\n",
              "      buttonEl.style.display =\n",
              "        google.colab.kernel.accessAllowed ? 'block' : 'none';\n",
              "\n",
              "      async function convertToInteractive(key) {\n",
              "        const element = document.querySelector('#df-80e76056-0dce-4151-b838-0cd3c3aa7630');\n",
              "        const dataTable =\n",
              "          await google.colab.kernel.invokeFunction('convertToInteractive',\n",
              "                                                    [key], {});\n",
              "        if (!dataTable) return;\n",
              "\n",
              "        const docLinkHtml = 'Like what you see? Visit the ' +\n",
              "          '<a target=\"_blank\" href=https://colab.research.google.com/notebooks/data_table.ipynb>data table notebook</a>'\n",
              "          + ' to learn more about interactive tables.';\n",
              "        element.innerHTML = '';\n",
              "        dataTable['output_type'] = 'display_data';\n",
              "        await google.colab.output.renderOutput(dataTable, element);\n",
              "        const docLink = document.createElement('div');\n",
              "        docLink.innerHTML = docLinkHtml;\n",
              "        element.appendChild(docLink);\n",
              "      }\n",
              "    </script>\n",
              "  </div>\n",
              "\n",
              "\n",
              "<div id=\"df-65c0a71d-c6be-4620-9403-9038e7d0e60b\">\n",
              "  <button class=\"colab-df-quickchart\" onclick=\"quickchart('df-65c0a71d-c6be-4620-9403-9038e7d0e60b')\"\n",
              "            title=\"Suggest charts\"\n",
              "            style=\"display:none;\">\n",
              "\n",
              "<svg xmlns=\"http://www.w3.org/2000/svg\" height=\"24px\"viewBox=\"0 0 24 24\"\n",
              "     width=\"24px\">\n",
              "    <g>\n",
              "        <path d=\"M19 3H5c-1.1 0-2 .9-2 2v14c0 1.1.9 2 2 2h14c1.1 0 2-.9 2-2V5c0-1.1-.9-2-2-2zM9 17H7v-7h2v7zm4 0h-2V7h2v10zm4 0h-2v-4h2v4z\"/>\n",
              "    </g>\n",
              "</svg>\n",
              "  </button>\n",
              "\n",
              "<style>\n",
              "  .colab-df-quickchart {\n",
              "      --bg-color: #E8F0FE;\n",
              "      --fill-color: #1967D2;\n",
              "      --hover-bg-color: #E2EBFA;\n",
              "      --hover-fill-color: #174EA6;\n",
              "      --disabled-fill-color: #AAA;\n",
              "      --disabled-bg-color: #DDD;\n",
              "  }\n",
              "\n",
              "  [theme=dark] .colab-df-quickchart {\n",
              "      --bg-color: #3B4455;\n",
              "      --fill-color: #D2E3FC;\n",
              "      --hover-bg-color: #434B5C;\n",
              "      --hover-fill-color: #FFFFFF;\n",
              "      --disabled-bg-color: #3B4455;\n",
              "      --disabled-fill-color: #666;\n",
              "  }\n",
              "\n",
              "  .colab-df-quickchart {\n",
              "    background-color: var(--bg-color);\n",
              "    border: none;\n",
              "    border-radius: 50%;\n",
              "    cursor: pointer;\n",
              "    display: none;\n",
              "    fill: var(--fill-color);\n",
              "    height: 32px;\n",
              "    padding: 0;\n",
              "    width: 32px;\n",
              "  }\n",
              "\n",
              "  .colab-df-quickchart:hover {\n",
              "    background-color: var(--hover-bg-color);\n",
              "    box-shadow: 0 1px 2px rgba(60, 64, 67, 0.3), 0 1px 3px 1px rgba(60, 64, 67, 0.15);\n",
              "    fill: var(--button-hover-fill-color);\n",
              "  }\n",
              "\n",
              "  .colab-df-quickchart-complete:disabled,\n",
              "  .colab-df-quickchart-complete:disabled:hover {\n",
              "    background-color: var(--disabled-bg-color);\n",
              "    fill: var(--disabled-fill-color);\n",
              "    box-shadow: none;\n",
              "  }\n",
              "\n",
              "  .colab-df-spinner {\n",
              "    border: 2px solid var(--fill-color);\n",
              "    border-color: transparent;\n",
              "    border-bottom-color: var(--fill-color);\n",
              "    animation:\n",
              "      spin 1s steps(1) infinite;\n",
              "  }\n",
              "\n",
              "  @keyframes spin {\n",
              "    0% {\n",
              "      border-color: transparent;\n",
              "      border-bottom-color: var(--fill-color);\n",
              "      border-left-color: var(--fill-color);\n",
              "    }\n",
              "    20% {\n",
              "      border-color: transparent;\n",
              "      border-left-color: var(--fill-color);\n",
              "      border-top-color: var(--fill-color);\n",
              "    }\n",
              "    30% {\n",
              "      border-color: transparent;\n",
              "      border-left-color: var(--fill-color);\n",
              "      border-top-color: var(--fill-color);\n",
              "      border-right-color: var(--fill-color);\n",
              "    }\n",
              "    40% {\n",
              "      border-color: transparent;\n",
              "      border-right-color: var(--fill-color);\n",
              "      border-top-color: var(--fill-color);\n",
              "    }\n",
              "    60% {\n",
              "      border-color: transparent;\n",
              "      border-right-color: var(--fill-color);\n",
              "    }\n",
              "    80% {\n",
              "      border-color: transparent;\n",
              "      border-right-color: var(--fill-color);\n",
              "      border-bottom-color: var(--fill-color);\n",
              "    }\n",
              "    90% {\n",
              "      border-color: transparent;\n",
              "      border-bottom-color: var(--fill-color);\n",
              "    }\n",
              "  }\n",
              "</style>\n",
              "\n",
              "  <script>\n",
              "    async function quickchart(key) {\n",
              "      const quickchartButtonEl =\n",
              "        document.querySelector('#' + key + ' button');\n",
              "      quickchartButtonEl.disabled = true;  // To prevent multiple clicks.\n",
              "      quickchartButtonEl.classList.add('colab-df-spinner');\n",
              "      try {\n",
              "        const charts = await google.colab.kernel.invokeFunction(\n",
              "            'suggestCharts', [key], {});\n",
              "      } catch (error) {\n",
              "        console.error('Error during call to suggestCharts:', error);\n",
              "      }\n",
              "      quickchartButtonEl.classList.remove('colab-df-spinner');\n",
              "      quickchartButtonEl.classList.add('colab-df-quickchart-complete');\n",
              "    }\n",
              "    (() => {\n",
              "      let quickchartButtonEl =\n",
              "        document.querySelector('#df-65c0a71d-c6be-4620-9403-9038e7d0e60b button');\n",
              "      quickchartButtonEl.style.display =\n",
              "        google.colab.kernel.accessAllowed ? 'block' : 'none';\n",
              "    })();\n",
              "  </script>\n",
              "</div>\n",
              "    </div>\n",
              "  </div>\n"
            ],
            "application/vnd.google.colaboratory.intrinsic+json": {
              "type": "dataframe",
              "variable_name": "df",
              "summary": "{\n  \"name\": \"df\",\n  \"rows\": 50,\n  \"fields\": [\n    {\n      \"column\": \"Math\",\n      \"properties\": {\n        \"dtype\": \"number\",\n        \"std\": 28,\n        \"min\": 1,\n        \"max\": 99,\n        \"num_unique_values\": 37,\n        \"samples\": [\n          37,\n          21,\n          60\n        ],\n        \"semantic_type\": \"\",\n        \"description\": \"\"\n      }\n    },\n    {\n      \"column\": \"Science\",\n      \"properties\": {\n        \"dtype\": \"number\",\n        \"std\": 30,\n        \"min\": 1,\n        \"max\": 99,\n        \"num_unique_values\": 38,\n        \"samples\": [\n          39,\n          81,\n          13\n        ],\n        \"semantic_type\": \"\",\n        \"description\": \"\"\n      }\n    },\n    {\n      \"column\": \"English\",\n      \"properties\": {\n        \"dtype\": \"number\",\n        \"std\": 31,\n        \"min\": 0,\n        \"max\": 98,\n        \"num_unique_values\": 38,\n        \"samples\": [\n          46,\n          89,\n          28\n        ],\n        \"semantic_type\": \"\",\n        \"description\": \"\"\n      }\n    }\n  ]\n}"
            }
          },
          "metadata": {},
          "execution_count": 5
        }
      ]
    },
    {
      "source": [
        "# @title Math\n",
        "\n",
        "from matplotlib import pyplot as plt\n",
        "df['Math'].plot(kind='hist', bins=20, title='Math')\n",
        "plt.gca().spines[['top', 'right',]].set_visible(False)"
      ],
      "cell_type": "code",
      "execution_count": 6,
      "outputs": [
        {
          "output_type": "display_data",
          "data": {
            "text/plain": [
              "<Figure size 640x480 with 1 Axes>"
            ],
            "image/png": "[encoded data removed]"
          },
          "metadata": {}
        }
      ],
      "metadata": {
        "colab": {
          "base_uri": "https://localhost:8080/",
          "height": 452
        },
        "id": "XXuWYsBmELVM",
        "outputId": "fe663249-04ae-4557-9e86-bcb956af43bb"
      }
    },
    {
      "cell_type": "markdown",
      "source": [
        "### 2.2 Statistical Parameters"
      ],
      "metadata": {
        "id": "f0e03thu7ftv"
      }
    },
    {
      "cell_type": "markdown",
      "source": [
        "#### 2.2.1 Explaination"
      ],
      "metadata": {
        "id": "XdML8kpdzdgD"
      }
    },
    {
      "cell_type": "markdown",
      "source": [
        "- **Mean:** $$\\mu = \\frac{1}{n} \\sum_{i=1}^{n} x_i$$\n",
        "- **Median:** The middle value when the data is sorted.\n",
        "- **Mode:** The value that appears most frequently in the dataset.\n",
        "- **Standard Deviation:** $$\\sigma = \\sqrt{\\frac{1}{n} \\sum_{i=1}^{n} (x_i - \\mu)^2}$$\n"
      ],
      "metadata": {
        "id": "tWUwVYF27w0A"
      }
    },
    {
      "cell_type": "markdown",
      "source": [
        "#### 2.2.2 Code"
      ],
      "metadata": {
        "id": "Cy7dnBEZCXoO"
      }
    },
    {
      "cell_type": "code",
      "source": [
        "# Mean\n",
        "mean_math = df['Math'].mean()\n",
        "print(f\"Mean of Math scores: {mean_math}\")\n",
        "\n",
        "# Median\n",
        "median_math = df['Math'].median()\n",
        "print(f\"Median of Math scores: {median_math}\")\n",
        "\n",
        "# Mode\n",
        "mode_math = df['Math'].mode()[0]\n",
        "print(f\"Mode of Math scores: {mode_math}\")\n",
        "\n",
        "# Standard Deviation\n",
        "std_math = df['Math'].std()\n",
        "print(f\"Standard Deviation of Math scores: {std_math}\")"
      ],
      "metadata": {
        "colab": {
          "base_uri": "https://localhost:8080/"
        },
        "id": "3Qxc6HRo7vJ9",
        "outputId": "89f15cff-b65f-44f7-d150-927166d617a0"
      },
      "execution_count": 7,
      "outputs": [
        {
          "output_type": "stream",
          "name": "stdout",
          "text": [
            "Mean of Math scores: 50.84\n",
            "Median of Math scores: 55.5\n",
            "Mode of Math scores: 20\n",
            "Standard Deviation of Math scores: 28.132601467090144\n"
          ]
        }
      ]
    },
    {
      "cell_type": "code",
      "source": [
        "# Convert DataFrame column to NumPy array\n",
        "math_scores = df['Math'].to_numpy()\n",
        "\n",
        "# Mean\n",
        "mean_math = np.mean(math_scores)\n",
        "print(f\"Mean of Math scores: {mean_math}\")\n",
        "\n",
        "# Median\n",
        "median_math = np.median(math_scores)\n",
        "print(f\"Median of Math scores: {median_math}\")\n",
        "\n",
        "# Mode using SciPy\n",
        "mode_math = sp.stats.mode(math_scores)[0]\n",
        "print(f\"Mode of Math scores: {mode_math}\")\n",
        "\n",
        "# Standard Deviation\n",
        "std_math = np.std(math_scores)\n",
        "print(f\"Standard Deviation of Math scores: {std_math}\")"
      ],
      "metadata": {
        "colab": {
          "base_uri": "https://localhost:8080/"
        },
        "id": "liMOOR2iA4zB",
        "outputId": "b9d71085-1fc7-4fb1-d6f6-592ce01b91f4"
      },
      "execution_count": 8,
      "outputs": [
        {
          "output_type": "stream",
          "name": "stdout",
          "text": [
            "Mean of Math scores: 50.84\n",
            "Median of Math scores: 55.5\n",
            "Mode of Math scores: 20\n",
            "Standard Deviation of Math scores: 27.849854577717277\n"
          ]
        }
      ]
    },
    {
      "cell_type": "markdown",
      "source": [
        "#### 2.2.3 Visualization"
      ],
      "metadata": {
        "id": "D5Ytq5gcCh_a"
      }
    },
    {
      "cell_type": "code",
      "source": [
        "# Histogram for Math scores\n",
        "sns.histplot(df['Math'], bins=10, kde=True)\n",
        "plt.title('Histogram of Math Scores')\n",
        "plt.xlabel('Scores')\n",
        "plt.ylabel('Frequency')\n",
        "plt.show()\n",
        "\n",
        "# Boxplot for Math scores\n",
        "sns.boxplot(data=df, x='Math')\n",
        "plt.title('Boxplot of Math Scores')\n",
        "plt.ylabel('Scores')\n",
        "plt.show()"
      ],
      "metadata": {
        "colab": {
          "base_uri": "https://localhost:8080/",
          "height": 927
        },
        "id": "3PE3GxlUAcE7",
        "outputId": "caa103a6-fa20-46c2-94a3-3e89a98dedde"
      },
      "execution_count": 9,
      "outputs": [
        {
          "output_type": "display_data",
          "data": {
            "text/plain": [
              "<Figure size 640x480 with 1 Axes>"
            ],
            "image/png": "[encoded data removed]"
          },
          "metadata": {}
        },
        {
          "output_type": "display_data",
          "data": {
            "text/plain": [
              "<Figure size 640x480 with 1 Axes>"
            ],
            "image/png": "[encoded data removed]"
          },
          "metadata": {}
        }
      ]
    },
    {
      "cell_type": "code",
      "source": [
        "fig = px.histogram(df, x='Math', nbins=10, title='Interactive Histogram of Math Scores', marginal=\"box\", histnorm='probability')\n",
        "fig.show()"
      ],
      "metadata": {
        "colab": {
          "base_uri": "https://localhost:8080/",
          "height": 542
        },
        "id": "aTMHig1cC1b8",
        "outputId": "60e10fc6-1892-4bf6-c301-d92f30f24173"
      },
      "execution_count": 10,
      "outputs": [
        {
          "output_type": "display_data",
          "data": {
            "text/html": [
              "<html>\n",
              "<head><meta charset=\"utf-8\" /></head>\n",
              "<body>\n",
              "    <div>            <script src=\"https://cdnjs.cloudflare.com/ajax/libs/mathjax/2.7.5/MathJax.js?config=TeX-AMS-MML_SVG\"></script><script type=\"text/javascript\">if (window.MathJax && window.MathJax.Hub && window.MathJax.Hub.Config) {window.MathJax.Hub.Config({SVG: {font: \"STIX-Web\"}});}</script>                <script type=\"text/javascript\">window.PlotlyConfig = {MathJaxConfig: 'local'};</script>\n",
              "        <script charset=\"utf-8\" src=\"https://cdn.plot.ly/plotly-2.24.1.min.js\"></script>                <div id=\"2c75b95c-c1d8-4694-8735-fa855ced6b1b\" class=\"plotly-graph-div\" style=\"height:525px; width:100%;\"></div>            <script type=\"text/javascript\">                                    window.PLOTLYENV=window.PLOTLYENV || {};                                    if (document.getElementById(\"2c75b95c-c1d8-4694-8735-fa855ced6b1b\")) {                    Plotly.newPlot(                        \"2c75b95c-c1d8-4694-8735-fa855ced6b1b\",                        [{\"alignmentgroup\":\"True\",\"bingroup\":\"x\",\"histnorm\":\"probability\",\"hovertemplate\":\"Math=%{x}\\u003cbr\\u003eprobability=%{y}\\u003cextra\\u003e\\u003c\\u002fextra\\u003e\",\"legendgroup\":\"\",\"marker\":{\"color\":\"#636efa\",\"pattern\":{\"shape\":\"\"}},\"name\":\"\",\"nbinsx\":10,\"offsetgroup\":\"\",\"orientation\":\"v\",\"showlegend\":false,\"x\":[51,92,14,71,60,20,82,86,74,74,87,99,23,2,21,52,1,87,29,37,1,63,59,20,32,75,57,21,88,48,90,58,41,91,59,79,14,61,61,46,61,50,54,63,2,50,6,20,72,38],\"xaxis\":\"x\",\"yaxis\":\"y\",\"type\":\"histogram\"},{\"alignmentgroup\":\"True\",\"hovertemplate\":\"Math=%{x}\\u003cextra\\u003e\\u003c\\u002fextra\\u003e\",\"legendgroup\":\"\",\"marker\":{\"color\":\"#636efa\"},\"name\":\"\",\"notched\":true,\"offsetgroup\":\"\",\"showlegend\":false,\"x\":[51,92,14,71,60,20,82,86,74,74,87,99,23,2,21,52,1,87,29,37,1,63,59,20,32,75,57,21,88,48,90,58,41,91,59,79,14,61,61,46,61,50,54,63,2,50,6,20,72,38],\"xaxis\":\"x2\",\"yaxis\":\"y2\",\"type\":\"box\"}],                        {\"template\":{\"data\":{\"histogram2dcontour\":[{\"type\":\"histogram2dcontour\",\"colorbar\":{\"outlinewidth\":0,\"ticks\":\"\"},\"colorscale\":[[0.0,\"#0d0887\"],[0.1111111111111111,\"#46039f\"],[0.2222222222222222,\"#7201a8\"],[0.3333333333333333,\"#9c179e\"],[0.4444444444444444,\"#bd3786\"],[0.5555555555555556,\"#d8576b\"],[0.6666666666666666,\"#ed7953\"],[0.7777777777777778,\"#fb9f3a\"],[0.8888888888888888,\"#fdca26\"],[1.0,\"#f0f921\"]]}],\"choropleth\":[{\"type\":\"choropleth\",\"colorbar\":{\"outlinewidth\":0,\"ticks\":\"\"}}],\"histogram2d\":[{\"type\":\"histogram2d\",\"colorbar\":{\"outlinewidth\":0,\"ticks\":\"\"},\"colorscale\":[[0.0,\"#0d0887\"],[0.1111111111111111,\"#46039f\"],[0.2222222222222222,\"#7201a8\"],[0.3333333333333333,\"#9c179e\"],[0.4444444444444444,\"#bd3786\"],[0.5555555555555556,\"#d8576b\"],[0.6666666666666666,\"#ed7953\"],[0.7777777777777778,\"#fb9f3a\"],[0.8888888888888888,\"#fdca26\"],[1.0,\"#f0f921\"]]}],\"heatmap\":[{\"type\":\"heatmap\",\"colorbar\":{\"outlinewidth\":0,\"ticks\":\"\"},\"colorscale\":[[0.0,\"#0d0887\"],[0.1111111111111111,\"#46039f\"],[0.2222222222222222,\"#7201a8\"],[0.3333333333333333,\"#9c179e\"],[0.4444444444444444,\"#bd3786\"],[0.5555555555555556,\"#d8576b\"],[0.6666666666666666,\"#ed7953\"],[0.7777777777777778,\"#fb9f3a\"],[0.8888888888888888,\"#fdca26\"],[1.0,\"#f0f921\"]]}],\"heatmapgl\":[{\"type\":\"heatmapgl\",\"colorbar\":{\"outlinewidth\":0,\"ticks\":\"\"},\"colorscale\":[[0.0,\"#0d0887\"],[0.1111111111111111,\"#46039f\"],[0.2222222222222222,\"#7201a8\"],[0.3333333333333333,\"#9c179e\"],[0.4444444444444444,\"#bd3786\"],[0.5555555555555556,\"#d8576b\"],[0.6666666666666666,\"#ed7953\"],[0.7777777777777778,\"#fb9f3a\"],[0.8888888888888888,\"#fdca26\"],[1.0,\"#f0f921\"]]}],\"contourcarpet\":[{\"type\":\"contourcarpet\",\"colorbar\":{\"outlinewidth\":0,\"ticks\":\"\"}}],\"contour\":[{\"type\":\"contour\",\"colorbar\":{\"outlinewidth\":0,\"ticks\":\"\"},\"colorscale\":[[0.0,\"#0d0887\"],[0.1111111111111111,\"#46039f\"],[0.2222222222222222,\"#7201a8\"],[0.3333333333333333,\"#9c179e\"],[0.4444444444444444,\"#bd3786\"],[0.5555555555555556,\"#d8576b\"],[0.6666666666666666,\"#ed7953\"],[0.7777777777777778,\"#fb9f3a\"],[0.8888888888888888,\"#fdca26\"],[1.0,\"#f0f921\"]]}],\"surface\":[{\"type\":\"surface\",\"colorbar\":{\"outlinewidth\":0,\"ticks\":\"\"},\"colorscale\":[[0.0,\"#0d0887\"],[0.1111111111111111,\"#46039f\"],[0.2222222222222222,\"#7201a8\"],[0.3333333333333333,\"#9c179e\"],[0.4444444444444444,\"#bd3786\"],[0.5555555555555556,\"#d8576b\"],[0.6666666666666666,\"#ed7953\"],[0.7777777777777778,\"#fb9f3a\"],[0.8888888888888888,\"#fdca26\"],[1.0,\"#f0f921\"]]}],\"mesh3d\":[{\"type\":\"mesh3d\",\"colorbar\":{\"outlinewidth\":0,\"ticks\":\"\"}}],\"scatter\":[{\"fillpattern\":{\"fillmode\":\"overlay\",\"size\":10,\"solidity\":0.2},\"type\":\"scatter\"}],\"parcoords\":[{\"type\":\"parcoords\",\"line\":{\"colorbar\":{\"outlinewidth\":0,\"ticks\":\"\"}}}],\"scatterpolargl\":[{\"type\":\"scatterpolargl\",\"marker\":{\"colorbar\":{\"outlinewidth\":0,\"ticks\":\"\"}}}],\"bar\":[{\"error_x\":{\"color\":\"#2a3f5f\"},\"error_y\":{\"color\":\"#2a3f5f\"},\"marker\":{\"line\":{\"color\":\"#E5ECF6\",\"width\":0.5},\"pattern\":{\"fillmode\":\"overlay\",\"size\":10,\"solidity\":0.2}},\"type\":\"bar\"}],\"scattergeo\":[{\"type\":\"scattergeo\",\"marker\":{\"colorbar\":{\"outlinewidth\":0,\"ticks\":\"\"}}}],\"scatterpolar\":[{\"type\":\"scatterpolar\",\"marker\":{\"colorbar\":{\"outlinewidth\":0,\"ticks\":\"\"}}}],\"histogram\":[{\"marker\":{\"pattern\":{\"fillmode\":\"overlay\",\"size\":10,\"solidity\":0.2}},\"type\":\"histogram\"}],\"scattergl\":[{\"type\":\"scattergl\",\"marker\":{\"colorbar\":{\"outlinewidth\":0,\"ticks\":\"\"}}}],\"scatter3d\":[{\"type\":\"scatter3d\",\"line\":{\"colorbar\":{\"outlinewidth\":0,\"ticks\":\"\"}},\"marker\":{\"colorbar\":{\"outlinewidth\":0,\"ticks\":\"\"}}}],\"scattermapbox\":[{\"type\":\"scattermapbox\",\"marker\":{\"colorbar\":{\"outlinewidth\":0,\"ticks\":\"\"}}}],\"scatterternary\":[{\"type\":\"scatterternary\",\"marker\":{\"colorbar\":{\"outlinewidth\":0,\"ticks\":\"\"}}}],\"scattercarpet\":[{\"type\":\"scattercarpet\",\"marker\":{\"colorbar\":{\"outlinewidth\":0,\"ticks\":\"\"}}}],\"carpet\":[{\"aaxis\":{\"endlinecolor\":\"#2a3f5f\",\"gridcolor\":\"white\",\"linecolor\":\"white\",\"minorgridcolor\":\"white\",\"startlinecolor\":\"#2a3f5f\"},\"baxis\":{\"endlinecolor\":\"#2a3f5f\",\"gridcolor\":\"white\",\"linecolor\":\"white\",\"minorgridcolor\":\"white\",\"startlinecolor\":\"#2a3f5f\"},\"type\":\"carpet\"}],\"table\":[{\"cells\":{\"fill\":{\"color\":\"#EBF0F8\"},\"line\":{\"color\":\"white\"}},\"header\":{\"fill\":{\"color\":\"#C8D4E3\"},\"line\":{\"color\":\"white\"}},\"type\":\"table\"}],\"barpolar\":[{\"marker\":{\"line\":{\"color\":\"#E5ECF6\",\"width\":0.5},\"pattern\":{\"fillmode\":\"overlay\",\"size\":10,\"solidity\":0.2}},\"type\":\"barpolar\"}],\"pie\":[{\"automargin\":true,\"type\":\"pie\"}]},\"layout\":{\"autotypenumbers\":\"strict\",\"colorway\":[\"#636efa\",\"#EF553B\",\"#00cc96\",\"#ab63fa\",\"#FFA15A\",\"#19d3f3\",\"#FF6692\",\"#B6E880\",\"#FF97FF\",\"#FECB52\"],\"font\":{\"color\":\"#2a3f5f\"},\"hovermode\":\"closest\",\"hoverlabel\":{\"align\":\"left\"},\"paper_bgcolor\":\"white\",\"plot_bgcolor\":\"#E5ECF6\",\"polar\":{\"bgcolor\":\"#E5ECF6\",\"angularaxis\":{\"gridcolor\":\"white\",\"linecolor\":\"white\",\"ticks\":\"\"},\"radialaxis\":{\"gridcolor\":\"white\",\"linecolor\":\"white\",\"ticks\":\"\"}},\"ternary\":{\"bgcolor\":\"#E5ECF6\",\"aaxis\":{\"gridcolor\":\"white\",\"linecolor\":\"white\",\"ticks\":\"\"},\"baxis\":{\"gridcolor\":\"white\",\"linecolor\":\"white\",\"ticks\":\"\"},\"caxis\":{\"gridcolor\":\"white\",\"linecolor\":\"white\",\"ticks\":\"\"}},\"coloraxis\":{\"colorbar\":{\"outlinewidth\":0,\"ticks\":\"\"}},\"colorscale\":{\"sequential\":[[0.0,\"#0d0887\"],[0.1111111111111111,\"#46039f\"],[0.2222222222222222,\"#7201a8\"],[0.3333333333333333,\"#9c179e\"],[0.4444444444444444,\"#bd3786\"],[0.5555555555555556,\"#d8576b\"],[0.6666666666666666,\"#ed7953\"],[0.7777777777777778,\"#fb9f3a\"],[0.8888888888888888,\"#fdca26\"],[1.0,\"#f0f921\"]],\"sequentialminus\":[[0.0,\"#0d0887\"],[0.1111111111111111,\"#46039f\"],[0.2222222222222222,\"#7201a8\"],[0.3333333333333333,\"#9c179e\"],[0.4444444444444444,\"#bd3786\"],[0.5555555555555556,\"#d8576b\"],[0.6666666666666666,\"#ed7953\"],[0.7777777777777778,\"#fb9f3a\"],[0.8888888888888888,\"#fdca26\"],[1.0,\"#f0f921\"]],\"diverging\":[[0,\"#8e0152\"],[0.1,\"#c51b7d\"],[0.2,\"#de77ae\"],[0.3,\"#f1b6da\"],[0.4,\"#fde0ef\"],[0.5,\"#f7f7f7\"],[0.6,\"#e6f5d0\"],[0.7,\"#b8e186\"],[0.8,\"#7fbc41\"],[0.9,\"#4d9221\"],[1,\"#276419\"]]},\"xaxis\":{\"gridcolor\":\"white\",\"linecolor\":\"white\",\"ticks\":\"\",\"title\":{\"standoff\":15},\"zerolinecolor\":\"white\",\"automargin\":true,\"zerolinewidth\":2},\"yaxis\":{\"gridcolor\":\"white\",\"linecolor\":\"white\",\"ticks\":\"\",\"title\":{\"standoff\":15},\"zerolinecolor\":\"white\",\"automargin\":true,\"zerolinewidth\":2},\"scene\":{\"xaxis\":{\"backgroundcolor\":\"#E5ECF6\",\"gridcolor\":\"white\",\"linecolor\":\"white\",\"showbackground\":true,\"ticks\":\"\",\"zerolinecolor\":\"white\",\"gridwidth\":2},\"yaxis\":{\"backgroundcolor\":\"#E5ECF6\",\"gridcolor\":\"white\",\"linecolor\":\"white\",\"showbackground\":true,\"ticks\":\"\",\"zerolinecolor\":\"white\",\"gridwidth\":2},\"zaxis\":{\"backgroundcolor\":\"#E5ECF6\",\"gridcolor\":\"white\",\"linecolor\":\"white\",\"showbackground\":true,\"ticks\":\"\",\"zerolinecolor\":\"white\",\"gridwidth\":2}},\"shapedefaults\":{\"line\":{\"color\":\"#2a3f5f\"}},\"annotationdefaults\":{\"arrowcolor\":\"#2a3f5f\",\"arrowhead\":0,\"arrowwidth\":1},\"geo\":{\"bgcolor\":\"white\",\"landcolor\":\"#E5ECF6\",\"subunitcolor\":\"white\",\"showland\":true,\"showlakes\":true,\"lakecolor\":\"white\"},\"title\":{\"x\":0.05},\"mapbox\":{\"style\":\"light\"}}},\"xaxis\":{\"anchor\":\"y\",\"domain\":[0.0,1.0],\"title\":{\"text\":\"Math\"}},\"yaxis\":{\"anchor\":\"x\",\"domain\":[0.0,0.8316],\"title\":{\"text\":\"probability\"}},\"xaxis2\":{\"anchor\":\"y2\",\"domain\":[0.0,1.0],\"matches\":\"x\",\"showticklabels\":false,\"showgrid\":true},\"yaxis2\":{\"anchor\":\"x2\",\"domain\":[0.8416,1.0],\"matches\":\"y2\",\"showticklabels\":false,\"showline\":false,\"ticks\":\"\",\"showgrid\":false},\"legend\":{\"tracegroupgap\":0},\"title\":{\"text\":\"Interactive Histogram of Math Scores\"},\"barmode\":\"relative\"},                        {\"responsive\": true}                    ).then(function(){\n",
              "                            \n",
              "var gd = document.getElementById('2c75b95c-c1d8-4694-8735-fa855ced6b1b');\n",
              "var x = new MutationObserver(function (mutations, observer) {{\n",
              "        var display = window.getComputedStyle(gd).display;\n",
              "        if (!display || display === 'none') {{\n",
              "            console.log([gd, 'removed!']);\n",
              "            Plotly.purge(gd);\n",
              "            observer.disconnect();\n",
              "        }}\n",
              "}});\n",
              "\n",
              "// Listen for the removal of the full notebook cells\n",
              "var notebookContainer = gd.closest('#notebook-container');\n",
              "if (notebookContainer) {{\n",
              "    x.observe(notebookContainer, {childList: true});\n",
              "}}\n",
              "\n",
              "// Listen for the clearing of the current output cell\n",
              "var outputEl = gd.closest('.output');\n",
              "if (outputEl) {{\n",
              "    x.observe(outputEl, {childList: true});\n",
              "}}\n",
              "\n",
              "                        })                };                            </script>        </div>\n",
              "</body>\n",
              "</html>"
            ]
          },
          "metadata": {}
        }
      ]
    },
    {
      "cell_type": "markdown",
      "source": [
        "FM 1 : Calculate Statistical Parameters For Other Features And Write Explain About That Feature 🧑"
      ],
      "metadata": {
        "id": "O4KRv95QCAgC"
      }
    },
    {
      "cell_type": "markdown",
      "source": [
        "**Answer**"
      ],
      "metadata": {
        "id": "eRc0Dtq8CS0l"
      }
    },
    {
      "cell_type": "markdown",
      "source": [
        "FM 2: why numpy std and pandas std is difference?"
      ],
      "metadata": {
        "id": "HYbkpDC2Byrw"
      }
    },
    {
      "cell_type": "markdown",
      "source": [
        "**Answer**"
      ],
      "metadata": {
        "id": "PeNSKt48Bz3n"
      }
    },
    {
      "cell_type": "markdown",
      "source": [
        "### 2.3 Standard Distribution"
      ],
      "metadata": {
        "id": "xh7hyka9Eswd"
      }
    },
    {
      "cell_type": "markdown",
      "source": [
        "#### 2.3.1 Explaination"
      ],
      "metadata": {
        "id": "6eti_y6SzonR"
      }
    },
    {
      "cell_type": "markdown",
      "source": [
        "**Formulation:**\n",
        "- **Normal Distribution:** $$f(x) = \\frac{1}{\\sqrt{2\\pi\\sigma^2}} e^{-\\frac{(x - \\mu)^2}{2\\sigma^2}}$$"
      ],
      "metadata": {
        "id": "kVCCwMDVE7QS"
      }
    },
    {
      "cell_type": "markdown",
      "source": [
        "#### 2.3.2 Code"
      ],
      "metadata": {
        "id": "pcf7KxLSFmDg"
      }
    },
    {
      "cell_type": "code",
      "source": [
        "normal_data = np.random.normal(loc=0, scale=1, size=1000)"
      ],
      "metadata": {
        "id": "BE4sX9mYBuLo"
      },
      "execution_count": 11,
      "outputs": []
    },
    {
      "cell_type": "code",
      "source": [
        "mean_normal = np.mean(normal_data)\n",
        "std_normal = np.std(normal_data)\n",
        "print(f\"Mean of normal distribution: {mean_normal}\")\n",
        "print(f\"Standard Deviation of normal distribution: {std_normal}\")"
      ],
      "metadata": {
        "colab": {
          "base_uri": "https://localhost:8080/"
        },
        "id": "pk_2T38KFShr",
        "outputId": "d08aed1a-35b2-4169-ec2d-3b4f9916c0b3"
      },
      "execution_count": 12,
      "outputs": [
        {
          "output_type": "stream",
          "name": "stdout",
          "text": [
            "Mean of normal distribution: 0.027572704089642613\n",
            "Standard Deviation of normal distribution: 1.0027022851308038\n"
          ]
        }
      ]
    },
    {
      "cell_type": "markdown",
      "source": [
        "#### 2.3.3 Visualization"
      ],
      "metadata": {
        "id": "3mHdmuNaFqE-"
      }
    },
    {
      "cell_type": "code",
      "source": [
        "sns.histplot(normal_data, bins=30, kde=True)\n",
        "plt.title('Histogram of Normal Distribution')\n",
        "plt.xlabel('Value')\n",
        "plt.ylabel('Frequency')\n",
        "plt.show()"
      ],
      "metadata": {
        "colab": {
          "base_uri": "https://localhost:8080/",
          "height": 0
        },
        "id": "IWT33O1EFV8d",
        "outputId": "4565a4f7-6bf2-4208-e098-497f9152729a"
      },
      "execution_count": 13,
      "outputs": [
        {
          "output_type": "display_data",
          "data": {
            "text/plain": [
              "<Figure size 640x480 with 1 Axes>"
            ],
            "image/png": "[encoded data removed]"
          },
          "metadata": {}
        }
      ]
    },
    {
      "cell_type": "markdown",
      "source": [
        "### 2.4 Percentile, Quantiles, Quartiles, Boxplots, and Histograms"
      ],
      "metadata": {
        "id": "S51su6c7FuXU"
      }
    },
    {
      "cell_type": "markdown",
      "source": [
        "#### 2.4.1 Explaination"
      ],
      "metadata": {
        "id": "lexwWjfYR6R2"
      }
    },
    {
      "cell_type": "markdown",
      "source": [
        "Steps to Calculate Percentile:\n",
        "\n",
        "1. **Sort the Data**: Arrange the data in ascending order.\n",
        "2. **Calculate the Rank**: Use the formula to find the rank of the percentile:\n",
        "   $\n",
        "   R = \\frac{P}{100} \\times (N + 1)\n",
        "   $\n",
        "   where $P$ is the desired percentile, and $N$ is the number of observations.\n",
        "3. **Find the Percentile Value**:\n",
        "   - If $R$ is an integer, the percentile value is the data point at position $R$.\n",
        "   - If $R$ is not an integer, interpolate between the data points at positions $\\lfloor R \\rfloor$ and $\\lceil R \\rceil$.\n",
        "\n",
        "Example:\n",
        "\n",
        "Let's calculate the 30th percentile for the following dataset:\n",
        "\n",
        "$[3, 7, 8, 5, 12, 14, 21, 13, 18]$\n",
        "\n",
        "1. **Sort the Data**:\n",
        "\n",
        "   $[3, 5, 7, 8, 12, 13, 14, 18, 21]$\n",
        "\n",
        "2. **Calculate the Rank**:\n",
        "\n",
        "   $\n",
        "   N = 9 \\\\\n",
        "   R = \\frac{30}{100} \\times (9 + 1) = 3\n",
        "   $\n",
        "\n",
        "3. **Find the Percentile Value**:\n",
        "\n",
        "   Since $(R = 3)$ is an integer, the 30th percentile is the value at the 3rd position in the sorted list:\n",
        "\n",
        "   $\n",
        "   \\text{30th percentile} = 7\n",
        "   $\n",
        "\n",
        "Another Example with Interpolation:\n",
        "\n",
        "Let's calculate the 25th percentile for the same dataset:\n",
        "\n",
        "1. **Sorted Data** (already sorted from previous step):\n",
        "\n",
        "   $[3, 5, 7, 8, 12, 13, 14, 18, 21]$\n",
        "\n",
        "2. **Calculate the Rank**:\n",
        "\n",
        "   $\n",
        "   R = \\frac{25}{100} \\times (9 + 1) = 2.5\n",
        "   $\n",
        "\n",
        "3. **Find the Percentile Value**:\n",
        "\n",
        "   Since $(R = 2.5)$ is not an integer, interpolate between the data points at positions $\\lfloor 2.5 \\rfloor = 2$ and $\\lceil 2.5 \\rceil = 3$:\n",
        "\n",
        "   $\n",
        "   \\text{Value at 2nd position} = 5 \\\\\n",
        "   \\text{Value at 3rd position} = 7\n",
        "   $\n",
        "\n",
        "   Interpolation formula:\n",
        "\n",
        "   $\n",
        "   \\text{Percentile value} = \\text{Value at 2nd position} + (R - \\lfloor R \\rfloor) \\times (\\text{Value at 3rd position} - \\text{Value at 2nd position}) \\\\\n",
        "   = 5 + (2.5 - 2) \\times (7 - 5) \\\\\n",
        "   = 5 + 0.5 \\times 2 \\\\\n",
        "   = 5 + 1 \\\\\n",
        "   = 6\n",
        "   $\n",
        "\n",
        "   So, the 25th percentile is $6$.\n",
        "\n",
        "Difference Between Quantile and Percentile:\n",
        "\n",
        "- **Quantile**:\n",
        "  - A quantile is a value at or below which a certain fraction of the data falls. It divides the data into equal-sized, contiguous intervals.\n",
        "  - For example, quartiles divide data into four equal parts, deciles into ten equal parts, and percentiles into one hundred equal parts.\n",
        "  - Quantiles can be generalized to any number of intervals (e.g., deciles, quintiles).\n",
        "\n",
        "- **Percentile**:\n",
        "  - A percentile is a specific type of quantile that divides the data into 100 equal parts.\n",
        "  - It indicates the value below which a given percentage of observations fall.\n",
        "  - For example, the 30th percentile is the value below which 30% of the data falls.\n",
        "\n",
        "Quantiles are more general terms that include percentiles as a specific case. While percentiles specifically refer to divisions of 100, quantiles can refer to any number of equal divisions of the dataset.\n",
        "\n",
        "Quantile Example:\n",
        "\n",
        "Let's calculate the quartiles (25th, 50th, and 75th percentiles) for the dataset:\n",
        "\n",
        "$[3, 7, 8, 5, 12, 14, 21, 13, 18]$\n",
        "\n",
        "1. **Sort the Data**:\n",
        "\n",
        "   $[3, 5, 7, 8, 12, 13, 14, 18, 21]$\n",
        "\n",
        "2. **Calculate the Ranks for Quartiles**:\n",
        "   \n",
        "   - For the 25th percentile (1st quartile):\n",
        "\n",
        "     $$\n",
        "     R = \\frac{25}{100} \\times (9 + 1) = 2.5\n",
        "     $$\n",
        "  \n",
        "     Interpolate between 2nd and 3rd values:\n",
        "     $$\n",
        "     \\text{Value at 2nd position} = 5 \\\n",
        "     $$\n",
        "\n",
        "     $$\n",
        "     \\text{Value at 3rd position} = 7 \\\n",
        "     $$\n",
        "\n",
        "     $$\n",
        "     \\text{1st quartile (25th percentile)} = 5 + 0.5 \\times (7 - 5) = 6\n",
        "     $$\n",
        "    \n",
        "\n",
        "   - For the 50th percentile (2nd quartile or median):\n",
        "   $$\n",
        "     R = \\frac{50}{100} \\times (9 + 1) = 5\n",
        "   $$\n",
        "\n",
        "     The 5th value in sorted data:\n",
        "   $$     \n",
        "     \\text{2nd quartile (50th percentile)} = 12     \n",
        "   $$\n",
        "\n",
        "   - For the 75th percentile (3rd quartile):\n",
        "     $$\n",
        "     R = \\frac{75}{100} \\times (9 + 1) = 7.5\n",
        "     $$\n",
        "     \n",
        "     Interpolate between 7th and 8th values:\n",
        "     $$\n",
        "     \\text{Value at 7th position} = 14\n",
        "     $$\n",
        "\n",
        "     $$\n",
        "     \\text{Value at 8th position} = 18\n",
        "     $$\n",
        "\n",
        "     $$\n",
        "     \\text{3rd quartile (75th percentile)} = 14 + 0.5 \\times (18 - 14) = 16\n",
        "     $$\n",
        "\n",
        "![image](https://upload.wikimedia.org/wikipedia/commons/thumb/1/1a/Boxplot_vs_PDF.svg/800px-Boxplot_vs_PDF.svg.png)"
      ],
      "metadata": {
        "id": "anJFUJJzGWf8"
      }
    },
    {
      "cell_type": "markdown",
      "source": [
        "#### 2.4.2 Code"
      ],
      "metadata": {
        "id": "CGrnpdaqR0kW"
      }
    },
    {
      "cell_type": "code",
      "source": [
        "quantiles = df['Math'].quantile([0.05,0.1,0.25, 0.5, 0.75])\n",
        "print(f\"Quantiles of Math scores:\\n{quantiles}\")"
      ],
      "metadata": {
        "colab": {
          "base_uri": "https://localhost:8080/"
        },
        "id": "Fs7r_AtDGWF9",
        "outputId": "6f9ad6ca-f72e-430a-a732-d8da1e5a711e"
      },
      "execution_count": 14,
      "outputs": [
        {
          "output_type": "stream",
          "name": "stdout",
          "text": [
            "Quantiles of Math scores:\n",
            "0.05     2.0\n",
            "0.10    13.2\n",
            "0.25    24.5\n",
            "0.50    55.5\n",
            "0.75    73.5\n",
            "Name: Math, dtype: float64\n"
          ]
        }
      ]
    },
    {
      "cell_type": "markdown",
      "source": [
        "#### 2.4.3 Visualization"
      ],
      "metadata": {
        "id": "sKuBESCOSpy0"
      }
    },
    {
      "cell_type": "code",
      "source": [
        "sns.boxplot(data=df, x='Math')\n",
        "plt.title('Boxplot of Math Scores')\n",
        "plt.ylabel('Scores')\n",
        "plt.show()"
      ],
      "metadata": {
        "colab": {
          "base_uri": "https://localhost:8080/",
          "height": 0
        },
        "id": "xKr8fMaBRsxG",
        "outputId": "9c88ff16-64be-4c5d-f5aa-b01c4f7990ca"
      },
      "execution_count": 15,
      "outputs": [
        {
          "output_type": "display_data",
          "data": {
            "text/plain": [
              "<Figure size 640x480 with 1 Axes>"
            ],
            "image/png": "[encoded data removed]"
          },
          "metadata": {}
        }
      ]
    },
    {
      "cell_type": "code",
      "source": [
        "sns.histplot(df['Math'], bins=10, kde=True)\n",
        "plt.title('Histogram of Math Scores')\n",
        "plt.xlabel('Scores')\n",
        "plt.ylabel('Frequency')\n",
        "plt.show()"
      ],
      "metadata": {
        "colab": {
          "base_uri": "https://localhost:8080/",
          "height": 0
        },
        "id": "4IXreL8ISzkN",
        "outputId": "162f44c4-89f7-450c-86a6-23c7f14ed1ba"
      },
      "execution_count": 16,
      "outputs": [
        {
          "output_type": "display_data",
          "data": {
            "text/plain": [
              "<Figure size 640x480 with 1 Axes>"
            ],
            "image/png": "[encoded data removed]"
          },
          "metadata": {}
        }
      ]
    },
    {
      "cell_type": "code",
      "source": [
        "fig = px.box(data, title='Boxplot with Plotly')\n",
        "fig.show()"
      ],
      "metadata": {
        "colab": {
          "base_uri": "https://localhost:8080/",
          "height": 0
        },
        "id": "-cZOt8QgS6IV",
        "outputId": "5ece9c21-5673-4f16-d34f-9d65f83ee33f"
      },
      "execution_count": 17,
      "outputs": [
        {
          "output_type": "display_data",
          "data": {
            "text/html": [
              "<html>\n",
              "<head><meta charset=\"utf-8\" /></head>\n",
              "<body>\n",
              "    <div>            <script src=\"https://cdnjs.cloudflare.com/ajax/libs/mathjax/2.7.5/MathJax.js?config=TeX-AMS-MML_SVG\"></script><script type=\"text/javascript\">if (window.MathJax && window.MathJax.Hub && window.MathJax.Hub.Config) {window.MathJax.Hub.Config({SVG: {font: \"STIX-Web\"}});}</script>                <script type=\"text/javascript\">window.PlotlyConfig = {MathJaxConfig: 'local'};</script>\n",
              "        <script charset=\"utf-8\" src=\"https://cdn.plot.ly/plotly-2.24.1.min.js\"></script>                <div id=\"7943291d-ac48-4334-bfa4-df377d481d0f\" class=\"plotly-graph-div\" style=\"height:525px; width:100%;\"></div>            <script type=\"text/javascript\">                                    window.PLOTLYENV=window.PLOTLYENV || {};                                    if (document.getElementById(\"7943291d-ac48-4334-bfa4-df377d481d0f\")) {                    Plotly.newPlot(                        \"7943291d-ac48-4334-bfa4-df377d481d0f\",                        [{\"alignmentgroup\":\"True\",\"hovertemplate\":\"variable=%{x}\\u003cbr\\u003evalue=%{y}\\u003cextra\\u003e\\u003c\\u002fextra\\u003e\",\"legendgroup\":\"\",\"marker\":{\"color\":\"#636efa\"},\"name\":\"\",\"notched\":false,\"offsetgroup\":\"\",\"orientation\":\"v\",\"showlegend\":false,\"x\":[\"Math\",\"Math\",\"Math\",\"Math\",\"Math\",\"Math\",\"Math\",\"Math\",\"Math\",\"Math\",\"Math\",\"Math\",\"Math\",\"Math\",\"Math\",\"Math\",\"Math\",\"Math\",\"Math\",\"Math\",\"Math\",\"Math\",\"Math\",\"Math\",\"Math\",\"Math\",\"Math\",\"Math\",\"Math\",\"Math\",\"Math\",\"Math\",\"Math\",\"Math\",\"Math\",\"Math\",\"Math\",\"Math\",\"Math\",\"Math\",\"Math\",\"Math\",\"Math\",\"Math\",\"Math\",\"Math\",\"Math\",\"Math\",\"Math\",\"Math\",\"Science\",\"Science\",\"Science\",\"Science\",\"Science\",\"Science\",\"Science\",\"Science\",\"Science\",\"Science\",\"Science\",\"Science\",\"Science\",\"Science\",\"Science\",\"Science\",\"Science\",\"Science\",\"Science\",\"Science\",\"Science\",\"Science\",\"Science\",\"Science\",\"Science\",\"Science\",\"Science\",\"Science\",\"Science\",\"Science\",\"Science\",\"Science\",\"Science\",\"Science\",\"Science\",\"Science\",\"Science\",\"Science\",\"Science\",\"Science\",\"Science\",\"Science\",\"Science\",\"Science\",\"Science\",\"Science\",\"Science\",\"Science\",\"Science\",\"Science\",\"English\",\"English\",\"English\",\"English\",\"English\",\"English\",\"English\",\"English\",\"English\",\"English\",\"English\",\"English\",\"English\",\"English\",\"English\",\"English\",\"English\",\"English\",\"English\",\"English\",\"English\",\"English\",\"English\",\"English\",\"English\",\"English\",\"English\",\"English\",\"English\",\"English\",\"English\",\"English\",\"English\",\"English\",\"English\",\"English\",\"English\",\"English\",\"English\",\"English\",\"English\",\"English\",\"English\",\"English\",\"English\",\"English\",\"English\",\"English\",\"English\",\"English\"],\"x0\":\" \",\"xaxis\":\"x\",\"y\":[51,92,14,71,60,20,82,86,74,74,87,99,23,2,21,52,1,87,29,37,1,63,59,20,32,75,57,21,88,48,90,58,41,91,59,79,14,61,61,46,61,50,54,63,2,50,6,20,72,38,17,3,88,59,13,8,89,52,1,83,91,59,70,43,7,46,34,77,80,35,49,3,1,5,53,3,53,92,62,17,89,43,33,73,61,99,13,94,47,14,71,77,86,61,39,84,79,81,52,23,25,88,59,40,28,14,44,64,88,70,8,87,0,7,87,62,10,80,7,34,34,32,4,40,27,6,72,71,11,33,32,47,22,61,87,36,98,43,85,90,34,64,98,46,77,2,0,4,89,13],\"y0\":\" \",\"yaxis\":\"y\",\"type\":\"box\"}],                        {\"template\":{\"data\":{\"histogram2dcontour\":[{\"type\":\"histogram2dcontour\",\"colorbar\":{\"outlinewidth\":0,\"ticks\":\"\"},\"colorscale\":[[0.0,\"#0d0887\"],[0.1111111111111111,\"#46039f\"],[0.2222222222222222,\"#7201a8\"],[0.3333333333333333,\"#9c179e\"],[0.4444444444444444,\"#bd3786\"],[0.5555555555555556,\"#d8576b\"],[0.6666666666666666,\"#ed7953\"],[0.7777777777777778,\"#fb9f3a\"],[0.8888888888888888,\"#fdca26\"],[1.0,\"#f0f921\"]]}],\"choropleth\":[{\"type\":\"choropleth\",\"colorbar\":{\"outlinewidth\":0,\"ticks\":\"\"}}],\"histogram2d\":[{\"type\":\"histogram2d\",\"colorbar\":{\"outlinewidth\":0,\"ticks\":\"\"},\"colorscale\":[[0.0,\"#0d0887\"],[0.1111111111111111,\"#46039f\"],[0.2222222222222222,\"#7201a8\"],[0.3333333333333333,\"#9c179e\"],[0.4444444444444444,\"#bd3786\"],[0.5555555555555556,\"#d8576b\"],[0.6666666666666666,\"#ed7953\"],[0.7777777777777778,\"#fb9f3a\"],[0.8888888888888888,\"#fdca26\"],[1.0,\"#f0f921\"]]}],\"heatmap\":[{\"type\":\"heatmap\",\"colorbar\":{\"outlinewidth\":0,\"ticks\":\"\"},\"colorscale\":[[0.0,\"#0d0887\"],[0.1111111111111111,\"#46039f\"],[0.2222222222222222,\"#7201a8\"],[0.3333333333333333,\"#9c179e\"],[0.4444444444444444,\"#bd3786\"],[0.5555555555555556,\"#d8576b\"],[0.6666666666666666,\"#ed7953\"],[0.7777777777777778,\"#fb9f3a\"],[0.8888888888888888,\"#fdca26\"],[1.0,\"#f0f921\"]]}],\"heatmapgl\":[{\"type\":\"heatmapgl\",\"colorbar\":{\"outlinewidth\":0,\"ticks\":\"\"},\"colorscale\":[[0.0,\"#0d0887\"],[0.1111111111111111,\"#46039f\"],[0.2222222222222222,\"#7201a8\"],[0.3333333333333333,\"#9c179e\"],[0.4444444444444444,\"#bd3786\"],[0.5555555555555556,\"#d8576b\"],[0.6666666666666666,\"#ed7953\"],[0.7777777777777778,\"#fb9f3a\"],[0.8888888888888888,\"#fdca26\"],[1.0,\"#f0f921\"]]}],\"contourcarpet\":[{\"type\":\"contourcarpet\",\"colorbar\":{\"outlinewidth\":0,\"ticks\":\"\"}}],\"contour\":[{\"type\":\"contour\",\"colorbar\":{\"outlinewidth\":0,\"ticks\":\"\"},\"colorscale\":[[0.0,\"#0d0887\"],[0.1111111111111111,\"#46039f\"],[0.2222222222222222,\"#7201a8\"],[0.3333333333333333,\"#9c179e\"],[0.4444444444444444,\"#bd3786\"],[0.5555555555555556,\"#d8576b\"],[0.6666666666666666,\"#ed7953\"],[0.7777777777777778,\"#fb9f3a\"],[0.8888888888888888,\"#fdca26\"],[1.0,\"#f0f921\"]]}],\"surface\":[{\"type\":\"surface\",\"colorbar\":{\"outlinewidth\":0,\"ticks\":\"\"},\"colorscale\":[[0.0,\"#0d0887\"],[0.1111111111111111,\"#46039f\"],[0.2222222222222222,\"#7201a8\"],[0.3333333333333333,\"#9c179e\"],[0.4444444444444444,\"#bd3786\"],[0.5555555555555556,\"#d8576b\"],[0.6666666666666666,\"#ed7953\"],[0.7777777777777778,\"#fb9f3a\"],[0.8888888888888888,\"#fdca26\"],[1.0,\"#f0f921\"]]}],\"mesh3d\":[{\"type\":\"mesh3d\",\"colorbar\":{\"outlinewidth\":0,\"ticks\":\"\"}}],\"scatter\":[{\"fillpattern\":{\"fillmode\":\"overlay\",\"size\":10,\"solidity\":0.2},\"type\":\"scatter\"}],\"parcoords\":[{\"type\":\"parcoords\",\"line\":{\"colorbar\":{\"outlinewidth\":0,\"ticks\":\"\"}}}],\"scatterpolargl\":[{\"type\":\"scatterpolargl\",\"marker\":{\"colorbar\":{\"outlinewidth\":0,\"ticks\":\"\"}}}],\"bar\":[{\"error_x\":{\"color\":\"#2a3f5f\"},\"error_y\":{\"color\":\"#2a3f5f\"},\"marker\":{\"line\":{\"color\":\"#E5ECF6\",\"width\":0.5},\"pattern\":{\"fillmode\":\"overlay\",\"size\":10,\"solidity\":0.2}},\"type\":\"bar\"}],\"scattergeo\":[{\"type\":\"scattergeo\",\"marker\":{\"colorbar\":{\"outlinewidth\":0,\"ticks\":\"\"}}}],\"scatterpolar\":[{\"type\":\"scatterpolar\",\"marker\":{\"colorbar\":{\"outlinewidth\":0,\"ticks\":\"\"}}}],\"histogram\":[{\"marker\":{\"pattern\":{\"fillmode\":\"overlay\",\"size\":10,\"solidity\":0.2}},\"type\":\"histogram\"}],\"scattergl\":[{\"type\":\"scattergl\",\"marker\":{\"colorbar\":{\"outlinewidth\":0,\"ticks\":\"\"}}}],\"scatter3d\":[{\"type\":\"scatter3d\",\"line\":{\"colorbar\":{\"outlinewidth\":0,\"ticks\":\"\"}},\"marker\":{\"colorbar\":{\"outlinewidth\":0,\"ticks\":\"\"}}}],\"scattermapbox\":[{\"type\":\"scattermapbox\",\"marker\":{\"colorbar\":{\"outlinewidth\":0,\"ticks\":\"\"}}}],\"scatterternary\":[{\"type\":\"scatterternary\",\"marker\":{\"colorbar\":{\"outlinewidth\":0,\"ticks\":\"\"}}}],\"scattercarpet\":[{\"type\":\"scattercarpet\",\"marker\":{\"colorbar\":{\"outlinewidth\":0,\"ticks\":\"\"}}}],\"carpet\":[{\"aaxis\":{\"endlinecolor\":\"#2a3f5f\",\"gridcolor\":\"white\",\"linecolor\":\"white\",\"minorgridcolor\":\"white\",\"startlinecolor\":\"#2a3f5f\"},\"baxis\":{\"endlinecolor\":\"#2a3f5f\",\"gridcolor\":\"white\",\"linecolor\":\"white\",\"minorgridcolor\":\"white\",\"startlinecolor\":\"#2a3f5f\"},\"type\":\"carpet\"}],\"table\":[{\"cells\":{\"fill\":{\"color\":\"#EBF0F8\"},\"line\":{\"color\":\"white\"}},\"header\":{\"fill\":{\"color\":\"#C8D4E3\"},\"line\":{\"color\":\"white\"}},\"type\":\"table\"}],\"barpolar\":[{\"marker\":{\"line\":{\"color\":\"#E5ECF6\",\"width\":0.5},\"pattern\":{\"fillmode\":\"overlay\",\"size\":10,\"solidity\":0.2}},\"type\":\"barpolar\"}],\"pie\":[{\"automargin\":true,\"type\":\"pie\"}]},\"layout\":{\"autotypenumbers\":\"strict\",\"colorway\":[\"#636efa\",\"#EF553B\",\"#00cc96\",\"#ab63fa\",\"#FFA15A\",\"#19d3f3\",\"#FF6692\",\"#B6E880\",\"#FF97FF\",\"#FECB52\"],\"font\":{\"color\":\"#2a3f5f\"},\"hovermode\":\"closest\",\"hoverlabel\":{\"align\":\"left\"},\"paper_bgcolor\":\"white\",\"plot_bgcolor\":\"#E5ECF6\",\"polar\":{\"bgcolor\":\"#E5ECF6\",\"angularaxis\":{\"gridcolor\":\"white\",\"linecolor\":\"white\",\"ticks\":\"\"},\"radialaxis\":{\"gridcolor\":\"white\",\"linecolor\":\"white\",\"ticks\":\"\"}},\"ternary\":{\"bgcolor\":\"#E5ECF6\",\"aaxis\":{\"gridcolor\":\"white\",\"linecolor\":\"white\",\"ticks\":\"\"},\"baxis\":{\"gridcolor\":\"white\",\"linecolor\":\"white\",\"ticks\":\"\"},\"caxis\":{\"gridcolor\":\"white\",\"linecolor\":\"white\",\"ticks\":\"\"}},\"coloraxis\":{\"colorbar\":{\"outlinewidth\":0,\"ticks\":\"\"}},\"colorscale\":{\"sequential\":[[0.0,\"#0d0887\"],[0.1111111111111111,\"#46039f\"],[0.2222222222222222,\"#7201a8\"],[0.3333333333333333,\"#9c179e\"],[0.4444444444444444,\"#bd3786\"],[0.5555555555555556,\"#d8576b\"],[0.6666666666666666,\"#ed7953\"],[0.7777777777777778,\"#fb9f3a\"],[0.8888888888888888,\"#fdca26\"],[1.0,\"#f0f921\"]],\"sequentialminus\":[[0.0,\"#0d0887\"],[0.1111111111111111,\"#46039f\"],[0.2222222222222222,\"#7201a8\"],[0.3333333333333333,\"#9c179e\"],[0.4444444444444444,\"#bd3786\"],[0.5555555555555556,\"#d8576b\"],[0.6666666666666666,\"#ed7953\"],[0.7777777777777778,\"#fb9f3a\"],[0.8888888888888888,\"#fdca26\"],[1.0,\"#f0f921\"]],\"diverging\":[[0,\"#8e0152\"],[0.1,\"#c51b7d\"],[0.2,\"#de77ae\"],[0.3,\"#f1b6da\"],[0.4,\"#fde0ef\"],[0.5,\"#f7f7f7\"],[0.6,\"#e6f5d0\"],[0.7,\"#b8e186\"],[0.8,\"#7fbc41\"],[0.9,\"#4d9221\"],[1,\"#276419\"]]},\"xaxis\":{\"gridcolor\":\"white\",\"linecolor\":\"white\",\"ticks\":\"\",\"title\":{\"standoff\":15},\"zerolinecolor\":\"white\",\"automargin\":true,\"zerolinewidth\":2},\"yaxis\":{\"gridcolor\":\"white\",\"linecolor\":\"white\",\"ticks\":\"\",\"title\":{\"standoff\":15},\"zerolinecolor\":\"white\",\"automargin\":true,\"zerolinewidth\":2},\"scene\":{\"xaxis\":{\"backgroundcolor\":\"#E5ECF6\",\"gridcolor\":\"white\",\"linecolor\":\"white\",\"showbackground\":true,\"ticks\":\"\",\"zerolinecolor\":\"white\",\"gridwidth\":2},\"yaxis\":{\"backgroundcolor\":\"#E5ECF6\",\"gridcolor\":\"white\",\"linecolor\":\"white\",\"showbackground\":true,\"ticks\":\"\",\"zerolinecolor\":\"white\",\"gridwidth\":2},\"zaxis\":{\"backgroundcolor\":\"#E5ECF6\",\"gridcolor\":\"white\",\"linecolor\":\"white\",\"showbackground\":true,\"ticks\":\"\",\"zerolinecolor\":\"white\",\"gridwidth\":2}},\"shapedefaults\":{\"line\":{\"color\":\"#2a3f5f\"}},\"annotationdefaults\":{\"arrowcolor\":\"#2a3f5f\",\"arrowhead\":0,\"arrowwidth\":1},\"geo\":{\"bgcolor\":\"white\",\"landcolor\":\"#E5ECF6\",\"subunitcolor\":\"white\",\"showland\":true,\"showlakes\":true,\"lakecolor\":\"white\"},\"title\":{\"x\":0.05},\"mapbox\":{\"style\":\"light\"}}},\"xaxis\":{\"anchor\":\"y\",\"domain\":[0.0,1.0],\"title\":{\"text\":\"variable\"}},\"yaxis\":{\"anchor\":\"x\",\"domain\":[0.0,1.0],\"title\":{\"text\":\"value\"}},\"legend\":{\"tracegroupgap\":0},\"title\":{\"text\":\"Boxplot with Plotly\"},\"boxmode\":\"group\"},                        {\"responsive\": true}                    ).then(function(){\n",
              "                            \n",
              "var gd = document.getElementById('7943291d-ac48-4334-bfa4-df377d481d0f');\n",
              "var x = new MutationObserver(function (mutations, observer) {{\n",
              "        var display = window.getComputedStyle(gd).display;\n",
              "        if (!display || display === 'none') {{\n",
              "            console.log([gd, 'removed!']);\n",
              "            Plotly.purge(gd);\n",
              "            observer.disconnect();\n",
              "        }}\n",
              "}});\n",
              "\n",
              "// Listen for the removal of the full notebook cells\n",
              "var notebookContainer = gd.closest('#notebook-container');\n",
              "if (notebookContainer) {{\n",
              "    x.observe(notebookContainer, {childList: true});\n",
              "}}\n",
              "\n",
              "// Listen for the clearing of the current output cell\n",
              "var outputEl = gd.closest('.output');\n",
              "if (outputEl) {{\n",
              "    x.observe(outputEl, {childList: true});\n",
              "}}\n",
              "\n",
              "                        })                };                            </script>        </div>\n",
              "</body>\n",
              "</html>"
            ]
          },
          "metadata": {}
        }
      ]
    },
    {
      "cell_type": "markdown",
      "source": [
        "FM 3: Write your analysis about this class"
      ],
      "metadata": {
        "id": "RT4hRgFbTCIy"
      }
    },
    {
      "cell_type": "markdown",
      "source": [
        "**Answer**"
      ],
      "metadata": {
        "id": "VVN8fiJ9TJCu"
      }
    },
    {
      "cell_type": "markdown",
      "source": [
        "### 2.5 Skewness"
      ],
      "metadata": {
        "id": "PRPmGkHaTMHN"
      }
    },
    {
      "cell_type": "markdown",
      "source": [
        "#### 2.5.1 Explain"
      ],
      "metadata": {
        "id": "xSKLngsQVnR-"
      }
    },
    {
      "cell_type": "markdown",
      "source": [
        "**Skewness:** A measure of the asymmetry of the probability distribution. Positive skew indicates a distribution with a longer tail on the right; negative skew indicates a longer tail on the left."
      ],
      "metadata": {
        "id": "2eI5IUy7Vrvu"
      }
    },
    {
      "cell_type": "markdown",
      "source": [
        "FM 4: Write Skewness Formula and also how to analysis skew??"
      ],
      "metadata": {
        "id": "L2cRmB5UWMcC"
      }
    },
    {
      "cell_type": "markdown",
      "source": [
        "**Answer**"
      ],
      "metadata": {
        "id": "Ow-_mBqlWRAg"
      }
    },
    {
      "cell_type": "markdown",
      "source": [
        "#### 2.5.2 Code & Visualization"
      ],
      "metadata": {
        "id": "6Xe3OofsWUFk"
      }
    },
    {
      "cell_type": "code",
      "source": [
        "for column in df.select_dtypes(include=[np.number]).columns:\n",
        "    print(f\"Analyzing column: {column}\")\n",
        "\n",
        "    # Descriptive statistics\n",
        "    mean_col = df[column].mean()\n",
        "    median_col = df[column].median()\n",
        "    std_col = df[column].std()\n",
        "    skewness_col = df[column].skew()\n",
        "    print(f\"Mean: {mean_col}\")\n",
        "    print(f\"Median: {median_col}\")\n",
        "    print(f\"Standard Deviation: {std_col}\")\n",
        "    print(f\"Skewness: {skewness_col}\")\n",
        "\n",
        "    # Histogram\n",
        "    plt.figure(figsize=(10, 5))\n",
        "    plt.subplot(1, 2, 1)\n",
        "    sns.histplot(df[column], kde=True)\n",
        "    plt.title(f\"Histogram of {column}\")\n",
        "\n",
        "    # Box plot\n",
        "    plt.subplot(1, 2, 2)\n",
        "    sns.boxplot(y=df[column])\n",
        "    plt.title(f\"Box Plot of {column}\")\n",
        "    plt.show()"
      ],
      "metadata": {
        "colab": {
          "base_uri": "https://localhost:8080/",
          "height": 0
        },
        "id": "9CFAPnTbVUpT",
        "outputId": "356c894b-ccf2-4a00-8ca0-dd93ad93c5b0"
      },
      "execution_count": 18,
      "outputs": [
        {
          "output_type": "stream",
          "name": "stdout",
          "text": [
            "Analyzing column: Math\n",
            "Mean: 50.84\n",
            "Median: 55.5\n",
            "Standard Deviation: 28.132601467090144\n",
            "Skewness: -0.23144905777680605\n"
          ]
        },
        {
          "output_type": "display_data",
          "data": {
            "text/plain": [
              "<Figure size 1000x500 with 2 Axes>"
            ],
            "image/png": "[encoded data removed]"
          },
          "metadata": {}
        },
        {
          "output_type": "stream",
          "name": "stdout",
          "text": [
            "Analyzing column: Science\n",
            "Mean: 50.24\n",
            "Median: 52.5\n",
            "Standard Deviation: 30.94864739387174\n",
            "Skewness: -0.20234317022427395\n"
          ]
        },
        {
          "output_type": "display_data",
          "data": {
            "text/plain": [
              "<Figure size 1000x500 with 2 Axes>"
            ],
            "image/png": "[encoded data removed]"
          },
          "metadata": {}
        },
        {
          "output_type": "stream",
          "name": "stdout",
          "text": [
            "Analyzing column: English\n",
            "Mean: 45.2\n",
            "Median: 40.0\n",
            "Standard Deviation: 31.246877395009818\n",
            "Skewness: 0.1662404313768301\n"
          ]
        },
        {
          "output_type": "display_data",
          "data": {
            "text/plain": [
              "<Figure size 1000x500 with 2 Axes>"
            ],
            "image/png": "[encoded data removed]"
          },
          "metadata": {}
        }
      ]
    },
    {
      "cell_type": "markdown",
      "source": [
        "### 2.6 Correlation"
      ],
      "metadata": {
        "id": "Owdeli0AXbBY"
      }
    },
    {
      "cell_type": "markdown",
      "source": [
        "#### 2.6.1 Explain"
      ],
      "metadata": {
        "id": "6Dr_tCuDXhx_"
      }
    },
    {
      "cell_type": "markdown",
      "source": [
        "- **Pearson Correlation Coefficient:**\n",
        "$$\n",
        "r = \\frac{\\sum (x_i - \\overline{x})(y_i - \\overline{y})}{\\sqrt{\\sum (x_i - \\overline{x})^2 \\sum (y_i - \\overline{y})^2}}\n",
        "$$"
      ],
      "metadata": {
        "id": "ja8C5K_eXm8G"
      }
    },
    {
      "cell_type": "markdown",
      "source": [
        "#### 2.6.2 Code"
      ],
      "metadata": {
        "id": "MG6rWra4X01S"
      }
    },
    {
      "cell_type": "code",
      "source": [
        "corr, _ = sp.stats.pearsonr(df['Math'], df['Science'])\n",
        "print(f\"Pearson correlation between Math and Science scores: {corr}\")"
      ],
      "metadata": {
        "colab": {
          "base_uri": "https://localhost:8080/"
        },
        "id": "MboFf_1WX5dY",
        "outputId": "07350451-8e51-467e-9fa7-a65f3b7f893e"
      },
      "execution_count": 19,
      "outputs": [
        {
          "output_type": "stream",
          "name": "stdout",
          "text": [
            "Pearson correlation between Math and Science scores: 0.1563175935834571\n"
          ]
        }
      ]
    },
    {
      "cell_type": "markdown",
      "source": [
        "#### 2.6.3 Visualization"
      ],
      "metadata": {
        "id": "_JChYUUzYWGr"
      }
    },
    {
      "cell_type": "code",
      "source": [
        "corr = df.corr()\n",
        "sns.heatmap(corr, annot=True)"
      ],
      "metadata": {
        "colab": {
          "base_uri": "https://localhost:8080/",
          "height": 452
        },
        "id": "ujiCb4K_YDCa",
        "outputId": "763995ec-ebd7-426c-d82c-6986a0430232"
      },
      "execution_count": 20,
      "outputs": [
        {
          "output_type": "execute_result",
          "data": {
            "text/plain": [
              "<Axes: >"
            ]
          },
          "metadata": {},
          "execution_count": 20
        },
        {
          "output_type": "display_data",
          "data": {
            "text/plain": [
              "<Figure size 640x480 with 2 Axes>"
            ],
            "image/png": "[encoded data removed]"
          },
          "metadata": {}
        }
      ]
    },
    {
      "cell_type": "markdown",
      "source": [
        "## 3.Linear Algebra"
      ],
      "metadata": {
        "id": "dEfHTBDT22u2"
      }
    },
    {
      "cell_type": "markdown",
      "source": [
        "Linear algebra is fundamental to many algorithms and applications in artificial intelligence (AI) and machine learning (ML). This notebook will guide you through key concepts and operations in linear algebra, providing practical Python examples using libraries such as NumPy, PyTorch, and TensorFlow."
      ],
      "metadata": {
        "id": "TqEjgKGs2BHB"
      }
    },
    {
      "cell_type": "markdown",
      "source": [
        "### Table of Contents\n",
        "3.1 Introduction to Vectors and Matrices\n",
        "\n",
        "3.2 Basic Operations\n",
        "\n",
        "3.3 Matrix Decompositions\n",
        "\n",
        "3.4 Eigenvalues and Eigenvectors\n",
        "\n",
        "3.5 Applications in AI\n"
      ],
      "metadata": {
        "id": "XrCDUL542A9R"
      }
    },
    {
      "cell_type": "markdown",
      "source": [
        "### 3.1 Introduction to Tensors"
      ],
      "metadata": {
        "id": "BHqHKYaC2LKw"
      }
    },
    {
      "cell_type": "markdown",
      "source": [
        "Vectors and matrices are the building blocks of linear algebra. Let's start by understanding these basic components."
      ],
      "metadata": {
        "id": "QgXEsNOc2mf7"
      }
    },
    {
      "cell_type": "markdown",
      "source": [
        "#### 3.1.1 Vectors"
      ],
      "metadata": {
        "id": "cxdnGRLU2s6o"
      }
    },
    {
      "cell_type": "markdown",
      "source": [
        "A vector is an array of numbers. Vectors can be represented in Python using NumPy, PyTorch, or TensorFlow arrays."
      ],
      "metadata": {
        "id": "1M1Q_-4X2w1I"
      }
    },
    {
      "cell_type": "markdown",
      "source": [
        "$\n",
        "\\mathbf{v} = \\begin{bmatrix} 1 \\\\ 2 \\\\ 3 \\end{bmatrix}\n",
        "$\n"
      ],
      "metadata": {
        "id": "sPoq19bu2ziK"
      }
    },
    {
      "cell_type": "code",
      "source": [
        "# Creating a vector\n",
        "# Creating a vector with NumPy\n",
        "v_np = np.array([1, 2, 3])\n",
        "print(\"NumPy Vector v:\", v_np)\n",
        "\n",
        "# Creating a vector with PyTorch\n",
        "v_pt = torch.tensor([1, 2, 3])\n",
        "print(\"PyTorch Vector v:\", v_pt)\n",
        "\n",
        "# Creating a vector with TensorFlow\n",
        "v_tf = tf.constant([1, 2, 3])\n",
        "print(\"TensorFlow Vector v:\", v_tf)"
      ],
      "metadata": {
        "colab": {
          "base_uri": "https://localhost:8080/"
        },
        "id": "jmdoeLFt2mA-",
        "outputId": "08714054-1c65-4dff-e22e-58679810009c"
      },
      "execution_count": 21,
      "outputs": [
        {
          "output_type": "stream",
          "name": "stdout",
          "text": [
            "NumPy Vector v: [1 2 3]\n",
            "PyTorch Vector v: tensor([1, 2, 3])\n",
            "TensorFlow Vector v: tf.Tensor([1 2 3], shape=(3,), dtype=int32)\n"
          ]
        }
      ]
    },
    {
      "cell_type": "markdown",
      "source": [
        "#### 3.1.2 Matrices"
      ],
      "metadata": {
        "id": "Py1ZCCqo3xxK"
      }
    },
    {
      "cell_type": "markdown",
      "source": [
        "A matrix is a 2D array of numbers. You can create matrices in NumPy, PyTorch, or TensorFlow using nested lists.\n"
      ],
      "metadata": {
        "id": "SFCuaknI328_"
      }
    },
    {
      "cell_type": "markdown",
      "source": [
        "$\n",
        "\\mathbf{A} = \\begin{bmatrix} 1 & 2 & 3 \\\\ 4 & 5 & 6 \\\\ 7 & 8 & 9 \\end{bmatrix}\n",
        "$\n"
      ],
      "metadata": {
        "id": "Kv6ODp7d34_s"
      }
    },
    {
      "cell_type": "code",
      "source": [
        "# Creating a matrix with NumPy\n",
        "A_np = np.array([[1, 2, 3], [4, 5, 6], [7, 8, 9]])\n",
        "print(\"NumPy Matrix A:\\n\", A_np, '\\n')\n",
        "\n",
        "# Creating a matrix with PyTorch\n",
        "A_pt = torch.tensor([[1, 2, 3], [4, 5, 6], [7, 8, 9]])\n",
        "print(\"PyTorch Matrix A:\\n\", A_pt, '\\n')\n",
        "\n",
        "# Creating a matrix with TensorFlow\n",
        "A_tf = tf.constant([[1, 2, 3], [4, 5, 6], [7, 8, 9]])\n",
        "print(\"TensorFlow Matrix A:\\n\", A_tf, '\\n')\n"
      ],
      "metadata": {
        "colab": {
          "base_uri": "https://localhost:8080/"
        },
        "id": "badDT_VD39Oy",
        "outputId": "bb8745bd-c52f-428d-ce4a-265a669f3769"
      },
      "execution_count": 22,
      "outputs": [
        {
          "output_type": "stream",
          "name": "stdout",
          "text": [
            "NumPy Matrix A:\n",
            " [[1 2 3]\n",
            " [4 5 6]\n",
            " [7 8 9]] \n",
            "\n",
            "PyTorch Matrix A:\n",
            " tensor([[1, 2, 3],\n",
            "        [4, 5, 6],\n",
            "        [7, 8, 9]]) \n",
            "\n",
            "TensorFlow Matrix A:\n",
            " tf.Tensor(\n",
            "[[1 2 3]\n",
            " [4 5 6]\n",
            " [7 8 9]], shape=(3, 3), dtype=int32) \n",
            "\n"
          ]
        }
      ]
    },
    {
      "cell_type": "markdown",
      "source": [
        "### 3.2 Basic Operations"
      ],
      "metadata": {
        "id": "-2Wd9foF41jn"
      }
    },
    {
      "cell_type": "markdown",
      "source": [
        "Linear algebra involves various operations on vectors and matrices. Here, we cover some fundamental operations.\n"
      ],
      "metadata": {
        "id": "F79EtEaf46jm"
      }
    },
    {
      "cell_type": "markdown",
      "source": [
        "#### 3.2.1 Vector Addition and Subtraction"
      ],
      "metadata": {
        "id": "uXHuAkNK48ZV"
      }
    },
    {
      "cell_type": "markdown",
      "source": [
        "In vector addition, corresponding elements of the vectors are added together.\n"
      ],
      "metadata": {
        "id": "kLzEdSl35A0P"
      }
    },
    {
      "cell_type": "markdown",
      "source": [
        "$\n",
        "\\mathbf{v_1} = \\begin{bmatrix} 1 \\\\ 2 \\\\ 3 \\end{bmatrix}, \\quad \\mathbf{v_2} = \\begin{bmatrix} 4 \\\\ 5 \\\\ 6 \\end{bmatrix}\n",
        "$\n",
        "\n",
        "$\n",
        "\\mathbf{v_1} + \\mathbf{v_2} = \\begin{bmatrix} 1 + 4 \\\\ 2 + 5 \\\\ 3 + 6 \\end{bmatrix} = \\begin{bmatrix} 5 \\\\ 7 \\\\ 9 \\end{bmatrix}\n",
        "$\n"
      ],
      "metadata": {
        "id": "0jlagPz55EvF"
      }
    },
    {
      "cell_type": "code",
      "source": [
        "# Vector addition with NumPy\n",
        "v1_np = np.array([1, 2, 3])\n",
        "v2_np = np.array([4, 5, 6])\n",
        "v_add_np = v1_np + v2_np\n",
        "print(\"NumPy Vector addition:\", v_add_np)\n",
        "\n",
        "# Vector addition with PyTorch\n",
        "v1_pt = torch.tensor([1, 2, 3])\n",
        "v2_pt = torch.tensor([4, 5, 6])\n",
        "v_add_pt = v1_pt + v2_pt\n",
        "print(\"PyTorch Vector addition:\", v_add_pt)\n",
        "\n",
        "# Vector addition with TensorFlow\n",
        "v1_tf = tf.constant([1, 2, 3])\n",
        "v2_tf = tf.constant([4, 5, 6])\n",
        "v_add_tf = v1_tf + v2_tf\n",
        "print(\"TensorFlow Vector addition:\", v_add_tf)"
      ],
      "metadata": {
        "colab": {
          "base_uri": "https://localhost:8080/"
        },
        "id": "PjJXXI2f5LUX",
        "outputId": "77e57532-ab6a-4e79-e7d0-9584ae56faf6"
      },
      "execution_count": 23,
      "outputs": [
        {
          "output_type": "stream",
          "name": "stdout",
          "text": [
            "NumPy Vector addition: [5 7 9]\n",
            "PyTorch Vector addition: tensor([5, 7, 9])\n",
            "TensorFlow Vector addition: tf.Tensor([5 7 9], shape=(3,), dtype=int32)\n"
          ]
        }
      ]
    },
    {
      "cell_type": "markdown",
      "source": [
        "In vector subtraction, corresponding elements of the vectors are subtracted."
      ],
      "metadata": {
        "id": "xwUwDocZ5QFc"
      }
    },
    {
      "cell_type": "markdown",
      "source": [
        "$\n",
        "\\mathbf{v_1} - \\mathbf{v_2} = \\begin{bmatrix} 1 - 4 \\\\ 2 - 5 \\\\ 3 - 6 \\end{bmatrix} = \\begin{bmatrix} -3 \\\\ -3 \\\\ -3 \\end{bmatrix}\n",
        "$"
      ],
      "metadata": {
        "id": "G3csNUFn5SaQ"
      }
    },
    {
      "cell_type": "code",
      "source": [
        "# Vector subtraction with NumPy\n",
        "v_sub_np = v1_np - v2_np\n",
        "print(\"NumPy Vector subtraction:\", v_sub_np)\n",
        "\n",
        "# Vector subtraction with PyTorch\n",
        "v_sub_pt = v1_pt - v2_pt\n",
        "print(\"PyTorch Vector subtraction:\", v_sub_pt)\n",
        "\n",
        "# Vector subtraction with TensorFlow\n",
        "v_sub_tf = v1_tf - v2_tf\n",
        "print(\"TensorFlow Vector subtraction:\", v_sub_tf)"
      ],
      "metadata": {
        "colab": {
          "base_uri": "https://localhost:8080/"
        },
        "id": "zhAwM1Gs5Dfe",
        "outputId": "47c389e0-d69c-4813-e084-18c1d4a50647"
      },
      "execution_count": 24,
      "outputs": [
        {
          "output_type": "stream",
          "name": "stdout",
          "text": [
            "NumPy Vector subtraction: [-3 -3 -3]\n",
            "PyTorch Vector subtraction: tensor([-3, -3, -3])\n",
            "TensorFlow Vector subtraction: tf.Tensor([-3 -3 -3], shape=(3,), dtype=int32)\n"
          ]
        }
      ]
    },
    {
      "cell_type": "markdown",
      "source": [
        "#### 3.2.2 Matrix Addition and Subtraction"
      ],
      "metadata": {
        "id": "M46u4_qo5ZVM"
      }
    },
    {
      "cell_type": "markdown",
      "source": [
        "Matrix addition and subtraction work similarly to vector operations but are applied element-wise across two matrices of the same shape."
      ],
      "metadata": {
        "id": "MBNJeO3x5fFA"
      }
    },
    {
      "cell_type": "markdown",
      "source": [
        "$\n",
        "\\mathbf{A} = \\begin{bmatrix} 1 & 2 \\\\ 3 & 4 \\end{bmatrix}, \\quad \\mathbf{B} = \\begin{bmatrix} 5 & 6 \\\\ 7 & 8 \\end{bmatrix}\n",
        "$\n",
        "\n",
        "$\n",
        "\\mathbf{A} + \\mathbf{B} = \\begin{bmatrix} 1 + 5 & 2 + 6 \\\\ 3 + 7 & 4 + 8 \\end{bmatrix} = \\begin{bmatrix} 6 & 8 \\\\ 10 & 12 \\end{bmatrix}\n",
        "$\n",
        "\n",
        "$\n",
        "\\mathbf{A} - \\mathbf{B} = \\begin{bmatrix} 1 - 5 & 2 - 6 \\\\ 3 - 7 & 4 - 8 \\end{bmatrix} = \\begin{bmatrix} -4 & -4 \\\\ -4 & -4 \\end{bmatrix}\n",
        "$"
      ],
      "metadata": {
        "id": "IYNbBnrj5iKW"
      }
    },
    {
      "cell_type": "code",
      "source": [
        "# Matrix addition with NumPy\n",
        "A_np = np.array([[1, 2], [3, 4]])\n",
        "B_np = np.array([[5, 6], [7, 8]])\n",
        "C_add_np = A_np + B_np\n",
        "print(\"NumPy Matrix addition:\\n\", C_add_np)\n",
        "\n",
        "# Matrix addition with PyTorch\n",
        "A_pt = torch.tensor([[1, 2], [3, 4]])\n",
        "B_pt = torch.tensor([[5, 6], [7, 8]])\n",
        "C_add_pt = A_pt + B_pt\n",
        "print(\"PyTorch Matrix addition:\\n\", C_add_pt)\n",
        "\n",
        "# Matrix addition with TensorFlow\n",
        "A_tf = tf.constant([[1, 2], [3, 4]])\n",
        "B_tf = tf.constant([[5, 6], [7, 8]])\n",
        "C_add_tf = A_tf + B_tf\n",
        "print(\"TensorFlow Matrix addition:\\n\", C_add_tf)\n"
      ],
      "metadata": {
        "colab": {
          "base_uri": "https://localhost:8080/"
        },
        "id": "6-L82TIM5qNR",
        "outputId": "2243b79d-f70d-4e58-c7f4-9511a45b6ede"
      },
      "execution_count": 25,
      "outputs": [
        {
          "output_type": "stream",
          "name": "stdout",
          "text": [
            "NumPy Matrix addition:\n",
            " [[ 6  8]\n",
            " [10 12]]\n",
            "PyTorch Matrix addition:\n",
            " tensor([[ 6,  8],\n",
            "        [10, 12]])\n",
            "TensorFlow Matrix addition:\n",
            " tf.Tensor(\n",
            "[[ 6  8]\n",
            " [10 12]], shape=(2, 2), dtype=int32)\n"
          ]
        }
      ]
    },
    {
      "cell_type": "markdown",
      "source": [
        "#### 3.2.3 Matrix Multiplication"
      ],
      "metadata": {
        "id": "RkcQkJ775xW0"
      }
    },
    {
      "cell_type": "markdown",
      "source": [
        "Matrix multiplication is a bit more complex than element-wise operations. The number of columns in the first matrix must equal the number of rows in the second matrix. The resulting matrix has dimensions equal to the number of rows of the first matrix and the number of columns of the second matrix."
      ],
      "metadata": {
        "id": "Bj3ca3Mw51_g"
      }
    },
    {
      "cell_type": "markdown",
      "source": [
        "$\n",
        "\\mathbf{A} = \\begin{bmatrix} 1 & 2 \\\\ 3 & 4 \\end{bmatrix}, \\quad \\mathbf{B} = \\begin{bmatrix} 5 & 6 \\\\ 7 & 8 \\end{bmatrix}\n",
        "$\n",
        "\n",
        "$\n",
        "\\mathbf{A} \\cdot \\mathbf{B} = \\begin{bmatrix} (1 \\cdot 5 + 2 \\cdot 7) & (1 \\cdot 6 + 2 \\cdot 8) \\\\ (3 \\cdot 5 + 4 \\cdot 7) & (3 \\cdot 6 + 4 \\cdot 8) \\end{bmatrix} = \\begin{bmatrix} 19 & 22 \\\\ 43 & 50 \\end{bmatrix}\n",
        "$"
      ],
      "metadata": {
        "id": "kWNFp7RL54aj"
      }
    },
    {
      "cell_type": "code",
      "source": [
        "# Matrix multiplication with NumPy\n",
        "C_mul_np = np.dot(A_np, B_np)\n",
        "print(\"NumPy Matrix multiplication:\\n\", C_mul_np)\n",
        "\n",
        "# Matrix multiplication with PyTorch\n",
        "C_mul_pt = torch.matmul(A_pt, B_pt)\n",
        "print(\"PyTorch Matrix multiplication:\\n\", C_mul_pt)\n",
        "\n",
        "# Matrix multiplication with TensorFlow\n",
        "C_mul_tf = tf.matmul(A_tf, B_tf)\n",
        "print(\"TensorFlow Matrix multiplication:\\n\", C_mul_tf)\n"
      ],
      "metadata": {
        "colab": {
          "base_uri": "https://localhost:8080/"
        },
        "id": "zeEzwpHj6DZ5",
        "outputId": "a026902e-db67-428c-ae2a-cc55ab6de0ef"
      },
      "execution_count": 26,
      "outputs": [
        {
          "output_type": "stream",
          "name": "stdout",
          "text": [
            "NumPy Matrix multiplication:\n",
            " [[19 22]\n",
            " [43 50]]\n",
            "PyTorch Matrix multiplication:\n",
            " tensor([[19, 22],\n",
            "        [43, 50]])\n",
            "TensorFlow Matrix multiplication:\n",
            " tf.Tensor(\n",
            "[[19 22]\n",
            " [43 50]], shape=(2, 2), dtype=int32)\n"
          ]
        }
      ]
    },
    {
      "cell_type": "markdown",
      "source": [
        "#### 3.2.4 Element-wise Operations"
      ],
      "metadata": {
        "id": "5huXWJKt6CK5"
      }
    },
    {
      "cell_type": "markdown",
      "source": [
        "Element-wise multiplication multiplies corresponding elements of two matrices of the same shape.\n",
        "\n",
        "$\n",
        "\\mathbf{A} = \\begin{bmatrix} 1 & 2 \\\\ 3 & 4 \\end{bmatrix}, \\quad \\mathbf{B} = \\begin{bmatrix} 5 & 6 \\\\ 7 & 8 \\end{bmatrix}\n",
        "$\n",
        "\n",
        "$\n",
        "\\mathbf{A} \\circ \\mathbf{B} = \\begin{bmatrix} 1 \\cdot 5 & 2 \\cdot 6 \\\\ 3 \\cdot 7 & 4 \\cdot 8 \\end{bmatrix} = \\begin{bmatrix} 5 & 12 \\\\ 21 & 32 \\end{bmatrix}\n",
        "$\n"
      ],
      "metadata": {
        "id": "CKFhvBSw67XK"
      }
    },
    {
      "cell_type": "code",
      "source": [
        "# Element-wise multiplication with NumPy\n",
        "C_elem_mul_np = A_np * B_np\n",
        "print(\"NumPy Element-wise multiplication:\\n\", C_elem_mul_np)\n",
        "\n",
        "# Element-wise multiplication with PyTorch\n",
        "C_elem_mul_pt = A_pt * B_pt\n",
        "print(\"PyTorch Element-wise multiplication:\\n\", C_elem_mul_pt)\n",
        "\n",
        "# Element-wise multiplication with TensorFlow\n",
        "C_elem_mul_tf = A_tf * B_tf\n",
        "print(\"TensorFlow Element-wise multiplication:\\n\", C_elem_mul_tf)\n"
      ],
      "metadata": {
        "colab": {
          "base_uri": "https://localhost:8080/"
        },
        "id": "mwhlNciW7H-P",
        "outputId": "b16d7aa3-a0bd-4ef3-fadd-5e9003af2622"
      },
      "execution_count": 27,
      "outputs": [
        {
          "output_type": "stream",
          "name": "stdout",
          "text": [
            "NumPy Element-wise multiplication:\n",
            " [[ 5 12]\n",
            " [21 32]]\n",
            "PyTorch Element-wise multiplication:\n",
            " tensor([[ 5, 12],\n",
            "        [21, 32]])\n",
            "TensorFlow Element-wise multiplication:\n",
            " tf.Tensor(\n",
            "[[ 5 12]\n",
            " [21 32]], shape=(2, 2), dtype=int32)\n"
          ]
        }
      ]
    },
    {
      "cell_type": "markdown",
      "source": [
        "#### 3.2.5 Transpose of a Matrix"
      ],
      "metadata": {
        "id": "ye_kM8Jz7OGc"
      }
    },
    {
      "cell_type": "markdown",
      "source": [
        "The transpose of a matrix is obtained by flipping the matrix over its diagonal. This operation switches the row and column indices of the matrix.\n"
      ],
      "metadata": {
        "id": "S5cmFOdp7V8I"
      }
    },
    {
      "cell_type": "markdown",
      "source": [
        "$\n",
        "\\mathbf{A} = \\begin{bmatrix} 1 & 2 \\\\ 3 & 4 \\end{bmatrix}, \\quad \\mathbf{A}^T = \\begin{bmatrix} 1 & 3 \\\\ 2 & 4 \\end{bmatrix}\n",
        "$"
      ],
      "metadata": {
        "id": "RPpHn6tU7X6i"
      }
    },
    {
      "cell_type": "code",
      "source": [
        "# Transpose of a matrix with NumPy\n",
        "A_T_np = A_np.T\n",
        "print(\"NumPy Transpose of A:\\n\", A_T_np)\n",
        "\n",
        "# Transpose of a matrix with PyTorch\n",
        "A_T_pt = A_pt.T\n",
        "print(\"PyTorch Transpose of A:\\n\", A_T_pt)\n",
        "\n",
        "# Transpose of a matrix with TensorFlow\n",
        "A_T_tf = tf.transpose(A_tf)\n",
        "print(\"TensorFlow Transpose of A:\\n\", A_T_tf)"
      ],
      "metadata": {
        "colab": {
          "base_uri": "https://localhost:8080/"
        },
        "id": "po13tgAP7h9f",
        "outputId": "21de8d64-0ca7-4891-f961-1303d2f1893f"
      },
      "execution_count": 28,
      "outputs": [
        {
          "output_type": "stream",
          "name": "stdout",
          "text": [
            "NumPy Transpose of A:\n",
            " [[1 3]\n",
            " [2 4]]\n",
            "PyTorch Transpose of A:\n",
            " tensor([[1, 3],\n",
            "        [2, 4]])\n",
            "TensorFlow Transpose of A:\n",
            " tf.Tensor(\n",
            "[[1 3]\n",
            " [2 4]], shape=(2, 2), dtype=int32)\n"
          ]
        }
      ]
    },
    {
      "cell_type": "markdown",
      "source": [
        "### 3.3 Vector Operations"
      ],
      "metadata": {
        "id": "R-KpZzMD7pG1"
      }
    },
    {
      "cell_type": "markdown",
      "source": [
        "#### 3.3.1 Dot Product"
      ],
      "metadata": {
        "id": "qJp0KbWu7yOP"
      }
    },
    {
      "cell_type": "markdown",
      "source": [
        "The dot product of two vectors is a scalar value that measures their similarity. It is calculated as the sum of the products of their corresponding elements."
      ],
      "metadata": {
        "id": "87ZRTzbt73ww"
      }
    },
    {
      "cell_type": "markdown",
      "source": [
        "$\n",
        "\\mathbf{v_1} \\cdot \\mathbf{v_2} = \\sum_{i=1}^{n} v_{1i} v_{2i}\n",
        "$\n",
        "\n",
        "$\n",
        "\\mathbf{v_1} = \\begin{bmatrix} 1 \\\\ 2 \\\\ 3 \\end{bmatrix}, \\quad \\mathbf{v_2} = \\begin{bmatrix} 4 \\\\ 5 \\\\ 6 \\end{bmatrix}\n",
        "$\n",
        "\n",
        "$\n",
        "\\mathbf{v_1} \\cdot \\mathbf{v_2} = 1 \\cdot 4 + 2 \\cdot 5 + 3 \\cdot 6 = 4 + 10 + 18 = 32\n",
        "$"
      ],
      "metadata": {
        "id": "sj7TZKp076TP"
      }
    },
    {
      "cell_type": "code",
      "source": [
        "# Dot product with NumPy\n",
        "dot_product_np = np.dot(v1_np, v2_np)\n",
        "print(\"NumPy Dot product:\", dot_product_np)\n",
        "\n",
        "# Dot product with PyTorch\n",
        "dot_product_pt = torch.dot(v1_pt, v2_pt)\n",
        "print(\"PyTorch Dot product:\", dot_product_pt)\n",
        "\n",
        "# Dot product with TensorFlow\n",
        "dot_product_tf = tf.tensordot(v1_tf, v2_tf, axes=1)\n",
        "print(\"TensorFlow Dot product:\", dot_product_tf)\n"
      ],
      "metadata": {
        "colab": {
          "base_uri": "https://localhost:8080/"
        },
        "id": "TCwh36Gd8wKR",
        "outputId": "ec16114d-bab7-41d7-b01a-1388ad34d3a0"
      },
      "execution_count": 29,
      "outputs": [
        {
          "output_type": "stream",
          "name": "stdout",
          "text": [
            "NumPy Dot product: 32\n",
            "PyTorch Dot product: tensor(32)\n",
            "TensorFlow Dot product: tf.Tensor(32, shape=(), dtype=int32)\n"
          ]
        }
      ]
    },
    {
      "cell_type": "markdown",
      "source": [
        "####3.3.2 Cross Product"
      ],
      "metadata": {
        "id": "lnuSbfBf82aT"
      }
    },
    {
      "cell_type": "markdown",
      "source": [
        "The cross product of two vectors in 3D space results in a new vector that is perpendicular to both.\n",
        "\n",
        "$\n",
        "\\mathbf{v_1} = \\begin{bmatrix} 1 \\\\ 2 \\\\ 3 \\end{bmatrix}, \\quad \\mathbf{v_2} = \\begin{bmatrix} 4 \\\\ 5 \\\\ 6 \\end{bmatrix}\n",
        "$\n",
        "\n",
        "$\n",
        "\\mathbf{v_1} \\times \\mathbf{v_2} = \\begin{bmatrix} v_{1y}v_{2z} - v_{1z}v_{2y} \\\\ v_{1z}v_{2x} - v_{1x}v_{2z} \\\\ v_{1x}v_{2y} - v_{1y}v_{2x} \\end{bmatrix} = \\begin{bmatrix} 2 \\cdot 6 - 3 \\cdot 5 \\\\ 3 \\cdot 4 - 1 \\cdot 6 \\\\ 1 \\cdot 5 - 2 \\cdot 4 \\end{bmatrix} = \\begin{bmatrix} -3 \\\\ 6 \\\\ -3 \\end{bmatrix}\n",
        "$"
      ],
      "metadata": {
        "id": "fLvRta7Z9CrT"
      }
    },
    {
      "cell_type": "code",
      "source": [
        "# Cross product with NumPy\n",
        "cross_product_np = np.cross(v1_np, v2_np)\n",
        "print(\"NumPy Cross product:\", cross_product_np)\n",
        "\n",
        "# Cross product with PyTorch\n",
        "cross_product_pt = torch.cross(v1_pt, v2_pt)\n",
        "print(\"PyTorch Cross product:\", cross_product_pt)\n",
        "\n",
        "# Cross product with TensorFlow\n",
        "cross_product_tf = tf.linalg.cross(v1_tf, v2_tf)\n",
        "print(\"TensorFlow Cross product:\", cross_product_tf)"
      ],
      "metadata": {
        "colab": {
          "base_uri": "https://localhost:8080/"
        },
        "id": "hNq6LfzC9CWO",
        "outputId": "46250136-e082-4fc0-f477-aa39c4318ce4"
      },
      "execution_count": 30,
      "outputs": [
        {
          "output_type": "stream",
          "name": "stdout",
          "text": [
            "NumPy Cross product: [-3  6 -3]\n",
            "PyTorch Cross product: tensor([-3,  6, -3])\n",
            "TensorFlow Cross product: tf.Tensor([-3  6 -3], shape=(3,), dtype=int32)\n"
          ]
        },
        {
          "output_type": "stream",
          "name": "stderr",
          "text": [
            "<ipython-input-30-2147d624f619>:6: UserWarning:\n",
            "\n",
            "Using torch.cross without specifying the dim arg is deprecated.\n",
            "Please either pass the dim explicitly or simply use torch.linalg.cross.\n",
            "The default value of dim will change to agree with that of linalg.cross in a future release. (Triggered internally at ../aten/src/ATen/native/Cross.cpp:62.)\n",
            "\n"
          ]
        }
      ]
    },
    {
      "cell_type": "markdown",
      "source": [
        "### 3.4 Matrix Operations"
      ],
      "metadata": {
        "id": "Ub0zQcB7-A6k"
      }
    },
    {
      "cell_type": "markdown",
      "source": [
        "#### 3.4.1 Identity Matrix"
      ],
      "metadata": {
        "id": "SWE5aMmF-ErI"
      }
    },
    {
      "cell_type": "markdown",
      "source": [
        "The identity matrix is a square matrix with ones on the diagonal and zeros elsewhere. It acts as the multiplicative identity in matrix multiplication."
      ],
      "metadata": {
        "id": "Ww65VJx6-Hvt"
      }
    },
    {
      "cell_type": "markdown",
      "source": [
        "$\n",
        "\\mathbf{I} = \\begin{bmatrix} 1 & 0 & 0 \\\\ 0 & 1 & 0 \\\\ 0 & 0 & 1 \\end{bmatrix}\n",
        "$"
      ],
      "metadata": {
        "id": "jQHVw4gg-KKJ"
      }
    },
    {
      "cell_type": "code",
      "source": [
        "# Identity matrix with NumPy\n",
        "I_np = np.eye(3)\n",
        "print(\"NumPy Identity matrix:\\n\", I_np)\n",
        "\n",
        "# Identity matrix with PyTorch\n",
        "I_pt = torch.eye(3)\n",
        "print(\"PyTorch Identity matrix:\\n\", I_pt)\n",
        "\n",
        "# Identity matrix with TensorFlow\n",
        "I_tf = tf.eye(3)\n",
        "print(\"TensorFlow Identity matrix:\\n\", I_tf)"
      ],
      "metadata": {
        "colab": {
          "base_uri": "https://localhost:8080/"
        },
        "id": "STYHOOcL-X8v",
        "outputId": "b7d69e8d-0cbc-483a-a2e6-b7e7fb976ad3"
      },
      "execution_count": 31,
      "outputs": [
        {
          "output_type": "stream",
          "name": "stdout",
          "text": [
            "NumPy Identity matrix:\n",
            " [[1. 0. 0.]\n",
            " [0. 1. 0.]\n",
            " [0. 0. 1.]]\n",
            "PyTorch Identity matrix:\n",
            " tensor([[1., 0., 0.],\n",
            "        [0., 1., 0.],\n",
            "        [0., 0., 1.]])\n",
            "TensorFlow Identity matrix:\n",
            " tf.Tensor(\n",
            "[[1. 0. 0.]\n",
            " [0. 1. 0.]\n",
            " [0. 0. 1.]], shape=(3, 3), dtype=float32)\n"
          ]
        }
      ]
    },
    {
      "cell_type": "markdown",
      "source": [
        "#### 3.4.2 Inverse of a Matrix\n"
      ],
      "metadata": {
        "id": "UdzfOWhH-bYb"
      }
    },
    {
      "cell_type": "markdown",
      "source": [
        "The inverse of a matrix $A$ is a matrix $A^{-1}$ such that $A \\cdot A^{-1} = I$, where $I$ is the identity matrix. Not all matrices have inverses.\n",
        "\n",
        "$\n",
        "\\mathbf{A} = \\begin{bmatrix} 1 & 2 \\\\ 3 & 4 \\end{bmatrix}, \\quad \\mathbf{A}^{-1} = \\frac{1}{\\text{det}(\\mathbf{A})} \\begin{bmatrix} d & -b \\\\ -c & a \\end{bmatrix} = \\frac{1}{-2} \\begin{bmatrix} 4 & -2 \\\\ -3 & 1 \\end{bmatrix} = \\begin{bmatrix} -2 & 1 \\\\ 1.5 & -0.5 \\end{bmatrix}\n",
        "$\n"
      ],
      "metadata": {
        "id": "45OxFGWR-fMR"
      }
    },
    {
      "cell_type": "code",
      "source": [
        "A_pt = torch.tensor([[1, 2], [3, 4]], dtype=torch.float32)\n",
        "A_tf = tf.constant([[1, 2], [3, 4]], dtype=tf.float32)\n",
        "\n",
        "# Inverse of a matrix with NumPy\n",
        "A_inv_np = np.linalg.inv(A_np)\n",
        "print(\"NumPy Inverse of A:\\n\", A_inv_np)\n",
        "\n",
        "# Inverse of a matrix with PyTorch\n",
        "A_inv_pt = torch.linalg.inv(A_pt)\n",
        "print(\"PyTorch Inverse of A:\\n\", A_inv_pt)\n",
        "\n",
        "# Inverse of a matrix with TensorFlow\n",
        "A_inv_tf = tf.linalg.inv(A_tf)\n",
        "print(\"TensorFlow Inverse of A:\\n\", A_inv_tf)"
      ],
      "metadata": {
        "colab": {
          "base_uri": "https://localhost:8080/"
        },
        "id": "YWmWlbbM-0lX",
        "outputId": "addf0bb5-2fc1-4f37-f2da-6d6c8f38dcad"
      },
      "execution_count": 32,
      "outputs": [
        {
          "output_type": "stream",
          "name": "stdout",
          "text": [
            "NumPy Inverse of A:\n",
            " [[-2.   1. ]\n",
            " [ 1.5 -0.5]]\n",
            "PyTorch Inverse of A:\n",
            " tensor([[-2.0000,  1.0000],\n",
            "        [ 1.5000, -0.5000]])\n",
            "TensorFlow Inverse of A:\n",
            " tf.Tensor(\n",
            "[[-2.0000002   1.0000001 ]\n",
            " [ 1.5000001  -0.50000006]], shape=(2, 2), dtype=float32)\n"
          ]
        }
      ]
    },
    {
      "cell_type": "markdown",
      "source": [
        "#### 3.4.3 Determinant of a Matrix"
      ],
      "metadata": {
        "id": "nBzfmUU8Bs3R"
      }
    },
    {
      "cell_type": "markdown",
      "source": [
        "The determinant is a scalar value that can be computed from the elements of a square matrix and encodes certain properties of the matrix.\n",
        "\n",
        "$\n",
        "\\mathbf{A} = \\begin{bmatrix} a & b \\\\ c & d \\end{bmatrix}, \\quad \\text{det}(\\mathbf{A}) = ad - bc\n",
        "$"
      ],
      "metadata": {
        "id": "Ie9dmrqKBxgC"
      }
    },
    {
      "cell_type": "code",
      "source": [
        "# Determinant of a matrix with NumPy\n",
        "det_A_np = np.linalg.det(A_np)\n",
        "print(\"NumPy Determinant of A:\", det_A_np)\n",
        "\n",
        "# Determinant of a matrix with PyTorch\n",
        "det_A_pt = torch.det(A_pt)\n",
        "print(\"PyTorch Determinant of A:\", det_A_pt)\n",
        "\n",
        "# Determinant of a matrix with TensorFlow\n",
        "det_A_tf = tf.linalg.det(A_tf)\n",
        "print(\"TensorFlow Determinant of A:\", det_A_tf)"
      ],
      "metadata": {
        "colab": {
          "base_uri": "https://localhost:8080/"
        },
        "id": "4nbdHDI_B6uS",
        "outputId": "eb84e64c-380a-4a9c-f045-3815e554cfc1"
      },
      "execution_count": 33,
      "outputs": [
        {
          "output_type": "stream",
          "name": "stdout",
          "text": [
            "NumPy Determinant of A: -2.0000000000000004\n",
            "PyTorch Determinant of A: tensor(-2.)\n",
            "TensorFlow Determinant of A: tf.Tensor(-2.0, shape=(), dtype=float32)\n"
          ]
        }
      ]
    },
    {
      "cell_type": "markdown",
      "source": [
        "FM 1: If you know more operation add on answer cell with beautiful markdown (Latex and html)"
      ],
      "metadata": {
        "id": "7Y8OoC3Uw-OH"
      }
    },
    {
      "cell_type": "markdown",
      "source": [
        "**Answer**"
      ],
      "metadata": {
        "id": "ZcvXKzkWxZQJ"
      }
    },
    {
      "cell_type": "markdown",
      "source": [
        "### 3.5 Matrix Decompositions"
      ],
      "metadata": {
        "id": "mGqC9UtbB-01"
      }
    },
    {
      "cell_type": "markdown",
      "source": [
        "Matrix decompositions are crucial for solving systems of equations, among other applications.\n"
      ],
      "metadata": {
        "id": "FNVaaP3PCC34"
      }
    },
    {
      "cell_type": "markdown",
      "source": [
        "#### 3.5.1 LU Decomposition"
      ],
      "metadata": {
        "id": "Aq1PYLTnCE4o"
      }
    },
    {
      "cell_type": "markdown",
      "source": [
        "LU decomposition factors a matrix as the product of a lower triangular matrix $L$ and an upper triangular matrix $U$.\n",
        "\n",
        "$\n",
        "\\mathbf{A} = \\mathbf{L} \\cdot \\mathbf{U}\n",
        "$\n"
      ],
      "metadata": {
        "id": "VEaQHZUTCIrf"
      }
    },
    {
      "cell_type": "code",
      "source": [
        "import scipy.linalg as linalg\n",
        "\n",
        "# LU Decomposition with NumPy/Scipy\n",
        "P, L, U = linalg.lu(A_np)\n",
        "print(\"NumPy/Scipy LU Decomposition:\")\n",
        "print(\"P:\\n\", P)\n",
        "print(\"L:\\n\", L)\n",
        "print(\"U:\\n\", U)\n",
        "\n",
        "# LU Decomposition with PyTorch\n",
        "# PyTorch does not have a built-in LU decomposition function\n",
        "\n",
        "# LU Decomposition with TensorFlow\n",
        "L_tf, U_tf = tf.linalg.lu(A_tf)\n",
        "print(\"TensorFlow LU Decomposition:\")\n",
        "print(\"L:\\n\", L_tf)\n",
        "print(\"U:\\n\", U_tf)\n"
      ],
      "metadata": {
        "colab": {
          "base_uri": "https://localhost:8080/"
        },
        "id": "qAbcj9rqCUFy",
        "outputId": "bf433014-1fb6-467d-db89-8c63b7ea02f3"
      },
      "execution_count": 34,
      "outputs": [
        {
          "output_type": "stream",
          "name": "stdout",
          "text": [
            "NumPy/Scipy LU Decomposition:\n",
            "P:\n",
            " [[0. 1.]\n",
            " [1. 0.]]\n",
            "L:\n",
            " [[1.         0.        ]\n",
            " [0.33333333 1.        ]]\n",
            "U:\n",
            " [[3.         4.        ]\n",
            " [0.         0.66666667]]\n",
            "TensorFlow LU Decomposition:\n",
            "L:\n",
            " tf.Tensor(\n",
            "[[3.         4.        ]\n",
            " [0.33333334 0.6666666 ]], shape=(2, 2), dtype=float32)\n",
            "U:\n",
            " tf.Tensor([1 0], shape=(2,), dtype=int32)\n"
          ]
        }
      ]
    },
    {
      "cell_type": "markdown",
      "source": [
        "#### 3.5.2 QR Decomposition"
      ],
      "metadata": {
        "id": "ZT1GcJzfDUYt"
      }
    },
    {
      "cell_type": "markdown",
      "source": [
        "QR decomposition factors a matrix into an orthogonal matrix $Q$ and an upper triangular matrix $R$.\n",
        "\n",
        "$\n",
        "\\mathbf{A} = \\mathbf{Q} \\cdot \\mathbf{R}\n",
        "$"
      ],
      "metadata": {
        "id": "U4v0f3h1DYYp"
      }
    },
    {
      "cell_type": "code",
      "source": [
        "# QR Decomposition with NumPy\n",
        "Q_np, R_np = np.linalg.qr(A_np)\n",
        "print(\"NumPy QR Decomposition:\")\n",
        "print(\"Q:\\n\", Q_np)\n",
        "print(\"R:\\n\", R_np)\n",
        "\n",
        "# QR Decomposition with PyTorch\n",
        "Q_pt, R_pt = torch.qr(A_pt)\n",
        "print(\"PyTorch QR Decomposition:\")\n",
        "print(\"Q:\\n\", Q_pt)\n",
        "print(\"R:\\n\", R_pt)\n",
        "\n",
        "# QR Decomposition with TensorFlow\n",
        "Q_tf, R_tf = tf.linalg.qr(A_tf)\n",
        "print(\"TensorFlow QR Decomposition:\")\n",
        "print(\"Q:\\n\", Q_tf)\n",
        "print(\"R:\\n\", R_tf)\n"
      ],
      "metadata": {
        "colab": {
          "base_uri": "https://localhost:8080/"
        },
        "id": "fikMi6rAH36S",
        "outputId": "ca2cc25a-4ab5-49a6-90eb-8973da14e140"
      },
      "execution_count": 35,
      "outputs": [
        {
          "output_type": "stream",
          "name": "stdout",
          "text": [
            "NumPy QR Decomposition:\n",
            "Q:\n",
            " [[-0.31622777 -0.9486833 ]\n",
            " [-0.9486833   0.31622777]]\n",
            "R:\n",
            " [[-3.16227766 -4.42718872]\n",
            " [ 0.         -0.63245553]]\n",
            "PyTorch QR Decomposition:\n",
            "Q:\n",
            " tensor([[-0.3162, -0.9487],\n",
            "        [-0.9487,  0.3162]])\n",
            "R:\n",
            " tensor([[-3.1623, -4.4272],\n",
            "        [ 0.0000, -0.6325]])\n",
            "TensorFlow QR Decomposition:\n",
            "Q:\n",
            " tf.Tensor(\n",
            "[[-0.3162278  -0.9486833 ]\n",
            " [-0.9486833   0.31622773]], shape=(2, 2), dtype=float32)\n",
            "R:\n",
            " tf.Tensor(\n",
            "[[-3.1622777  -4.4271884 ]\n",
            " [ 0.         -0.63245535]], shape=(2, 2), dtype=float32)\n"
          ]
        },
        {
          "output_type": "stream",
          "name": "stderr",
          "text": [
            "<ipython-input-35-6d7847586ea7>:8: UserWarning:\n",
            "\n",
            "torch.qr is deprecated in favor of torch.linalg.qr and will be removed in a future PyTorch release.\n",
            "The boolean parameter 'some' has been replaced with a string parameter 'mode'.\n",
            "Q, R = torch.qr(A, some)\n",
            "should be replaced with\n",
            "Q, R = torch.linalg.qr(A, 'reduced' if some else 'complete') (Triggered internally at ../aten/src/ATen/native/BatchLinearAlgebra.cpp:2416.)\n",
            "\n"
          ]
        }
      ]
    },
    {
      "cell_type": "markdown",
      "source": [
        "#### 3.5.3 Singular Value Decomposition (SVD)"
      ],
      "metadata": {
        "id": "NFYTtrarIHpr"
      }
    },
    {
      "cell_type": "markdown",
      "source": [
        "SVD decomposes a matrix into three other matrices, where the original matrix $A$ is represented as the product of $U$, $\\Sigma$, and $V^T$.\n",
        "\n",
        "$\n",
        "\\mathbf{A} = \\mathbf{U} \\cdot \\mathbf{\\Sigma} \\cdot \\mathbf{V}^T\n",
        "$\n"
      ],
      "metadata": {
        "id": "pPT_ZMa8ILJ0"
      }
    },
    {
      "cell_type": "code",
      "source": [
        "# SVD with NumPy\n",
        "U_np, S_np, V_np = np.linalg.svd(A_np)\n",
        "print(\"NumPy SVD Decomposition:\")\n",
        "print(\"U:\\n\", U_np)\n",
        "print(\"S:\\n\", S_np)\n",
        "print(\"V:\\n\", V_np)\n",
        "\n",
        "# SVD with PyTorch\n",
        "U_pt, S_pt, V_pt = torch.svd(A_pt)\n",
        "print(\"PyTorch SVD Decomposition:\")\n",
        "print(\"U:\\n\", U_pt)\n",
        "print(\"S:\\n\", S_pt)\n",
        "print(\"V:\\n\", V_pt)\n",
        "\n",
        "# SVD with TensorFlow\n",
        "S_tf, U_tf, V_tf = tf.linalg.svd(A_tf, full_matrices=False)\n",
        "print(\"TensorFlow SVD Decomposition:\")\n",
        "print(\"U:\\n\", U_tf)\n",
        "print(\"S:\\n\", S_tf)\n",
        "print(\"V:\\n\", V_tf)"
      ],
      "metadata": {
        "colab": {
          "base_uri": "https://localhost:8080/"
        },
        "id": "0ob4etRVIYeh",
        "outputId": "34c1a078-1db9-499e-d91f-6cb89785c876"
      },
      "execution_count": 36,
      "outputs": [
        {
          "output_type": "stream",
          "name": "stdout",
          "text": [
            "NumPy SVD Decomposition:\n",
            "U:\n",
            " [[-0.40455358 -0.9145143 ]\n",
            " [-0.9145143   0.40455358]]\n",
            "S:\n",
            " [5.4649857  0.36596619]\n",
            "V:\n",
            " [[-0.57604844 -0.81741556]\n",
            " [ 0.81741556 -0.57604844]]\n",
            "PyTorch SVD Decomposition:\n",
            "U:\n",
            " tensor([[-0.4046, -0.9145],\n",
            "        [-0.9145,  0.4046]])\n",
            "S:\n",
            " tensor([5.4650, 0.3660])\n",
            "V:\n",
            " tensor([[-0.5760,  0.8174],\n",
            "        [-0.8174, -0.5760]])\n",
            "TensorFlow SVD Decomposition:\n",
            "U:\n",
            " tf.Tensor(\n",
            "[[ 0.4045535 -0.9145143]\n",
            " [ 0.9145143  0.4045535]], shape=(2, 2), dtype=float32)\n",
            "S:\n",
            " tf.Tensor([5.4649854  0.36596614], shape=(2,), dtype=float32)\n",
            "V:\n",
            " tf.Tensor(\n",
            "[[ 0.5760484  0.8174156]\n",
            " [ 0.8174156 -0.5760484]], shape=(2, 2), dtype=float32)\n"
          ]
        }
      ]
    },
    {
      "cell_type": "markdown",
      "source": [
        "FM 2: Singular Value Decomposition (SVD) for Image Compression\n",
        "\n",
        "## FM 2\n",
        "\n",
        "Singular Value Decomposition (SVD) is a powerful technique in linear algebra with numerous applications in AI and machine learning. One practical application of SVD is image compression. In this exercise, you will apply SVD to compress and reconstruct an image. This exercise will help you understand the SVD algorithm and its application in AI.\n",
        "\n",
        "## Task\n",
        "\n",
        "1. Load an image in grayscale.\n",
        "2. Apply SVD to decompose the image.\n",
        "3. Reconstruct the image using a reduced number of singular values.\n",
        "4. Compare the original and compressed images.\n",
        "5. Compute and display the compression ratio and reconstruction error.\n",
        "\n",
        "## Step-by-Step Instructions\n",
        "\n",
        "### 1. Load an Image in Grayscale\n",
        "\n",
        "First, load an image in grayscale using the `matplotlib` library. For simplicity, you can use an image from the `skimage` library.\n",
        "\n",
        "### 2. Apply SVD\n",
        "\n",
        "Decompose the image matrix using the SVD algorithm.\n",
        "\n",
        "### 3. Reconstruct the Image\n",
        "\n",
        "Reconstruct the image using a reduced number of singular values. You can experiment with different numbers of singular values to see the effect on image quality and compression ratio.\n",
        "\n",
        "### 4. Compare the Images\n",
        "\n",
        "Display the original and compressed images side by side for comparison.\n",
        "\n",
        "### 5. Compute Compression Ratio and Reconstruction Error\n",
        "\n",
        "Calculate the compression ratio and reconstruction error to evaluate the performance of the compression.\n",
        "\n",
        "## Starter Code\n",
        "\n",
        "Here is the starter code to help you get started with the exercise:\n",
        "\n",
        "```python\n",
        "import numpy as np\n",
        "import matplotlib.pyplot as plt\n",
        "from skimage import data\n",
        "from skimage.color import rgb2gray\n",
        "\n",
        "# Step 1: Load an image in grayscale\n",
        "image = rgb2gray(data.astronaut())\n",
        "print(f\"Original image shape: {image.shape}\")\n",
        "\n",
        "# Step 2: Apply SVD\n",
        "U, S, Vt = np.linalg.svd(image, full_matrices=False)\n",
        "\n",
        "# Function to reconstruct image using the first k singular values\n",
        "def reconstruct_image(U, S, Vt, k):\n",
        "    return np.dot(U[:, :k], np.dot(np.diag(S[:k]), Vt[:k, :]))\n",
        "\n",
        "# Step 3: Reconstruct the image using a reduced number of singular values\n",
        "k_values = [5, 20, 50]  # Experiment with different k values\n",
        "reconstructed_images = [reconstruct_image(U, S, Vt, k) for k in k_values]\n",
        "\n",
        "# Step 4: Compare the original and compressed images\n",
        "plt.figure(figsize=(12, 6))\n",
        "plt.subplot(2, 2, 1)\n",
        "plt.title(\"Original Image\")\n",
        "plt.imshow(image, cmap='gray')\n",
        "for i, k in enumerate(k_values):\n",
        "    plt.subplot(2, 2, i + 2)\n",
        "    plt.title(f\"Reconstructed Image (k={k})\")\n",
        "    plt.imshow(reconstructed_images[i], cmap='gray')\n",
        "plt.tight_layout()\n",
        "plt.show()\n",
        "\n",
        "# Step 5: Compute compression ratio and reconstruction error\n",
        "def compression_ratio(original_shape, k):\n",
        "    original_size = np.prod(original_shape)\n",
        "    compressed_size = k * (1 + sum(original_shape))\n",
        "    return original_size / compressed_size\n",
        "\n",
        "def reconstruction_error(original, reconstructed):\n",
        "    return np.linalg.norm(original - reconstructed) / np.linalg.norm(original)\n",
        "\n",
        "for k, reconstructed_image in zip(k_values, reconstructed_images):\n",
        "    cr = compression_ratio(image.shape, k)\n",
        "    re = reconstruction_error(image, reconstructed_image)\n",
        "    print(f\"k={k}: Compression Ratio={cr:.2f}, Reconstruction Error={re:.4f}\")\n",
        "```\n",
        "\n",
        "## Instructions\n",
        "\n",
        "1. **Understand the Starter Code**: Read through the starter code to understand how SVD is applied to image compression also add comments and doocstring to functions and if you can, Use OOP for that.\n",
        "2. **Experiment with Different k Values**: Modify the `k_values` list to experiment with different numbers of singular values. Observe how the image quality and compression ratio change.\n",
        "3. **Visualize the Results**: Run the code to visualize the original and compressed images. Compare the differences.\n",
        "4. **Analyze the Performance**: Use the printed compression ratio and reconstruction error to evaluate the performance of the compression.\n",
        "\n",
        "## Questions\n",
        "\n",
        "1. What happens to the image quality as the number of singular values (`k`) decreases?\n",
        "2. How does the compression ratio change with different `k` values?\n",
        "3. What is the trade-off between image quality and compression ratio?\n"
      ],
      "metadata": {
        "id": "v6r7T2RQyYyM"
      }
    },
    {
      "cell_type": "markdown",
      "source": [
        "**Answer**"
      ],
      "metadata": {
        "id": "Wly0jL8b1Vk8"
      }
    },
    {
      "cell_type": "markdown",
      "source": [
        "### 3.6 Eigenvalues and Eigenvectors"
      ],
      "metadata": {
        "id": "AREvLORxIcCQ"
      }
    },
    {
      "cell_type": "markdown",
      "source": [
        "Eigenvalues and eigenvectors are fundamental in many applications such as PCA and linear transformations."
      ],
      "metadata": {
        "id": "cE9Bt3BxIjbd"
      }
    },
    {
      "cell_type": "markdown",
      "source": [
        "The eigenvalues and eigenvectors of a square matrix $A$ are scalars $\\lambda$ and non-zero vectors $v$ such that $A \\cdot v = \\lambda \\cdot v$.\n",
        "\n",
        "$\n",
        "\\mathbf{A} \\cdot \\mathbf{v} = \\lambda \\cdot \\mathbf{v}\n",
        "$"
      ],
      "metadata": {
        "id": "FaeVl5M3IoXe"
      }
    },
    {
      "cell_type": "code",
      "source": [
        "# Eigenvalues and eigenvectors with NumPy\n",
        "eigvals_np, eigvecs_np = np.linalg.eig(A_np)\n",
        "print(\"NumPy Eigenvalues:\", eigvals_np)\n",
        "print(\"NumPy Eigenvectors:\\n\", eigvecs_np)\n",
        "\n",
        "# Eigenvalues and eigenvectors with PyTorch\n",
        "eigvals_pt, eigvecs_pt = torch.linalg.eig(A_pt)\n",
        "print(\"PyTorch Eigenvalues:\", eigvals_pt)\n",
        "print(\"PyTorch Eigenvectors:\\n\", eigvecs_pt)\n",
        "\n",
        "# Eigenvalues and eigenvectors with TensorFlow\n",
        "eigvals_tf, eigvecs_tf = tf.linalg.eigh(A_tf)\n",
        "print(\"TensorFlow Eigenvalues:\", eigvals_tf)\n",
        "print(\"TensorFlow Eigenvectors:\\n\", eigvecs_tf)\n"
      ],
      "metadata": {
        "colab": {
          "base_uri": "https://localhost:8080/"
        },
        "id": "AY7xDCAqI5BJ",
        "outputId": "636719c2-4994-4980-e022-a9d17cdc3aad"
      },
      "execution_count": 37,
      "outputs": [
        {
          "output_type": "stream",
          "name": "stdout",
          "text": [
            "NumPy Eigenvalues: [-0.37228132  5.37228132]\n",
            "NumPy Eigenvectors:\n",
            " [[-0.82456484 -0.41597356]\n",
            " [ 0.56576746 -0.90937671]]\n",
            "PyTorch Eigenvalues: tensor([-0.3723+0.j,  5.3723+0.j])\n",
            "PyTorch Eigenvectors:\n",
            " tensor([[-0.8246+0.j, -0.4160+0.j],\n",
            "        [ 0.5658+0.j, -0.9094+0.j]])\n",
            "TensorFlow Eigenvalues: tf.Tensor([-0.8541021  5.854102 ], shape=(2,), dtype=float32)\n",
            "TensorFlow Eigenvectors:\n",
            " tf.Tensor(\n",
            "[[-0.85065085 -0.5257311 ]\n",
            " [ 0.5257311  -0.85065085]], shape=(2, 2), dtype=float32)\n"
          ]
        }
      ]
    },
    {
      "cell_type": "markdown",
      "source": [
        "FM 3: Eigenvalues and Eigenvectors for Principal Component Analysis (PCA)\n",
        "\n",
        "## FM 3\n",
        "\n",
        "Eigenvalues and eigenvectors are fundamental concepts in linear algebra with numerous applications in AI and machine learning. One practical application of eigenvalues and eigenvectors is Principal Component Analysis (PCA), a technique used for dimensionality reduction. In this exercise, you will apply PCA to a dataset to reduce its dimensionality and visualize the results. This exercise will help you understand the concept of eigenvalues and eigenvectors and their application in PCA.\n",
        "\n",
        "## Task\n",
        "\n",
        "1. Load a dataset.\n",
        "2. Standardize the dataset.\n",
        "3. Compute the covariance matrix.\n",
        "4. Compute the eigenvalues and eigenvectors of the covariance matrix.\n",
        "5. Select the top k eigenvectors to form a new feature space.\n",
        "6. Transform the dataset to the new feature space.\n",
        "7. Visualize the results.\n",
        "\n",
        "## Step-by-Step Instructions\n",
        "\n",
        "### 1. Load a Dataset\n",
        "\n",
        "First, load a dataset. For simplicity, you can use the Iris dataset from the `sklearn` library.\n",
        "\n",
        "### 2. Standardize the Dataset\n",
        "\n",
        "Standardize the dataset so that each feature has a mean of 0 and a standard deviation of 1.\n",
        "\n",
        "### 3. Compute the Covariance Matrix\n",
        "\n",
        "Compute the covariance matrix of the standardized dataset.\n",
        "\n",
        "### 4. Compute the Eigenvalues and Eigenvectors\n",
        "\n",
        "Compute the eigenvalues and eigenvectors of the covariance matrix.\n",
        "\n",
        "### 5. Select Top k Eigenvectors\n",
        "\n",
        "Select the top k eigenvectors that correspond to the largest eigenvalues to form a new feature space.\n",
        "\n",
        "### 6. Transform the Dataset\n",
        "\n",
        "Transform the dataset to the new feature space using the selected eigenvectors.\n",
        "\n",
        "### 7. Visualize the Results\n",
        "\n",
        "Visualize the results using a scatter plot.\n",
        "\n",
        "## Starter Code\n",
        "\n",
        "Here is the starter code to help you get started with the exercise:\n",
        "\n",
        "```python\n",
        "import numpy as np\n",
        "import matplotlib.pyplot as plt\n",
        "from sklearn.datasets import load_iris\n",
        "from sklearn.preprocessing import StandardScaler\n",
        "\n",
        "# Step 1: Load the dataset\n",
        "data = load_iris()\n",
        "X = data.data\n",
        "y = data.target\n",
        "\n",
        "# Step 2: Standardize the dataset\n",
        "scaler = StandardScaler()\n",
        "X_standardized = scaler.fit_transform(X)\n",
        "\n",
        "# Step 3: Compute the covariance matrix\n",
        "cov_matrix = np.cov(X_standardized.T)\n",
        "\n",
        "# Step 4: Compute the eigenvalues and eigenvectors\n",
        "eigenvalues, eigenvectors = np.linalg.eig(cov_matrix)\n",
        "\n",
        "# Step 5: Select the top k eigenvectors\n",
        "k = 2  # Number of principal components to keep\n",
        "idx = np.argsort(eigenvalues)[::-1]  # Indices of eigenvalues in descending order\n",
        "eigenvectors = eigenvectors[:, idx]  # Sort eigenvectors accordingly\n",
        "top_k_eigenvectors = eigenvectors[:, :k]\n",
        "\n",
        "# Step 6: Transform the dataset\n",
        "X_pca = X_standardized.dot(top_k_eigenvectors)\n",
        "\n",
        "# Step 7: Visualize the results\n",
        "plt.figure(figsize=(8, 6))\n",
        "for target in np.unique(y):\n",
        "    plt.scatter(X_pca[y == target, 0], X_pca[y == target, 1], label=data.target_names[target])\n",
        "plt.xlabel('Principal Component 1')\n",
        "plt.ylabel('Principal Component 2')\n",
        "plt.legend()\n",
        "plt.title('PCA of Iris Dataset')\n",
        "plt.show()\n",
        "```\n",
        "\n",
        "## Instructions\n",
        "\n",
        "1. **Understand the Starter Code**: Read through the starter code to understand how PCA is applied using eigenvalues and eigenvectors.\n",
        "2. **Experiment with Different k Values**: Modify the `k` value to keep different numbers of principal components. Observe how the results change.\n",
        "3. **Visualize the Results**: Run the code to visualize the PCA results. Compare the scatter plots with different `k` values.\n",
        "4. **Analyze the Performance**: Use the scatter plots to evaluate the effectiveness of PCA in separating the different classes in the dataset.\n",
        "\n",
        "## Questions\n",
        "\n",
        "1. How does the scatter plot change as you vary the number of principal components (`k`)?\n",
        "2. What do the principal components represent in the context of the dataset?\n",
        "3. How effective is PCA in reducing the dimensionality of the Iris dataset while preserving the class separation?\n"
      ],
      "metadata": {
        "id": "wcQIq93H0sZc"
      }
    },
    {
      "cell_type": "markdown",
      "source": [
        "**Answer**"
      ],
      "metadata": {
        "id": "sTV-2_Od1PPD"
      }
    },
    {
      "cell_type": "markdown",
      "source": [
        "### 3.7 Applications in AI"
      ],
      "metadata": {
        "id": "g1SuBzEZJI6-"
      }
    },
    {
      "cell_type": "markdown",
      "source": [
        "Linear algebra is essential in various AI applications, including:"
      ],
      "metadata": {
        "id": "gMRlDs_pJLkq"
      }
    },
    {
      "cell_type": "markdown",
      "source": [
        "#### 3.7.1 Principal Component Analysis (PCA)"
      ],
      "metadata": {
        "id": "KE07qlnFJO5M"
      }
    },
    {
      "cell_type": "markdown",
      "source": [
        "PCA is used for dimensionality reduction in ML."
      ],
      "metadata": {
        "id": "7lKsVc-KJS3y"
      }
    },
    {
      "cell_type": "code",
      "source": [
        "from sklearn.decomposition import PCA\n",
        "\n",
        "# Assuming data is a matrix with shape (n_samples, n_features)\n",
        "data = np.random.rand(100, 3)  # Example data\n",
        "df = pd.DataFrame(data)\n",
        "print(df.head())\n",
        "pca = PCA(n_components=2)\n",
        "reduced_data = pca.fit_transform(data)\n",
        "print(\"Reduced data:\\n\", reduced_data)"
      ],
      "metadata": {
        "colab": {
          "base_uri": "https://localhost:8080/"
        },
        "id": "Q8xPjQS6JVkJ",
        "outputId": "ba974caa-0104-4cde-9826-f3cf565e03f8"
      },
      "execution_count": 38,
      "outputs": [
        {
          "output_type": "stream",
          "name": "stdout",
          "text": [
            "          0         1         2\n",
            "0  0.805670  0.585354  0.868271\n",
            "1  0.205841  0.111920  0.269750\n",
            "2  0.057087  0.531170  0.936606\n",
            "3  0.039344  0.122110  0.452199\n",
            "4  0.933875  0.316156  0.507235\n",
            "Reduced data:\n",
            " [[ 4.16687802e-01 -1.80784346e-01]\n",
            " [-3.49809948e-01  4.02083384e-01]\n",
            " [ 1.15555170e-02 -1.01431220e-01]\n",
            " [-3.14282368e-01  3.73617202e-01]\n",
            " [ 2.56696254e-01  1.31274102e-01]\n",
            " [ 9.49439816e-02  2.70471190e-01]\n",
            " [ 6.62814745e-01  3.73242019e-01]\n",
            " [-4.55765100e-02 -3.92467168e-01]\n",
            " [ 9.49524264e-02 -4.25197741e-02]\n",
            " [-3.49895593e-01  4.80721842e-01]\n",
            " [ 2.58449407e-01  2.31186693e-01]\n",
            " [ 4.38103572e-01  3.25372054e-01]\n",
            " [-3.80867733e-01 -3.43330039e-01]\n",
            " [ 3.69198965e-01 -4.36241059e-01]\n",
            " [ 1.60264595e-01 -5.16645136e-02]\n",
            " [-1.87163429e-01 -4.83276939e-02]\n",
            " [ 3.32077277e-01 -2.62046493e-01]\n",
            " [-3.25994115e-01 -1.56908067e-01]\n",
            " [ 2.26775405e-01  3.30135915e-01]\n",
            " [ 6.97510167e-01  3.25179380e-01]\n",
            " [ 6.19551888e-02 -4.31483289e-01]\n",
            " [ 2.54381725e-01 -3.22211929e-01]\n",
            " [ 4.92506727e-02  1.22618558e-01]\n",
            " [ 3.38586907e-01 -3.45598311e-01]\n",
            " [-4.22633766e-01 -2.85001348e-01]\n",
            " [-8.18902116e-02  4.82968807e-01]\n",
            " [ 3.74432172e-02  5.20547514e-02]\n",
            " [-3.08950653e-01  6.51631942e-02]\n",
            " [-4.13507442e-01  3.08458499e-01]\n",
            " [ 8.75562539e-02 -2.17152605e-01]\n",
            " [ 2.29389013e-01  3.94086129e-02]\n",
            " [-3.95321291e-01  5.93863108e-02]\n",
            " [-2.04411321e-01  1.11849067e-01]\n",
            " [ 8.33280131e-02 -8.13250235e-02]\n",
            " [ 2.43282031e-01 -3.82165523e-01]\n",
            " [ 7.27198748e-02  4.69646187e-01]\n",
            " [-6.55068372e-02 -2.08461134e-01]\n",
            " [-6.03794420e-01 -3.75134650e-01]\n",
            " [-6.05299879e-02  1.54746040e-01]\n",
            " [-1.84664753e-01  2.43387649e-01]\n",
            " [-1.77655711e-01 -3.24703097e-01]\n",
            " [-1.14172750e-02 -1.59976895e-01]\n",
            " [-4.65105356e-01  1.22109801e-01]\n",
            " [-5.14221428e-01 -1.46587555e-01]\n",
            " [-3.61709462e-01 -1.79819855e-01]\n",
            " [ 3.88188000e-01  1.41885747e-01]\n",
            " [-5.99597990e-02 -3.37627432e-01]\n",
            " [-7.24329242e-05 -2.03712695e-01]\n",
            " [ 2.68779640e-01 -4.04483105e-01]\n",
            " [-8.74499186e-02  2.52826400e-01]\n",
            " [ 1.59511027e-01 -4.18119617e-01]\n",
            " [ 1.17522715e-01  1.97855589e-01]\n",
            " [-2.89533033e-01 -3.25862800e-01]\n",
            " [ 2.12322614e-01  3.45191731e-01]\n",
            " [-3.42830501e-01 -6.41289295e-02]\n",
            " [-1.67351785e-01 -3.57721537e-01]\n",
            " [-1.19061921e-01  4.40878468e-01]\n",
            " [-1.91328874e-01 -4.13045760e-02]\n",
            " [-1.28616303e-01 -1.16440965e-01]\n",
            " [ 4.60520647e-01  2.79223013e-01]\n",
            " [ 7.34659238e-02  1.54033103e-02]\n",
            " [-2.81311057e-01 -4.69825155e-01]\n",
            " [-2.62581750e-01 -2.42911330e-01]\n",
            " [-4.44473078e-01  4.57513897e-01]\n",
            " [ 1.08121272e-01  2.82538982e-01]\n",
            " [-5.25753140e-01  1.89741889e-01]\n",
            " [ 2.59890359e-01  3.54397133e-01]\n",
            " [ 7.65907948e-02 -1.10428081e-01]\n",
            " [-9.09990673e-02 -4.31401453e-02]\n",
            " [ 2.07733868e-01 -2.59586574e-01]\n",
            " [ 2.25194363e-01 -1.26825644e-01]\n",
            " [ 4.41329429e-02  3.98694619e-01]\n",
            " [ 4.32274989e-01  2.42989270e-01]\n",
            " [-5.46508382e-01  8.30323450e-03]\n",
            " [-2.29561328e-01 -2.57556217e-01]\n",
            " [ 3.44613092e-01 -3.90235180e-01]\n",
            " [-4.63184402e-01  1.33581859e-01]\n",
            " [ 2.31361607e-01 -4.79991234e-01]\n",
            " [ 2.60030966e-01 -8.35629529e-02]\n",
            " [-6.23376102e-01 -2.07743949e-01]\n",
            " [ 2.78512385e-01 -3.53128539e-01]\n",
            " [-4.87655830e-01  2.22134816e-01]\n",
            " [ 2.63418087e-01  3.22459787e-01]\n",
            " [-6.30293986e-02  1.75794452e-01]\n",
            " [-7.99170103e-02 -1.27898318e-01]\n",
            " [ 5.95394098e-01 -1.16711848e-01]\n",
            " [ 5.46793787e-01  1.80511991e-01]\n",
            " [-4.20519940e-01 -3.06990322e-01]\n",
            " [ 3.73379392e-01 -4.54652569e-01]\n",
            " [-1.59426552e-01  2.10981065e-01]\n",
            " [ 9.14559714e-02  2.70452711e-01]\n",
            " [-9.96913318e-02 -5.11822034e-01]\n",
            " [ 4.86800259e-01  2.66889522e-01]\n",
            " [ 3.01703692e-01 -5.14046961e-02]\n",
            " [ 1.68097190e-01  2.79677417e-01]\n",
            " [-1.59512276e-01  3.44735394e-01]\n",
            " [-5.26797574e-01  5.13167394e-01]\n",
            " [ 5.94814803e-01 -1.66950303e-01]\n",
            " [-5.52865677e-02  1.59603406e-01]\n",
            " [ 8.21514730e-02  3.43593980e-01]]\n"
          ]
        }
      ]
    },
    {
      "cell_type": "markdown",
      "source": [
        "#### 3.7.2 Linear Regression"
      ],
      "metadata": {
        "id": "NOfiJjEwJoLd"
      }
    },
    {
      "cell_type": "markdown",
      "source": [
        "Linear regression can be solved using the normal equation, which is derived from linear algebra.\n",
        "\n",
        "$\n",
        "\\theta = (\\mathbf{X}^T \\mathbf{X})^{-1} \\mathbf{X}^T \\mathbf{y}\n",
        "$"
      ],
      "metadata": {
        "id": "1lR-HIObJvM8"
      }
    },
    {
      "cell_type": "code",
      "source": [
        "import numpy as np\n",
        "import matplotlib.pyplot as plt\n",
        "\n",
        "class LinearRegressionModel:\n",
        "    def __init__(self, X, y):\n",
        "        \"\"\"\n",
        "        Initialize the Linear Regression Model with feature matrix X and target vector y.\n",
        "\n",
        "        Parameters:\n",
        "        X (np.ndarray): Feature matrix\n",
        "        y (np.ndarray): Target vector\n",
        "        \"\"\"\n",
        "        self.X = X\n",
        "        self.y = y\n",
        "        self.theta_best = None\n",
        "\n",
        "    @staticmethod\n",
        "    def add_intercept(X):\n",
        "        \"\"\"\n",
        "        Add a column of ones to the feature matrix for the intercept term.\n",
        "\n",
        "        Parameters:\n",
        "        X (np.ndarray): Feature matrix\n",
        "\n",
        "        Returns:\n",
        "        np.ndarray: Feature matrix with intercept term\n",
        "        \"\"\"\n",
        "        return np.c_[np.ones((X.shape[0], 1)), X]\n",
        "\n",
        "    def compute_parameters(self):\n",
        "        \"\"\"\n",
        "        Compute the optimal parameters using the normal equation.\n",
        "\n",
        "        Returns:\n",
        "        np.ndarray: Optimal parameters\n",
        "        \"\"\"\n",
        "        X_b = self.add_intercept(self.X)\n",
        "        self.theta_best = np.linalg.inv(X_b.T.dot(X_b)).dot(X_b.T).dot(self.y)\n",
        "        return self.theta_best\n",
        "\n",
        "    def predict(self, X):\n",
        "        \"\"\"\n",
        "        Predict the target values based on the input features and optimal parameters.\n",
        "\n",
        "        Parameters:\n",
        "        X (np.ndarray): Feature matrix\n",
        "\n",
        "        Returns:\n",
        "        np.ndarray: Predicted target values\n",
        "        \"\"\"\n",
        "        X_b = self.add_intercept(X)\n",
        "        return X_b.dot(self.theta_best)\n",
        "\n",
        "    def visualize(self):\n",
        "        \"\"\"\n",
        "        Visualize the original data points and the regression line.\n",
        "        \"\"\"\n",
        "        # Generate new data points for plotting the regression line\n",
        "        X_new = np.array([[0, 0], [2, 3]])\n",
        "        y_predict = self.predict(X_new)\n",
        "\n",
        "        # Plot the original data points\n",
        "        plt.scatter(self.X[:, 1], self.y, color='blue', label='Original data')\n",
        "\n",
        "        # Plot the regression line\n",
        "        plt.plot(X_new[:, 1], y_predict, color='red', label='Regression line')\n",
        "\n",
        "        # Add labels and legend\n",
        "        plt.xlabel('Feature')\n",
        "        plt.ylabel('Target')\n",
        "        plt.title('Linear Regression')\n",
        "        plt.legend()\n",
        "        plt.show()\n",
        "\n",
        "# Assuming X is the feature matrix and y is the target vector\n",
        "X = np.array([[1, 1], [1, 2], [2, 2], [2, 3]])\n",
        "y = np.dot(X, np.array([1, 2])) + 3\n",
        "\n",
        "# Create an instance of the LinearRegressionModel class\n",
        "model = LinearRegressionModel(X, y)\n",
        "\n",
        "# Compute the optimal parameters\n",
        "theta_best = model.compute_parameters()\n",
        "print(\"Optimal parameters:\", theta_best)\n",
        "\n",
        "# Visualize the results\n",
        "model.visualize()\n"
      ],
      "metadata": {
        "colab": {
          "base_uri": "https://localhost:8080/",
          "height": 489
        },
        "id": "HRD1so0gJtlF",
        "outputId": "bb862447-cb08-4c81-d296-08bdd92fae75"
      },
      "execution_count": 39,
      "outputs": [
        {
          "output_type": "stream",
          "name": "stdout",
          "text": [
            "Optimal parameters: [3. 1. 2.]\n"
          ]
        },
        {
          "output_type": "display_data",
          "data": {
            "text/plain": [
              "<Figure size 640x480 with 1 Axes>"
            ],
            "image/png": "[encoded data removed]"
          },
          "metadata": {}
        }
      ]
    },
    {
      "cell_type": "markdown",
      "source": [
        "## 4.Cost Function ( Error )"
      ],
      "metadata": {
        "id": "3Z9IT60W25r8"
      }
    },
    {
      "cell_type": "markdown",
      "source": [
        "In machine learning, the cost function (or error function) measures how well a model's predictions match the actual data. Minimizing the cost function is crucial for training models. This notebook will guide you through defining and computing cost functions using TensorFlow and PyTorch."
      ],
      "metadata": {
        "id": "A5umjwYrmrby"
      }
    },
    {
      "cell_type": "markdown",
      "source": [
        "### Table of Contents\n",
        "4.1 Introduction to Cost Functions\n",
        "\n",
        "4.2 Mean Squared Error (MSE) in TensorFlow\n",
        "\n",
        "4.3 Mean Squared Error (MSE) in PyTorch\n",
        "\n",
        "4.4 Binary Cross-Entropy Loss in TensorFlow\n",
        "\n",
        "4.5 Binary Cross-Entropy Loss in PyTorch\n",
        "\n",
        "4.6 Applications in AI"
      ],
      "metadata": {
        "id": "skjXU0MemxtM"
      }
    },
    {
      "cell_type": "markdown",
      "source": [
        "### 4.1 Introduction to Cost Functions"
      ],
      "metadata": {
        "id": "z0nxcxuPm9KB"
      }
    },
    {
      "cell_type": "markdown",
      "source": [
        "A cost function quantifies the difference between the predicted values and the actual values. Common cost functions include Mean Squared Error (MSE) for regression tasks and Binary Cross-Entropy Loss for binary classification tasks."
      ],
      "metadata": {
        "id": "yIdcuCxmm_6P"
      }
    },
    {
      "cell_type": "markdown",
      "source": [
        "#### 4.1.1 Mean Squared Error (MSE)"
      ],
      "metadata": {
        "id": "tFu0BpMKnCH8"
      }
    },
    {
      "cell_type": "markdown",
      "source": [
        "$\n",
        "\\text{MSE} = \\frac{1}{n} \\sum_{i=1}^{n} (y_i - \\hat{y}_i)^2\n",
        "$\n"
      ],
      "metadata": {
        "id": "3xaJYP_ynGJB"
      }
    },
    {
      "cell_type": "markdown",
      "source": [
        "#### 4.1.2 Binary Cross-Entropy Loss"
      ],
      "metadata": {
        "id": "aKp4UrMRnKlB"
      }
    },
    {
      "cell_type": "markdown",
      "source": [
        "$\n",
        "\\text{Binary Cross-Entropy} = -\\frac{1}{n} \\sum_{i=1}^{n} \\left( y_i \\log(\\hat{y}_i) + (1 - y_i) \\log(1 - \\hat{y}_i) \\right)\n",
        "$"
      ],
      "metadata": {
        "id": "SOAb36HXnQDN"
      }
    },
    {
      "cell_type": "markdown",
      "source": [
        "### 4.2 Mean Squared Error (MSE) in TensorFlow"
      ],
      "metadata": {
        "id": "rvzPSKIknTIB"
      }
    },
    {
      "cell_type": "markdown",
      "source": [
        "First, let's implement MSE using TensorFlow."
      ],
      "metadata": {
        "id": "UxP-DHjinXLu"
      }
    },
    {
      "cell_type": "code",
      "source": [
        "# Define the true values and predicted values\n",
        "y_true = tf.constant([1.0, 2.0, 3.0])\n",
        "y_pred = tf.constant([1.5, 2.5, 3.5])\n",
        "\n",
        "# Define the MSE function\n",
        "def mse_loss(y_true, y_pred):\n",
        "    return tf.reduce_mean(tf.square(y_true - y_pred))\n",
        "\n",
        "# Compute the MSE\n",
        "mse = mse_loss(y_true, y_pred)\n",
        "print(\"Mean Squared Error (TensorFlow):\", mse.numpy())"
      ],
      "metadata": {
        "colab": {
          "base_uri": "https://localhost:8080/"
        },
        "id": "oJysgth4nW4t",
        "outputId": "0de6d762-3f9c-4c5c-ca1a-540bd0f54a59"
      },
      "execution_count": 40,
      "outputs": [
        {
          "output_type": "stream",
          "name": "stdout",
          "text": [
            "Mean Squared Error (TensorFlow): 0.25\n"
          ]
        }
      ]
    },
    {
      "cell_type": "markdown",
      "source": [
        "### 4.3 Mean Squared Error (MSE) in PyTorch"
      ],
      "metadata": {
        "id": "V7WJU9d1nf8B"
      }
    },
    {
      "cell_type": "markdown",
      "source": [
        "Now, let's implement MSE using PyTorch."
      ],
      "metadata": {
        "id": "v4szC1j-nk7Q"
      }
    },
    {
      "cell_type": "code",
      "source": [
        "# Define the true values and predicted values\n",
        "y_true = torch.tensor([1.0, 2.0, 3.0])\n",
        "y_pred = torch.tensor([1.5, 2.5, 3.5])\n",
        "\n",
        "# Define the MSE function\n",
        "def mse_loss(y_true, y_pred):\n",
        "    return torch.mean((y_true - y_pred) ** 2)\n",
        "\n",
        "# Compute the MSE\n",
        "mse = mse_loss(y_true, y_pred)\n",
        "print(\"Mean Squared Error (PyTorch):\", mse.item())"
      ],
      "metadata": {
        "colab": {
          "base_uri": "https://localhost:8080/"
        },
        "id": "q0JESHi3nn9T",
        "outputId": "1de9aac6-1694-42f3-ed05-9fbb486b5d15"
      },
      "execution_count": 41,
      "outputs": [
        {
          "output_type": "stream",
          "name": "stdout",
          "text": [
            "Mean Squared Error (PyTorch): 0.25\n"
          ]
        }
      ]
    },
    {
      "cell_type": "markdown",
      "source": [
        "### 4.4 Binary Cross-Entropy Loss in TensorFlow"
      ],
      "metadata": {
        "id": "7F59wICFnrLB"
      }
    },
    {
      "cell_type": "markdown",
      "source": [
        "Next, we'll implement Binary Cross-Entropy Loss using TensorFlow."
      ],
      "metadata": {
        "id": "HfsLPcSBnuFL"
      }
    },
    {
      "cell_type": "code",
      "source": [
        "# Define the true values and predicted values\n",
        "y_true = tf.constant([1.0, 0.0, 1.0])\n",
        "y_pred = tf.constant([0.9, 0.2, 0.7])\n",
        "\n",
        "# Define the Binary Cross-Entropy Loss function\n",
        "bce_loss = tf.keras.losses.BinaryCrossentropy()\n",
        "\n",
        "# Compute the Binary Cross-Entropy Loss\n",
        "bce = bce_loss(y_true, y_pred)\n",
        "print(\"Binary Cross-Entropy Loss (TensorFlow):\", bce.numpy())\n"
      ],
      "metadata": {
        "colab": {
          "base_uri": "https://localhost:8080/"
        },
        "id": "5ZkPl6u0nwvD",
        "outputId": "6a67d114-61a9-45fd-e305-e7a2a77960e4"
      },
      "execution_count": 42,
      "outputs": [
        {
          "output_type": "stream",
          "name": "stdout",
          "text": [
            "Binary Cross-Entropy Loss (TensorFlow): 0.22839285\n"
          ]
        }
      ]
    },
    {
      "cell_type": "markdown",
      "source": [
        "### 4.5 Binary Cross-Entropy Loss in PyTorch"
      ],
      "metadata": {
        "id": "O_BXc-oYnzqb"
      }
    },
    {
      "cell_type": "markdown",
      "source": [
        "Now, we'll implement Binary Cross-Entropy Loss using PyTorch."
      ],
      "metadata": {
        "id": "oMl6nGUNn2Ni"
      }
    },
    {
      "cell_type": "code",
      "source": [
        "import torch.nn.functional as F\n",
        "\n",
        "# Define the true values and predicted values\n",
        "y_true = torch.tensor([1.0, 0.0, 1.0])\n",
        "y_pred = torch.tensor([0.9, 0.2, 0.7])\n",
        "\n",
        "# Define the Binary Cross-Entropy Loss function\n",
        "bce_loss = F.binary_cross_entropy\n",
        "\n",
        "# Compute the Binary Cross-Entropy Loss\n",
        "bce = bce_loss(y_pred, y_true)\n",
        "print(\"Binary Cross-Entropy Loss (PyTorch):\", bce.item())\n"
      ],
      "metadata": {
        "colab": {
          "base_uri": "https://localhost:8080/"
        },
        "id": "bK69ZyPIn5J2",
        "outputId": "52b6b659-a2d7-4b78-f75d-b02a8176e14e"
      },
      "execution_count": 43,
      "outputs": [
        {
          "output_type": "stream",
          "name": "stdout",
          "text": [
            "Binary Cross-Entropy Loss (PyTorch): 0.22839303314685822\n"
          ]
        }
      ]
    },
    {
      "cell_type": "markdown",
      "source": [
        "## 5.Optimizers"
      ],
      "metadata": {
        "id": "R1UNi-J_2_-g"
      }
    },
    {
      "cell_type": "markdown",
      "source": [
        "In this notebook, we will focus on implementing and using the Stochastic Gradient Descent (SGD) and Adam optimizers with TensorFlow. These optimization techniques are crucial for training machine learning models."
      ],
      "metadata": {
        "id": "HLP8jx9tu4QV"
      }
    },
    {
      "cell_type": "markdown",
      "source": [
        "## Table of Contents\n",
        "5.1 Introduction to Optimization\n",
        "\n",
        "5.2 SGD and Adam in TensorFlow"
      ],
      "metadata": {
        "id": "PAtMfGTwvIeL"
      }
    },
    {
      "cell_type": "markdown",
      "source": [
        "### 5.1 Introduction to Optimization"
      ],
      "metadata": {
        "id": "cqkgJnQ4vNpz"
      }
    },
    {
      "cell_type": "markdown",
      "source": [
        "Optimization is the process of finding the best parameters for a given model that minimize or maximize a specific cost function. SGD and Adam are two popular optimization algorithms used in machine learning."
      ],
      "metadata": {
        "id": "ym6vxJ31vQqd"
      }
    },
    {
      "cell_type": "markdown",
      "source": [
        "#### 5.1.1 Stochastic Gradient Descent (SGD)\n"
      ],
      "metadata": {
        "id": "89sttJilvSUp"
      }
    },
    {
      "cell_type": "markdown",
      "source": [
        "SGD updates the parameters by computing the gradient of the cost function with respect to the parameters and adjusting the parameters in the opposite direction of the gradient.\n",
        "\n",
        "$\n",
        "\\theta = \\theta - \\eta \\cdot \\nabla_\\theta J(\\theta)\n",
        "$"
      ],
      "metadata": {
        "id": "kYT0NyWYvWEq"
      }
    },
    {
      "cell_type": "markdown",
      "source": [
        "#### 5.1.2 Adam Optimizer"
      ],
      "metadata": {
        "id": "pKQlF6gpvaNP"
      }
    },
    {
      "cell_type": "markdown",
      "source": [
        "Adam is an adaptive learning rate optimization algorithm that computes adaptive learning rates for each parameter. It combines the advantages of two other extensions of SGD: AdaGrad and RMSProp."
      ],
      "metadata": {
        "id": "4EGwMvyQvdIb"
      }
    },
    {
      "cell_type": "markdown",
      "source": [
        "### 5.2 SGD and Adam in TensorFlow"
      ],
      "metadata": {
        "id": "P8jQRVh7vf7O"
      }
    },
    {
      "cell_type": "markdown",
      "source": [
        "TensorFlow provides built-in optimizers for SGD and Adam, making it straightforward to use these algorithms for training machine learning models."
      ],
      "metadata": {
        "id": "E2CASU_Bvi2V"
      }
    },
    {
      "cell_type": "markdown",
      "source": [
        "#### 5.2.1 Stochastic Gradient Descent (SGD) in TensorFlow"
      ],
      "metadata": {
        "id": "sI-TgHrWvkRW"
      }
    },
    {
      "cell_type": "markdown",
      "source": [
        "Let's define a simple linear regression model and optimize it using SGD."
      ],
      "metadata": {
        "id": "aiSDAV59vncc"
      }
    },
    {
      "cell_type": "code",
      "source": [
        "# Generate synthetic data\n",
        "np.random.seed(0)\n",
        "X = np.random.rand(100, 1)\n",
        "y = 2 * X + 1 + 0.1 * np.random.randn(100, 1)\n",
        "\n",
        "# Define a simple linear regression model\n",
        "class LinearModel(tf.Module):\n",
        "    def __init__(self):\n",
        "        self.w = tf.Variable(tf.random.normal([1]))\n",
        "        self.b = tf.Variable(tf.random.normal([1]))\n",
        "\n",
        "    def __call__(self, x):\n",
        "        return self.w * x + self.b\n",
        "\n",
        "# Define the mean squared error loss function\n",
        "def mse_loss(y_true, y_pred):\n",
        "    return tf.reduce_mean(tf.square(y_true - y_pred))\n",
        "\n",
        "# Define the training function\n",
        "def train_sgd(model, X, y, learning_rate, num_epochs):\n",
        "    optimizer = tf.optimizers.SGD(learning_rate)\n",
        "\n",
        "    for epoch in range(num_epochs):\n",
        "        with tf.GradientTape() as tape:\n",
        "            y_pred = model(X)\n",
        "            loss = mse_loss(y, y_pred)\n",
        "\n",
        "        gradients = tape.gradient(loss, [model.w, model.b])\n",
        "        optimizer.apply_gradients(zip(gradients, [model.w, model.b]))\n",
        "\n",
        "        if epoch % 10 == 0:\n",
        "            print(f\"Epoch {epoch}: Loss = {loss.numpy()}\")\n",
        "\n",
        "    return model\n",
        "\n",
        "# Instantiate the model\n",
        "model = LinearModel()\n",
        "\n",
        "# Train the model using SGD\n",
        "trained_model_sgd = train_sgd(model, X, y, learning_rate=0.01, num_epochs=100)\n",
        "\n",
        "# Plot the results\n",
        "plt.scatter(X, y, color='blue', label='Data')\n",
        "plt.plot(X, trained_model_sgd(X), color='red', label='Fitted line (SGD)')\n",
        "plt.xlabel('Feature')\n",
        "plt.ylabel('Target')\n",
        "plt.legend()\n",
        "plt.show()\n"
      ],
      "metadata": {
        "colab": {
          "base_uri": "https://localhost:8080/",
          "height": 623
        },
        "id": "invoE5KevtEG",
        "outputId": "635045cd-581e-4615-e096-c530ff2c2bd6"
      },
      "execution_count": 44,
      "outputs": [
        {
          "output_type": "stream",
          "name": "stdout",
          "text": [
            "Epoch 0: Loss = 4.5343732833862305\n",
            "Epoch 10: Loss = 2.756895065307617\n",
            "Epoch 20: Loss = 1.6808264255523682\n",
            "Epoch 30: Loss = 1.029301643371582\n",
            "Epoch 40: Loss = 0.6347438097000122\n",
            "Epoch 50: Loss = 0.39572471380233765\n",
            "Epoch 60: Loss = 0.25085315108299255\n",
            "Epoch 70: Loss = 0.16297121345996857\n",
            "Epoch 80: Loss = 0.10958810895681381\n",
            "Epoch 90: Loss = 0.07709091901779175\n"
          ]
        },
        {
          "output_type": "display_data",
          "data": {
            "text/plain": [
              "<Figure size 640x480 with 1 Axes>"
            ],
            "image/png": "[encoded data removed]"
          },
          "metadata": {}
        }
      ]
    },
    {
      "cell_type": "markdown",
      "source": [
        "#### 5.2.2 Adam in TensorFlow"
      ],
      "metadata": {
        "id": "SUK21pS-vv-4"
      }
    },
    {
      "cell_type": "markdown",
      "source": [
        "Now, let's optimize the same linear regression model using the Adam optimizer."
      ],
      "metadata": {
        "id": "pDoL4uagvyam"
      }
    },
    {
      "cell_type": "markdown",
      "source": [],
      "metadata": {
        "id": "FiL41-2Lv363"
      }
    },
    {
      "cell_type": "code",
      "source": [
        "# Define the training function\n",
        "def train_adam(model, X, y, learning_rate, num_epochs):\n",
        "    optimizer = tf.optimizers.Adam(learning_rate)\n",
        "\n",
        "    for epoch in range(num_epochs):\n",
        "        with tf.GradientTape() as tape:\n",
        "            y_pred = model(X)\n",
        "            loss = mse_loss(y, y_pred)\n",
        "\n",
        "        gradients = tape.gradient(loss, [model.w, model.b])\n",
        "        optimizer.apply_gradients(zip(gradients, [model.w, model.b]))\n",
        "\n",
        "        if epoch % 10 == 0:\n",
        "            print(f\"Epoch {epoch}: Loss = {loss.numpy()}\")\n",
        "\n",
        "    return model\n",
        "\n",
        "# Instantiate the model\n",
        "model = LinearModel()\n",
        "\n",
        "# Train the model using Adam\n",
        "trained_model_adam = train_adam(model, X, y, learning_rate=0.01, num_epochs=100)\n",
        "\n",
        "# Plot the results\n",
        "plt.scatter(X, y, color='blue', label='Data')\n",
        "plt.plot(X, trained_model_adam(X), color='green', label='Fitted line (Adam)')\n",
        "plt.xlabel('Feature')\n",
        "plt.ylabel('Target')\n",
        "plt.legend()\n",
        "plt.show()"
      ],
      "metadata": {
        "colab": {
          "base_uri": "https://localhost:8080/",
          "height": 623
        },
        "id": "9O7SMf-kv4lG",
        "outputId": "76707c95-6aa9-427f-f8f3-4263f3819525"
      },
      "execution_count": 45,
      "outputs": [
        {
          "output_type": "stream",
          "name": "stdout",
          "text": [
            "Epoch 0: Loss = 10.29827880859375\n",
            "Epoch 10: Loss = 9.360095977783203\n",
            "Epoch 20: Loss = 8.474302291870117\n",
            "Epoch 30: Loss = 7.645565032958984\n",
            "Epoch 40: Loss = 6.87583065032959\n",
            "Epoch 50: Loss = 6.164862632751465\n",
            "Epoch 60: Loss = 5.511025905609131\n",
            "Epoch 70: Loss = 4.9119343757629395\n",
            "Epoch 80: Loss = 4.3648481369018555\n",
            "Epoch 90: Loss = 3.866879940032959\n"
          ]
        },
        {
          "output_type": "display_data",
          "data": {
            "text/plain": [
              "<Figure size 640x480 with 1 Axes>"
            ],
            "image/png": "[encoded data removed]"
          },
          "metadata": {}
        }
      ]
    }
  ]
}